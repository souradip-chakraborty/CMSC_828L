{
 "cells": [
  {
   "cell_type": "markdown",
   "id": "c4a971a1",
   "metadata": {},
   "source": [
    "\n",
    "#### Submitted : Souradip Chakraborty \n",
    "#### UID : 118103136"
   ]
  },
  {
   "cell_type": "code",
   "execution_count": 1,
   "id": "56472d2c",
   "metadata": {},
   "outputs": [],
   "source": [
    "import os\n",
    "import numpy as np\n",
    "from utils import run_tests\n",
    "import data_generators\n",
    "import copy\n",
    "import pandas as pd\n",
    "from mpl_toolkits.mplot3d import Axes3D\n",
    "import matplotlib.pyplot as plt\n",
    "import seaborn as sns\n",
    "from utils import run_tests\n",
    "from tqdm import tqdm\n",
    "from sklearn.metrics import r2_score\n",
    "import sol_1a, sol_1b, sol_2a, sol_2b, sol_3a, sol_3b, sol_4a, sol_4b, sol_mnist\n",
    "import public_tests as public_tests"
   ]
  },
  {
   "cell_type": "code",
   "execution_count": 2,
   "id": "75a95443",
   "metadata": {},
   "outputs": [],
   "source": [
    "def data_1a():\n",
    "    x = (np.linspace(-2, 2, 60))[:, np.newaxis]\n",
    "    y = 7*x + 3 + np.random.randn(60, 1)*0.9\n",
    "    x_train = x[::2]\n",
    "    y_train = y[::2]\n",
    "\n",
    "    x_test = x[1::2]\n",
    "    y_test = y[1::2]\n",
    "    return {\n",
    "        \"train\": (x_train, y_train),\n",
    "        \"test\": (x_test, y_test)\n",
    "    }\n",
    "\n",
    "\n",
    "def plot_data(module_name):\n",
    "    \n",
    "    #initialize\n",
    "    num_correct, num_total = 0,0\n",
    "    \n",
    "    #get the dataset\n",
    "#     dataset = data_generators.generate_default_data(module_name)\n",
    "    dataset = data_1a()\n",
    "    \n",
    "    #train_data\n",
    "    x_train, y_train = dataset[\"train\"]\n",
    "    \n",
    "    #test_data\n",
    "    x_test, y_test = dataset[\"test\"]\n",
    "    \n",
    "    #plot\n",
    "    plt.scatter(x_train, y_train)\n",
    "    plt.ylabel(\"Y_train\")\n",
    "    plt.xlabel(\"X_train\")\n",
    "    plt.title(\"Training Dataset {}\".format(module_name))\n",
    "    plt.show()\n",
    "    sns.set()\n",
    "\n",
    "def compute_mse(pred, y):\n",
    "    return 1/2 * ((pred - y)**2).mean()\n",
    "    \n",
    "\n",
    "def test_final_mse(module_name, sol):\n",
    "        \n",
    "    #define the dataset\n",
    "    dataset = data_generators.generate_default_data(module_name)\n",
    "    trainer = sol.Trainer(lr)\n",
    "     \n",
    "    #initialize the network with \n",
    "    trainer.setup(dataset[\"train\"])\n",
    "    \n",
    "    #train the network\n",
    "    trainer.train(num_iter=trainer.get_num_iters_on_public_test())\n",
    "    pred_train  = trainer.network.forward()\n",
    "    \n",
    "    #Is final training loss less than some threshold?\n",
    "    mse_tr = compute_mse(pred_train, dataset[\"train\"][1])\n",
    "    print(\"Training mse\", mse_tr)\n",
    "    \n",
    "    #test the data on hold-out set\n",
    "    trainer.data_layer.set_data(dataset[\"test\"][0])\n",
    "    pred = trainer.network.forward()\n",
    "    \n",
    "    #Is final training loss less than some threshold?\n",
    "    mse_te = compute_mse(pred, dataset[\"test\"][1])\n",
    "    print(\"Test mse\", mse_te)\n",
    "    \n",
    "    return trainer"
   ]
  },
  {
   "cell_type": "code",
   "execution_count": 3,
   "id": "6498db92",
   "metadata": {},
   "outputs": [
    {
     "data": {
      "image/png": "[encoded data removed]",
      "text/plain": [
       "<Figure size 432x288 with 1 Axes>"
      ]
     },
     "metadata": {
      "needs_background": "light"
     },
     "output_type": "display_data"
    }
   ],
   "source": [
    "module_name = 'sol_1a'\n",
    "plot_data(module_name)"
   ]
  },
  {
   "cell_type": "markdown",
   "id": "77821bf9",
   "metadata": {},
   "source": [
    "### 1a : Plot showing the training data and the function that your network computes\n",
    "\n",
    "The above plot represents the true dataset generated using the equation $y = 7x + 3 + \\lambda \\eta$ where $\\eta \\sim N(0,1)$. The data is generated as per the equation where we first generate the feature variable $x$ in a range, which has been taken as $-2,2$ and we take 60 sample points. Then, we use the above equation to get y. However, we add stochasticity to our $y$ by adding $\\eta \\sim N(0,1)$ and multiply with a coefficient. It can be easily seen as we increase the magnitude of $\\eta$, the data becomes more noisy and it becomes harder to fit the same regression model"
   ]
  },
  {
   "cell_type": "markdown",
   "id": "15803fc5",
   "metadata": {},
   "source": [
    "#### Training model"
   ]
  },
  {
   "cell_type": "code",
   "execution_count": 4,
   "id": "35119201",
   "metadata": {},
   "outputs": [
    {
     "name": "stdout",
     "output_type": "stream",
     "text": [
      "Training mse 0.006698267339882832\n",
      "Test mse 0.00405390456981813\n"
     ]
    }
   ],
   "source": [
    "lr = 0.01\n",
    "trainer_out = test_final_mse(module_name, sol_1a)"
   ]
  },
  {
   "cell_type": "markdown",
   "id": "fba948dc",
   "metadata": {},
   "source": [
    "#### Get the model parameters and plot"
   ]
  },
  {
   "cell_type": "code",
   "execution_count": 5,
   "id": "46ffcc7a",
   "metadata": {},
   "outputs": [
    {
     "name": "stdout",
     "output_type": "stream",
     "text": [
      "Predicted parameters are :[7.022573514311726, 3.0107452155751973]\n"
     ]
    },
    {
     "data": {
      "text/plain": [
       "<matplotlib.legend.Legend at 0x7f87b00af6a0>"
      ]
     },
     "execution_count": 5,
     "metadata": {},
     "output_type": "execute_result"
    },
    {
     "data": {
      "image/png": "[encoded data removed]",
      "text/plain": [
       "<Figure size 432x288 with 1 Axes>"
      ]
     },
     "metadata": {},
     "output_type": "display_data"
    }
   ],
   "source": [
    "params = []\n",
    "for m in trainer_out.network.get_modules_with_parameters() :\n",
    "    params.append(m.W[0][0])\n",
    "print ('Predicted parameters are :' + str(params))\n",
    "\n",
    "#Get the plot for the 1-d function\n",
    "dataset = data_generators.generate_default_data(module_name)\n",
    "\n",
    "x_train = dataset['train'][0]\n",
    "y_train = dataset['train'][1]\n",
    "\n",
    "x_test = dataset['test'][0]\n",
    "y_test = dataset['test'][1]\n",
    "\n",
    "#plot for train and test\n",
    "plt.scatter(x_train,y_train, color='green', label=\"Train Dataset\")\n",
    "plt.plot(x_train, params[0]*x_train + params[1], color='darkblue', label=\"Fitted regression\")\n",
    "plt.ylabel(\"Y_train\")\n",
    "plt.xlabel(\"X_train\")\n",
    "plt.legend()\n"
   ]
  },
  {
   "cell_type": "markdown",
   "id": "91fbe898",
   "metadata": {},
   "source": [
    "It can also be clearly seen from the below plot that the performance is equally good in test data which indicates sign of generaliation and no overfitting. "
   ]
  },
  {
   "cell_type": "code",
   "execution_count": 6,
   "id": "869b441b",
   "metadata": {},
   "outputs": [
    {
     "data": {
      "text/plain": [
       "<matplotlib.legend.Legend at 0x7f87e0dffdc0>"
      ]
     },
     "execution_count": 6,
     "metadata": {},
     "output_type": "execute_result"
    },
    {
     "data": {
      "image/png": "[encoded data removed]",
      "text/plain": [
       "<Figure size 432x288 with 1 Axes>"
      ]
     },
     "metadata": {},
     "output_type": "display_data"
    }
   ],
   "source": [
    "#plot for train and test\n",
    "plt.scatter(x_test,y_test, color='green', label=\"Test Dataset\")\n",
    "plt.plot(x_test, params[0]*x_test + params[1], color='darkblue', label=\"Fitted regression\")\n",
    "plt.ylabel(\"Y_test\")\n",
    "plt.xlabel(\"X_test\")\n",
    "plt.legend()\n"
   ]
  },
  {
   "cell_type": "markdown",
   "id": "811c03ed",
   "metadata": {},
   "source": [
    "Now, if we increase the noise in the data generation and try to implement the same process, we can see the variation below, that the line doesn't go through all the points but the line of best fit is constructed."
   ]
  },
  {
   "cell_type": "markdown",
   "id": "11dfe7e8",
   "metadata": {},
   "source": [
    " "
   ]
  },
  {
   "cell_type": "markdown",
   "id": "6e683210",
   "metadata": {},
   "source": [
    "### 1b. Performasimilarexperimentusinghigher-dimensional input\n",
    "\n",
    "Here we perform the same experiment, but we generate high-dimensional data and try the same excersise. We generate a 2 dimensional feature $X$ in a span of $-2, 2$ and we generate $y$ using the equation $2x_1 - 3x_2 + 5$. Then add gaussian noise as before to add stochasiticity to our dataset. As mentioned before, we add a constant factor of $0.1$ with the $\\eta$ and as we increase it the magnitude of noise increases"
   ]
  },
  {
   "cell_type": "code",
   "execution_count": 7,
   "id": "5c6bf512",
   "metadata": {},
   "outputs": [],
   "source": [
    "#Read the data\n",
    "dataset = data_generators.data_1b()\n",
    "x_train = dataset['train'][0]\n",
    "y_train = dataset['train'][1]\n",
    "\n",
    "x_test = dataset['test'][0]\n",
    "y_test = dataset['test'][1]\n"
   ]
  },
  {
   "cell_type": "code",
   "execution_count": 8,
   "id": "e691b7f2",
   "metadata": {},
   "outputs": [
    {
     "data": {
      "text/plain": [
       "Text(0.5, 1.0, 'Scatter Plot in the Feature Space')"
      ]
     },
     "execution_count": 8,
     "metadata": {},
     "output_type": "execute_result"
    },
    {
     "data": {
      "image/png": "[encoded data removed]",
      "text/plain": [
       "<Figure size 432x288 with 1 Axes>"
      ]
     },
     "metadata": {},
     "output_type": "display_data"
    }
   ],
   "source": [
    "plt.scatter(x_train[:,0], x_train[:,1])\n",
    "plt.ylabel(\"Feature 2\")\n",
    "plt.xlabel(\"Feature 1\")\n",
    "plt.title('Scatter Plot in the Feature Space')"
   ]
  },
  {
   "cell_type": "code",
   "execution_count": 9,
   "id": "92992b1b",
   "metadata": {},
   "outputs": [
    {
     "name": "stdout",
     "output_type": "stream",
     "text": [
      "Training mse 0.0048271322721568964\n",
      "Test mse 0.004977502719641055\n"
     ]
    }
   ],
   "source": [
    "module_name = 'sol_1b'\n",
    "lr = 0.2\n",
    "trainer_out = test_final_mse(module_name, sol_1b)"
   ]
  },
  {
   "cell_type": "code",
   "execution_count": 10,
   "id": "7de055f6",
   "metadata": {},
   "outputs": [
    {
     "name": "stdout",
     "output_type": "stream",
     "text": [
      "Predicted parameters are :[array([[ 1.99967226],\n",
      "       [-2.99995548]]), array([[4.99526843]])]\n"
     ]
    }
   ],
   "source": [
    "params = []\n",
    "for m in trainer_out.network.get_modules_with_parameters() :\n",
    "    params.append(m.W)\n",
    "print ('Predicted parameters are :' + str(params))"
   ]
  },
  {
   "cell_type": "markdown",
   "id": "52c9b328",
   "metadata": {},
   "source": [
    "As it can be observed that the predicted parameters are extremely close to the true parameters which indicates good performance."
   ]
  },
  {
   "cell_type": "markdown",
   "id": "6e0ebaba",
   "metadata": {},
   "source": [
    "### 1c. How difficult was it to find an appropriate set of hyperparameters to solve this problem\n",
    "\n",
    "Hyperparameter optimization for this task was not extremely difficult as its a linear problem with a convex loss function and it easily converges. the primary hyperparameter for this is the learning rate $\\alpha$. The below plot shows the variation of the $MSE$ with the hyperparameters for problem $1a \\& 1b$"
   ]
  },
  {
   "cell_type": "code",
   "execution_count": 11,
   "id": "812aaff8",
   "metadata": {},
   "outputs": [],
   "source": [
    "def test_final_mse(module_name, sol, lr):\n",
    "        \n",
    "    #define the dataset\n",
    "    dataset = data_generators.generate_default_data(module_name)\n",
    "    trainer = sol.Trainer(lr)\n",
    "     \n",
    "    #initialize the network with \n",
    "    trainer.setup(dataset[\"train\"])\n",
    "    \n",
    "    #train the network\n",
    "    trainer.train(num_iter=trainer.get_num_iters_on_public_test())\n",
    "    pred_train  = trainer.network.forward()\n",
    "    \n",
    "    #Is final training loss less than some threshold?\n",
    "    mse_tr = compute_mse(pred_train, dataset[\"train\"][1])\n",
    "    print(\"Training mse\", mse_tr)\n",
    "    \n",
    "    #test the data on hold-out set\n",
    "    trainer.data_layer.set_data(dataset[\"test\"][0])\n",
    "    pred = trainer.network.forward()\n",
    "    \n",
    "    #Is final training loss less than some threshold?\n",
    "    mse_te = compute_mse(pred, dataset[\"test\"][1])\n",
    "    print(\"Test mse\", mse_te)\n",
    "    \n",
    "    return trainer, mse_te"
   ]
  },
  {
   "cell_type": "code",
   "execution_count": 12,
   "id": "d12985d4",
   "metadata": {
    "scrolled": true
   },
   "outputs": [
    {
     "name": "stderr",
     "output_type": "stream",
     "text": [
      "  6%|▋         | 1/16 [00:01<00:17,  1.16s/it]"
     ]
    },
    {
     "name": "stdout",
     "output_type": "stream",
     "text": [
      "Training mse 49.847741684624516\n",
      "Test mse 51.315707884693936\n"
     ]
    },
    {
     "name": "stderr",
     "output_type": "stream",
     "text": [
      "\r",
      " 12%|█▎        | 2/16 [00:02<00:15,  1.14s/it]"
     ]
    },
    {
     "name": "stdout",
     "output_type": "stream",
     "text": [
      "Training mse 2.9542857339737965\n",
      "Test mse 3.270052171679088\n"
     ]
    },
    {
     "name": "stderr",
     "output_type": "stream",
     "text": [
      "\r",
      " 19%|█▉        | 3/16 [00:03<00:14,  1.14s/it]"
     ]
    },
    {
     "name": "stdout",
     "output_type": "stream",
     "text": [
      "Training mse 0.31335195978815217\n",
      "Test mse 0.31355604223117756\n"
     ]
    },
    {
     "name": "stderr",
     "output_type": "stream",
     "text": [
      "\r",
      " 25%|██▌       | 4/16 [00:04<00:13,  1.15s/it]"
     ]
    },
    {
     "name": "stdout",
     "output_type": "stream",
     "text": [
      "Training mse 0.0028510838026828173\n",
      "Test mse 0.004063401808247527\n"
     ]
    },
    {
     "name": "stderr",
     "output_type": "stream",
     "text": [
      "\r",
      " 31%|███▏      | 5/16 [00:05<00:12,  1.16s/it]"
     ]
    },
    {
     "name": "stdout",
     "output_type": "stream",
     "text": [
      "Training mse 0.003498035032275408\n",
      "Test mse 0.003934737603622898\n"
     ]
    },
    {
     "name": "stderr",
     "output_type": "stream",
     "text": [
      "\r",
      " 38%|███▊      | 6/16 [00:06<00:11,  1.15s/it]"
     ]
    },
    {
     "name": "stdout",
     "output_type": "stream",
     "text": [
      "Training mse 0.005572931694457297\n",
      "Test mse 0.005584251325419443\n"
     ]
    },
    {
     "name": "stderr",
     "output_type": "stream",
     "text": [
      "\r",
      " 44%|████▍     | 7/16 [00:08<00:10,  1.16s/it]"
     ]
    },
    {
     "name": "stdout",
     "output_type": "stream",
     "text": [
      "Training mse 0.00684955455782631\n",
      "Test mse 0.006475462049471845\n"
     ]
    },
    {
     "name": "stderr",
     "output_type": "stream",
     "text": [
      "\r",
      " 50%|█████     | 8/16 [00:09<00:09,  1.17s/it]"
     ]
    },
    {
     "name": "stdout",
     "output_type": "stream",
     "text": [
      "Training mse 0.003906605860319569\n",
      "Test mse 0.0051549486857420225\n"
     ]
    },
    {
     "name": "stderr",
     "output_type": "stream",
     "text": [
      "\r",
      " 56%|█████▋    | 9/16 [00:10<00:08,  1.17s/it]"
     ]
    },
    {
     "name": "stdout",
     "output_type": "stream",
     "text": [
      "Training mse 0.004887950119941199\n",
      "Test mse 0.004956531157656949\n"
     ]
    },
    {
     "name": "stderr",
     "output_type": "stream",
     "text": [
      "\r",
      " 62%|██████▎   | 10/16 [00:11<00:06,  1.16s/it]"
     ]
    },
    {
     "name": "stdout",
     "output_type": "stream",
     "text": [
      "Training mse 0.0037933096425594366\n",
      "Test mse 0.00462492146620245\n"
     ]
    },
    {
     "name": "stderr",
     "output_type": "stream",
     "text": [
      "\r",
      " 69%|██████▉   | 11/16 [00:12<00:05,  1.16s/it]"
     ]
    },
    {
     "name": "stdout",
     "output_type": "stream",
     "text": [
      "Training mse 0.00458112343742106\n",
      "Test mse 0.0036792216893684246\n"
     ]
    },
    {
     "name": "stderr",
     "output_type": "stream",
     "text": [
      "\r",
      " 75%|███████▌  | 12/16 [00:13<00:04,  1.15s/it]"
     ]
    },
    {
     "name": "stdout",
     "output_type": "stream",
     "text": [
      "Training mse 0.004931588771927603\n",
      "Test mse 0.0051770443093320335\n"
     ]
    },
    {
     "name": "stderr",
     "output_type": "stream",
     "text": [
      "\r",
      " 81%|████████▏ | 13/16 [00:15<00:03,  1.16s/it]"
     ]
    },
    {
     "name": "stdout",
     "output_type": "stream",
     "text": [
      "Training mse 0.0027881491247816964\n",
      "Test mse 0.006966052634701772\n"
     ]
    },
    {
     "name": "stderr",
     "output_type": "stream",
     "text": [
      "\r",
      " 88%|████████▊ | 14/16 [00:16<00:02,  1.36s/it]"
     ]
    },
    {
     "name": "stdout",
     "output_type": "stream",
     "text": [
      "Training mse 0.0045707252602117995\n",
      "Test mse 0.0039516585680296435\n"
     ]
    },
    {
     "name": "stderr",
     "output_type": "stream",
     "text": [
      "\r",
      " 94%|█████████▍| 15/16 [00:18<00:01,  1.52s/it]"
     ]
    },
    {
     "name": "stdout",
     "output_type": "stream",
     "text": [
      "Training mse 0.0025112465321656054\n",
      "Test mse 0.005060167459034968\n"
     ]
    },
    {
     "name": "stderr",
     "output_type": "stream",
     "text": [
      "100%|██████████| 16/16 [00:19<00:00,  1.25s/it]"
     ]
    },
    {
     "name": "stdout",
     "output_type": "stream",
     "text": [
      "Training mse 0.004609205719815308\n",
      "Test mse 0.005376677931977782\n"
     ]
    },
    {
     "name": "stderr",
     "output_type": "stream",
     "text": [
      "\n"
     ]
    }
   ],
   "source": [
    "list_lr = [0.00001, 0.001, 0.002, 0.005, 0.009, 0.01, 0.02, 0.03, 0.09, 0.1, 0.2, 0.5, 0.9,1,2,4]\n",
    "module_name = 'sol_1a'\n",
    "mse_1ist = []\n",
    "\n",
    "for lr in tqdm(list_lr) :\n",
    "    trainer, mse_te = test_final_mse(module_name, sol_1a, lr)\n",
    "    mse_1ist.append(mse_te)"
   ]
  },
  {
   "cell_type": "markdown",
   "id": "2550f783",
   "metadata": {},
   "source": [
    "### MSE  Plot Varying the learning rate for sol_1a"
   ]
  },
  {
   "cell_type": "markdown",
   "id": "22827b65",
   "metadata": {},
   "source": [
    "##### Note :In future steps, will be showing the analysis in log-10 scale for better understanding the difference"
   ]
  },
  {
   "cell_type": "code",
   "execution_count": 13,
   "id": "4f2e0f28",
   "metadata": {},
   "outputs": [
    {
     "data": {
      "image/png": "[encoded data removed]",
      "text/plain": [
       "<Figure size 432x288 with 1 Axes>"
      ]
     },
     "metadata": {},
     "output_type": "display_data"
    }
   ],
   "source": [
    "plt.plot([str(lr) for lr in list_lr], np.log10(mse_1ist))\n",
    "plt.xlabel('Learning rate')\n",
    "plt.ylabel('Test log-MSE') \n",
    "plt.title('sol_1a')\n",
    "plt.xticks(rotation=90)\n",
    "plt.show()"
   ]
  },
  {
   "cell_type": "markdown",
   "id": "0e9fba95",
   "metadata": {},
   "source": [
    "### Varying the learning rate for sol_1b\n"
   ]
  },
  {
   "cell_type": "code",
   "execution_count": 14,
   "id": "1108f1ac",
   "metadata": {
    "scrolled": true
   },
   "outputs": [
    {
     "name": "stderr",
     "output_type": "stream",
     "text": [
      "  8%|▊         | 1/13 [00:01<00:22,  1.88s/it]"
     ]
    },
    {
     "name": "stdout",
     "output_type": "stream",
     "text": [
      "Training mse 6.920104085201847\n",
      "Test mse 6.96408082524617\n"
     ]
    },
    {
     "name": "stderr",
     "output_type": "stream",
     "text": [
      "\r",
      " 15%|█▌        | 2/13 [00:03<00:20,  1.87s/it]"
     ]
    },
    {
     "name": "stdout",
     "output_type": "stream",
     "text": [
      "Training mse 5.810088190766128\n",
      "Test mse 5.779023953951454\n"
     ]
    },
    {
     "name": "stderr",
     "output_type": "stream",
     "text": [
      "\r",
      " 23%|██▎       | 3/13 [00:05<00:18,  1.86s/it]"
     ]
    },
    {
     "name": "stdout",
     "output_type": "stream",
     "text": [
      "Training mse 3.0321208489492366\n",
      "Test mse 3.0144277468120815\n"
     ]
    },
    {
     "name": "stderr",
     "output_type": "stream",
     "text": [
      "\r",
      " 31%|███       | 4/13 [00:07<00:16,  1.88s/it]"
     ]
    },
    {
     "name": "stdout",
     "output_type": "stream",
     "text": [
      "Training mse 0.052514051735766405\n",
      "Test mse 0.05295739882887652\n"
     ]
    },
    {
     "name": "stderr",
     "output_type": "stream",
     "text": [
      "\r",
      " 38%|███▊      | 5/13 [00:09<00:15,  1.98s/it]"
     ]
    },
    {
     "name": "stdout",
     "output_type": "stream",
     "text": [
      "Training mse 0.02558393580607497\n",
      "Test mse 0.026329066772829455\n"
     ]
    },
    {
     "name": "stderr",
     "output_type": "stream",
     "text": [
      "\r",
      " 46%|████▌     | 6/13 [00:11<00:14,  2.01s/it]"
     ]
    },
    {
     "name": "stdout",
     "output_type": "stream",
     "text": [
      "Training mse 0.005090436326494648\n",
      "Test mse 0.005033888008296203\n"
     ]
    },
    {
     "name": "stderr",
     "output_type": "stream",
     "text": [
      "\r",
      " 54%|█████▍    | 7/13 [00:13<00:11,  1.98s/it]"
     ]
    },
    {
     "name": "stdout",
     "output_type": "stream",
     "text": [
      "Training mse 0.005254725938669286\n",
      "Test mse 0.005092932338714106\n"
     ]
    },
    {
     "name": "stderr",
     "output_type": "stream",
     "text": [
      "\r",
      " 62%|██████▏   | 8/13 [00:15<00:09,  1.99s/it]"
     ]
    },
    {
     "name": "stdout",
     "output_type": "stream",
     "text": [
      "Training mse 0.0052525237181946065\n",
      "Test mse 0.004798102232609628\n"
     ]
    },
    {
     "name": "stderr",
     "output_type": "stream",
     "text": [
      "\r",
      " 69%|██████▉   | 9/13 [00:17<00:08,  2.03s/it]"
     ]
    },
    {
     "name": "stdout",
     "output_type": "stream",
     "text": [
      "Training mse 0.004928096806507936\n",
      "Test mse 0.004849689848953361\n"
     ]
    },
    {
     "name": "stderr",
     "output_type": "stream",
     "text": [
      "\r",
      " 77%|███████▋  | 10/13 [00:19<00:06,  2.06s/it]"
     ]
    },
    {
     "name": "stdout",
     "output_type": "stream",
     "text": [
      "Training mse 0.00503077310082004\n",
      "Test mse 0.00540690187020851\n"
     ]
    },
    {
     "name": "stderr",
     "output_type": "stream",
     "text": [
      "\r",
      " 85%|████████▍ | 11/13 [00:21<00:04,  2.02s/it]"
     ]
    },
    {
     "name": "stdout",
     "output_type": "stream",
     "text": [
      "Training mse 0.005286993278513129\n",
      "Test mse 0.0050401592133536574\n"
     ]
    },
    {
     "name": "stderr",
     "output_type": "stream",
     "text": [
      "\r",
      " 92%|█████████▏| 12/13 [00:23<00:02,  2.00s/it]"
     ]
    },
    {
     "name": "stdout",
     "output_type": "stream",
     "text": [
      "Training mse 0.0048179329309651344\n",
      "Test mse 0.005380446907203988\n"
     ]
    },
    {
     "name": "stderr",
     "output_type": "stream",
     "text": [
      "100%|██████████| 13/13 [00:25<00:00,  1.98s/it]"
     ]
    },
    {
     "name": "stdout",
     "output_type": "stream",
     "text": [
      "Training mse 0.004939407660147204\n",
      "Test mse 0.005090537636842236\n"
     ]
    },
    {
     "name": "stderr",
     "output_type": "stream",
     "text": [
      "\n"
     ]
    }
   ],
   "source": [
    "list_lr = [0.01, 0.02, 0.03, 0.09, 0.1, 0.2, 0.3, 0.6, 0.7, 0.9,1, 2, 4]\n",
    "module_name = 'sol_1b'\n",
    "mse_1ist = []\n",
    "\n",
    "for lr in tqdm(list_lr) :\n",
    "    trainer, mse_te = test_final_mse(module_name, sol_1b, lr)\n",
    "    mse_1ist.append(mse_te)"
   ]
  },
  {
   "cell_type": "code",
   "execution_count": 15,
   "id": "5f171430",
   "metadata": {},
   "outputs": [
    {
     "data": {
      "image/png": "[encoded data removed]",
      "text/plain": [
       "<Figure size 432x288 with 1 Axes>"
      ]
     },
     "metadata": {},
     "output_type": "display_data"
    }
   ],
   "source": [
    "plt.plot([str(lr) for lr in list_lr], np.log10(mse_1ist))\n",
    "plt.xlabel('Learning rate')\n",
    "plt.ylabel('Test log-MSE') \n",
    "plt.title('sol_1b')\n",
    "plt.xticks(rotation=90)\n",
    "plt.show()"
   ]
  },
  {
   "cell_type": "markdown",
   "id": "a44cc978",
   "metadata": {},
   "source": [
    "### 1c Explaination of learning rate\n",
    "\n",
    "It is extremely clear from the analysis that for the problem 1, there is sensitivity of hyperparameters towards lower learning rate but that might be due to constraining the number of iterations. As, we can clearly see that keeping the no of iterations constant, learning rate of 1e-2 gives a higher MSE as it takes more time to converge. However, increasing the learning rate give a much better rate of convergence. One possible reason is that since the loss landscape is smooth and the function is convex, very high learning rate will give us quick convergence"
   ]
  },
  {
   "cell_type": "markdown",
   "id": "7174cb0f",
   "metadata": {},
   "source": [
    " "
   ]
  },
  {
   "cell_type": "markdown",
   "id": "1494018c",
   "metadata": {},
   "source": [
    "### 2a.  Generate training data from a simple 1D function, such as a sine wave."
   ]
  },
  {
   "cell_type": "code",
   "execution_count": 16,
   "id": "2e046dc2",
   "metadata": {},
   "outputs": [
    {
     "data": {
      "text/plain": [
       "<matplotlib.legend.Legend at 0x7f87e0e50520>"
      ]
     },
     "execution_count": 16,
     "metadata": {},
     "output_type": "execute_result"
    },
    {
     "data": {
      "image/png": "[encoded data removed]",
      "text/plain": [
       "<Figure size 432x288 with 1 Axes>"
      ]
     },
     "metadata": {},
     "output_type": "display_data"
    }
   ],
   "source": [
    "#Get the plot for the 1-d function\n",
    "module_name = 'sol_2a'\n",
    "dataset = data_generators.generate_default_data(module_name)\n",
    "\n",
    "x_train, y_train = dataset['train']\n",
    "x_test, y_test = dataset['test']\n",
    "\n",
    "\n",
    "#plot for train and test\n",
    "plt.scatter(x_train,y_train, color='green', label=\"Train Dataset\")\n",
    "plt.ylabel(\"Y_train\")\n",
    "plt.xlabel(\"X_train\")\n",
    "plt.legend()"
   ]
  },
  {
   "cell_type": "markdown",
   "id": "8329f086",
   "metadata": {},
   "source": [
    "### 2a. Data Generator\n",
    "The above plot represents the true dataset generated using the equation $y = sinx + \\lambda \\eta$ where $\\eta \\sim N(0,1)$. The data is generated as per the equation where we first generate the feature variable $x$ in a range, which has been taken as $-2,2$ and we take 30 sample points. Then, we use the above equation to get y. However, we add stochasticity to our $y$ by adding $\\eta \\sim N(0,1)$ and multiply with a coefficient. "
   ]
  },
  {
   "cell_type": "markdown",
   "id": "cf288726",
   "metadata": {},
   "source": [
    "#### 2a Model Fitting "
   ]
  },
  {
   "cell_type": "code",
   "execution_count": 17,
   "id": "844c56ef",
   "metadata": {},
   "outputs": [],
   "source": [
    "def test_final_mse(module_name, sol, lr):\n",
    "        \n",
    "    #define the dataset\n",
    "    dataset = data_generators.generate_default_data(module_name)\n",
    "    trainer = sol.Trainer(lr)\n",
    "     \n",
    "    #initialize the network with \n",
    "    trainer.setup(dataset[\"train\"])\n",
    "    \n",
    "    #train the network\n",
    "    trainer.train(num_iter=trainer.get_num_iters_on_public_test())\n",
    "    pred_train  = trainer.network.forward()\n",
    "    \n",
    "    #Is final training loss less than some threshold?\n",
    "    mse_tr = compute_mse(pred_train, dataset[\"train\"][1])\n",
    "    print(\"Training mse\", mse_tr)\n",
    "    \n",
    "    #test the data on hold-out set\n",
    "    trainer.data_layer.set_data(dataset[\"test\"][0])\n",
    "    pred = trainer.network.forward()\n",
    "    \n",
    "    #Is final training loss less than some threshold?\n",
    "    mse_te = compute_mse(pred, dataset[\"test\"][1])\n",
    "    print(\"Test mse\", mse_te)\n",
    "    \n",
    "    return trainer, mse_te, pred"
   ]
  },
  {
   "cell_type": "code",
   "execution_count": 18,
   "id": "bf938fd3",
   "metadata": {},
   "outputs": [
    {
     "name": "stdout",
     "output_type": "stream",
     "text": [
      "Training mse 0.0005400950132147733\n",
      "Test mse 0.002710698138013349\n"
     ]
    }
   ],
   "source": [
    "module_name = 'sol_2a'\n",
    "lr = 0.2\n",
    "trainer, mse_te, pred = test_final_mse(module_name, sol_2a, lr)"
   ]
  },
  {
   "cell_type": "markdown",
   "id": "46cccee8",
   "metadata": {},
   "source": [
    "#### 2a Plotting the Test Function"
   ]
  },
  {
   "cell_type": "code",
   "execution_count": 19,
   "id": "681e7ae6",
   "metadata": {},
   "outputs": [
    {
     "data": {
      "text/plain": [
       "<matplotlib.legend.Legend at 0x7f87e0ea1460>"
      ]
     },
     "execution_count": 19,
     "metadata": {},
     "output_type": "execute_result"
    },
    {
     "data": {
      "image/png": "[encoded data removed]",
      "text/plain": [
       "<Figure size 432x288 with 1 Axes>"
      ]
     },
     "metadata": {},
     "output_type": "display_data"
    }
   ],
   "source": [
    "# plt.plot(pred)\n",
    "plt.scatter(dataset[\"test\"][0], dataset[\"test\"][1], color = 'blue', label = 'Test_data')\n",
    "plt.plot(dataset[\"test\"][0], pred, color = 'red', label = 'Fitted curve' )\n",
    "plt.legend()"
   ]
  },
  {
   "cell_type": "markdown",
   "id": "d3546f56",
   "metadata": {},
   "source": [
    " "
   ]
  },
  {
   "cell_type": "markdown",
   "id": "95de249b",
   "metadata": {},
   "source": [
    "### 2b.  Similar Experiment on High Dimensional Input\n",
    "\n",
    "For this experiment, we generate the data using the $y = 1.7 x_1^2 + 0.6 x_2 + 2 + \\lambda \\eta$. Like before, we generate 60 samples within a range (-2,2) for each feature variable $x_1 \\& x_2$\n",
    "Then, we use the above equation to get y. However, we add stochasticity to our  𝑦  by adding  𝜂∼𝑁(0,1)  and multiply with a coefficient."
   ]
  },
  {
   "cell_type": "code",
   "execution_count": 20,
   "id": "03bd5e9b",
   "metadata": {},
   "outputs": [
    {
     "data": {
      "text/plain": [
       "Text(0.5, 1.0, 'Scatter Plot in the Feature Space')"
      ]
     },
     "execution_count": 20,
     "metadata": {},
     "output_type": "execute_result"
    },
    {
     "data": {
      "image/png": "[encoded data removed]",
      "text/plain": [
       "<Figure size 432x288 with 1 Axes>"
      ]
     },
     "metadata": {},
     "output_type": "display_data"
    }
   ],
   "source": [
    "#Get the plot for the 1-d function\n",
    "module_name = 'sol_2b'\n",
    "dataset = data_generators.generate_default_data(module_name)\n",
    "\n",
    "x_train, y_train = dataset['train']\n",
    "x_test, y_test = dataset['test']\n",
    "\n",
    "plt.scatter(x_train[:,0], x_train[:,1])\n",
    "plt.ylabel(\"Feature 2\")\n",
    "plt.xlabel(\"Feature 1\")\n",
    "plt.title('Scatter Plot in the Feature Space')\n",
    "\n"
   ]
  },
  {
   "cell_type": "markdown",
   "id": "6a89b62a",
   "metadata": {},
   "source": [
    "Let's also try to visualize and understand the scatter with y and each feature dimension"
   ]
  },
  {
   "cell_type": "code",
   "execution_count": 21,
   "id": "7e787721",
   "metadata": {},
   "outputs": [
    {
     "data": {
      "text/plain": [
       "Text(0.5, 1.0, 'Scatter Plot with y and x1')"
      ]
     },
     "execution_count": 21,
     "metadata": {},
     "output_type": "execute_result"
    },
    {
     "data": {
      "image/png": "[encoded data removed]",
      "text/plain": [
       "<Figure size 432x288 with 1 Axes>"
      ]
     },
     "metadata": {},
     "output_type": "display_data"
    }
   ],
   "source": [
    "plt.scatter(x_train[:,0], y_train)\n",
    "plt.ylabel(\"y_train\")\n",
    "plt.xlabel(\"Feature 1\")\n",
    "plt.title('Scatter Plot with y and x1')\n",
    "\n"
   ]
  },
  {
   "cell_type": "code",
   "execution_count": 22,
   "id": "2368c307",
   "metadata": {},
   "outputs": [
    {
     "data": {
      "text/plain": [
       "Text(0.5, 1.0, 'Scatter Plot with y and x2')"
      ]
     },
     "execution_count": 22,
     "metadata": {},
     "output_type": "execute_result"
    },
    {
     "data": {
      "image/png": "[encoded data removed]",
      "text/plain": [
       "<Figure size 432x288 with 1 Axes>"
      ]
     },
     "metadata": {},
     "output_type": "display_data"
    }
   ],
   "source": [
    "plt.scatter(x_train[:,1], y_train)\n",
    "plt.ylabel(\"y_train\")\n",
    "plt.xlabel(\"Feature 2\")\n",
    "plt.title('Scatter Plot with y and x2')\n"
   ]
  },
  {
   "cell_type": "markdown",
   "id": "77061b12",
   "metadata": {},
   "source": [
    "#### 2b.  Model Fitting\n",
    "\n",
    "Note : For this experiment, the number of neurons in the hidden units was kept as 40. "
   ]
  },
  {
   "cell_type": "code",
   "execution_count": 23,
   "id": "12d6aefc",
   "metadata": {},
   "outputs": [
    {
     "name": "stdout",
     "output_type": "stream",
     "text": [
      "Training mse 0.06947317081736472\n",
      "Test mse 0.07570008089621408\n"
     ]
    }
   ],
   "source": [
    "module_name = 'sol_2b'\n",
    "lr = 0.2\n",
    "trainer, mse_te, pred = test_final_mse(module_name, sol_2b, lr)"
   ]
  },
  {
   "cell_type": "code",
   "execution_count": null,
   "id": "54f0bbdb",
   "metadata": {},
   "outputs": [],
   "source": []
  },
  {
   "cell_type": "markdown",
   "id": "8028af24",
   "metadata": {},
   "source": [
    "### 2c || MSE Plot Varying the learning rate for sol_2a "
   ]
  },
  {
   "cell_type": "code",
   "execution_count": 24,
   "id": "6ae823b8",
   "metadata": {
    "scrolled": true
   },
   "outputs": [
    {
     "name": "stderr",
     "output_type": "stream",
     "text": [
      " 12%|█▎        | 1/8 [00:02<00:18,  2.59s/it]"
     ]
    },
    {
     "name": "stdout",
     "output_type": "stream",
     "text": [
      "Training mse 0.009715244209630628\n",
      "Test mse 0.015326284094394267\n",
      "Training mse"
     ]
    },
    {
     "name": "stderr",
     "output_type": "stream",
     "text": [
      "\r",
      " 25%|██▌       | 2/8 [00:05<00:15,  2.57s/it]"
     ]
    },
    {
     "name": "stdout",
     "output_type": "stream",
     "text": [
      " 0.0028508319471039554\n",
      "Test mse 0.0031944086448607383\n"
     ]
    },
    {
     "name": "stderr",
     "output_type": "stream",
     "text": [
      "\r",
      " 38%|███▊      | 3/8 [00:07<00:12,  2.60s/it]"
     ]
    },
    {
     "name": "stdout",
     "output_type": "stream",
     "text": [
      "Training mse 0.0006005970779130119\n",
      "Test mse 0.0006115371298726755\n"
     ]
    },
    {
     "name": "stderr",
     "output_type": "stream",
     "text": [
      "\r",
      " 50%|█████     | 4/8 [00:10<00:10,  2.68s/it]"
     ]
    },
    {
     "name": "stdout",
     "output_type": "stream",
     "text": [
      "Training mse 0.0020083614757394233\n",
      "Test mse 0.0026182483365218205\n"
     ]
    },
    {
     "name": "stderr",
     "output_type": "stream",
     "text": [
      "\r",
      " 62%|██████▎   | 5/8 [00:13<00:08,  2.69s/it]"
     ]
    },
    {
     "name": "stdout",
     "output_type": "stream",
     "text": [
      "Training mse 0.0009162541491341125\n",
      "Test mse 0.0008826316348465944\n"
     ]
    },
    {
     "name": "stderr",
     "output_type": "stream",
     "text": [
      "\r",
      " 75%|███████▌  | 6/8 [00:16<00:05,  2.70s/it]"
     ]
    },
    {
     "name": "stdout",
     "output_type": "stream",
     "text": [
      "Training mse 0.0004615340235129315\n",
      "Test mse 0.001150987781428446\n"
     ]
    },
    {
     "name": "stderr",
     "output_type": "stream",
     "text": [
      "\r",
      " 88%|████████▊ | 7/8 [00:18<00:02,  2.68s/it]"
     ]
    },
    {
     "name": "stdout",
     "output_type": "stream",
     "text": [
      "Training mse 0.0004481583621938628\n",
      "Test mse 0.0016054617566399006\n",
      "Training mse"
     ]
    },
    {
     "name": "stderr",
     "output_type": "stream",
     "text": [
      "100%|██████████| 8/8 [00:21<00:00,  2.66s/it]"
     ]
    },
    {
     "name": "stdout",
     "output_type": "stream",
     "text": [
      " 2.864007963509023e-05\n",
      "Test mse 0.0004585814477727714\n"
     ]
    },
    {
     "name": "stderr",
     "output_type": "stream",
     "text": [
      "\n"
     ]
    }
   ],
   "source": [
    "list_lr = [0.001, 0.01, 0.02, 0.03, 0.09, 0.1, 0.2, 0.7]\n",
    "module_name = 'sol_2a'\n",
    "mse_1ist = []\n",
    "\n",
    "for lr in tqdm(list_lr) :\n",
    "    trainer, mse_te, pred = test_final_mse(module_name, sol_2a, lr)\n",
    "    mse_1ist.append(mse_te)"
   ]
  },
  {
   "cell_type": "code",
   "execution_count": 25,
   "id": "2dca8ef7",
   "metadata": {},
   "outputs": [
    {
     "data": {
      "image/png": "[encoded data removed]",
      "text/plain": [
       "<Figure size 432x288 with 1 Axes>"
      ]
     },
     "metadata": {},
     "output_type": "display_data"
    }
   ],
   "source": [
    "plt.plot([str(lr) for lr in list_lr], np.log10(mse_1ist))\n",
    "plt.xlabel('Learning rate')\n",
    "plt.ylabel('Test log MSE') \n",
    "plt.title('sol_2a')\n",
    "plt.xticks(rotation=90)\n",
    "plt.show()"
   ]
  },
  {
   "cell_type": "markdown",
   "id": "5f867759",
   "metadata": {},
   "source": [
    "### MSE Plot Varying the learning rate for sol_2b"
   ]
  },
  {
   "cell_type": "code",
   "execution_count": null,
   "id": "40d148c6",
   "metadata": {
    "scrolled": true
   },
   "outputs": [
    {
     "name": "stderr",
     "output_type": "stream",
     "text": [
      " 14%|█▍        | 1/7 [00:21<02:08, 21.43s/it]"
     ]
    },
    {
     "name": "stdout",
     "output_type": "stream",
     "text": [
      "Training mse 6.135977447515897\n",
      "Test mse 6.1742230460870475\n"
     ]
    },
    {
     "name": "stderr",
     "output_type": "stream",
     "text": [
      "\r",
      " 29%|██▊       | 2/7 [00:40<01:39, 19.89s/it]"
     ]
    },
    {
     "name": "stdout",
     "output_type": "stream",
     "text": [
      "Training mse 1.1800639967300417\n",
      "Test mse 1.217671454338764\n"
     ]
    }
   ],
   "source": [
    "list_lr = [0.001, 0.01, 0.02, 0.05, 0.1, 0.5, 1]\n",
    "module_name = 'sol_2b'\n",
    "mse_1ist = []\n",
    "\n",
    "for lr in tqdm(list_lr) :\n",
    "    trainer, mse_te, pred = test_final_mse(module_name, sol_2b, lr)\n",
    "    mse_1ist.append(mse_te)"
   ]
  },
  {
   "cell_type": "code",
   "execution_count": null,
   "id": "8c9e237b",
   "metadata": {},
   "outputs": [],
   "source": [
    "plt.plot([str(lr) for lr in list_lr], np.log10(mse_1ist))\n",
    "plt.xlabel('Learning rate')\n",
    "plt.ylabel('Test log MSE') \n",
    "plt.title('sol_2b')\n",
    "plt.xticks(rotation=90)\n",
    "plt.show()"
   ]
  },
  {
   "cell_type": "code",
   "execution_count": null,
   "id": "04118e37",
   "metadata": {},
   "outputs": [],
   "source": []
  },
  {
   "cell_type": "markdown",
   "id": "abee1a99",
   "metadata": {},
   "source": [
    "### 2c : Analysis : \n",
    "It is extremely clear from the analysis that for the problem 1, there is sensitivity of hyperparameters towards lower learning rate but that might be due to constraining the number of iterations. As, we can clearly see that keeping the no of iterations constant, learning rate of 1e-2 gives a higher MSE as it takes more time to converge. However, increasing the learning rate give a much better rate of convergence. One possible reason is that since the loss landscape is smooth and the function is convex, very high learning rate will give us quick convergence\n"
   ]
  },
  {
   "cell_type": "code",
   "execution_count": null,
   "id": "d56095fb",
   "metadata": {},
   "outputs": [],
   "source": []
  },
  {
   "cell_type": "markdown",
   "id": "1bf7aa6e",
   "metadata": {},
   "source": [
    "### 3 a. Experiment with using 3 and 5 hidden layers\n",
    "\n",
    "For this problem, we will test the network with the same training data that we used in Problem 2, using both 1D and higher dimensional data. We will primarily experiment with 3 and 5 hidden layer performances"
   ]
  },
  {
   "cell_type": "code",
   "execution_count": null,
   "id": "9322b668",
   "metadata": {},
   "outputs": [],
   "source": [
    "def test_final_mse(module_name, sol, lr, layers, neurons):\n",
    "        \n",
    "    #define the dataset\n",
    "    dataset = data_generators.generate_default_data(module_name)\n",
    "    trainer = sol.Trainer(lr, layers,neurons)\n",
    "     \n",
    "    #initialize the network with \n",
    "    trainer.setup(dataset[\"train\"])\n",
    "    \n",
    "    #train the network\n",
    "    train_losses = trainer.train(num_iter=trainer.get_num_iters_on_public_test())\n",
    "    pred_train  = trainer.network.forward()\n",
    "    \n",
    "    #Is final training loss less than some threshold?\n",
    "    mse_tr = compute_mse(pred_train, dataset[\"train\"][1])\n",
    "    print(\"Training mse\", mse_tr)\n",
    "    \n",
    "    #test the data on hold-out set\n",
    "    trainer.data_layer.set_data(dataset[\"test\"][0])\n",
    "    pred = trainer.network.forward()\n",
    "    \n",
    "    #Is final training loss less than some threshold?\n",
    "    mse_te = compute_mse(pred, dataset[\"test\"][1])\n",
    "    print(\"Test mse\", mse_te)\n",
    "    \n",
    "    return trainer, mse_te, pred, train_losses"
   ]
  },
  {
   "cell_type": "markdown",
   "id": "a90d6bee",
   "metadata": {},
   "source": [
    "### Analysis on 1 dimensional (low dim) Dataset "
   ]
  },
  {
   "cell_type": "markdown",
   "id": "c8caa66a",
   "metadata": {},
   "source": [
    "#### Analysis with 3 layer network"
   ]
  },
  {
   "cell_type": "code",
   "execution_count": null,
   "id": "2bc5cd9f",
   "metadata": {},
   "outputs": [],
   "source": [
    "module_name = 'sol_3a'\n",
    "lr = 0.05\n",
    "layers = 3\n",
    "neurons = 10\n",
    "trainer, mse_te, pred,_ = test_final_mse(module_name, sol_3a, lr, layers, neurons)"
   ]
  },
  {
   "cell_type": "markdown",
   "id": "fd5aedef",
   "metadata": {},
   "source": [
    "#### Analysis with 5 layer network"
   ]
  },
  {
   "cell_type": "code",
   "execution_count": null,
   "id": "e21b791b",
   "metadata": {},
   "outputs": [],
   "source": [
    "module_name = 'sol_3a'\n",
    "lr = 0.05\n",
    "layers = 5\n",
    "neurons = 10\n",
    "trainer, mse_te, pred, _ = test_final_mse(module_name, sol_3a, lr, layers, neurons)"
   ]
  },
  {
   "cell_type": "markdown",
   "id": "452d3d42",
   "metadata": {},
   "source": [
    "#### Analysis on high dimensional Dataset \n"
   ]
  },
  {
   "cell_type": "markdown",
   "id": "453dff66",
   "metadata": {},
   "source": [
    "#### 3 layer network"
   ]
  },
  {
   "cell_type": "code",
   "execution_count": null,
   "id": "36ccac2e",
   "metadata": {},
   "outputs": [],
   "source": [
    "module_name = 'sol_3b'\n",
    "lr = 0.05\n",
    "layers = 3\n",
    "neurons = 10\n",
    "trainer, mse_te, pred,_ = test_final_mse(module_name, sol_3b, lr, layers, neurons)"
   ]
  },
  {
   "cell_type": "markdown",
   "id": "824795f3",
   "metadata": {},
   "source": [
    "#### Analysis with 5 layer network"
   ]
  },
  {
   "cell_type": "code",
   "execution_count": null,
   "id": "cc8ddfe9",
   "metadata": {},
   "outputs": [],
   "source": [
    "module_name = 'sol_3b'\n",
    "lr = 0.05\n",
    "layers = 5\n",
    "neurons = 10\n",
    "trainer, mse_te, pred, _ = test_final_mse(module_name, sol_3b, lr, layers, neurons)"
   ]
  },
  {
   "cell_type": "code",
   "execution_count": null,
   "id": "879974f9",
   "metadata": {},
   "outputs": [],
   "source": []
  },
  {
   "cell_type": "markdown",
   "id": "0e286ffd",
   "metadata": {},
   "source": [
    "### 3 b. Evaluating for different choices of Hyperparameters"
   ]
  },
  {
   "cell_type": "markdown",
   "id": "6778a88a",
   "metadata": {},
   "source": [
    "#### Varying the learning rate for low dimensional data"
   ]
  },
  {
   "cell_type": "code",
   "execution_count": null,
   "id": "1753dc17",
   "metadata": {
    "scrolled": true
   },
   "outputs": [],
   "source": [
    "list_lr = [0.001, 0.01, 0.02, 0.1, 0.5, 1, 5, 15, 20]\n",
    "layers = 3\n",
    "neurons = 5\n",
    "module_name = 'sol_3a'\n",
    "mse_1ist = []\n",
    "\n",
    "for lr in tqdm(list_lr) :\n",
    "    trainer, mse_te, pred, _ = test_final_mse(module_name, sol_3a, lr, layers, neurons)\n",
    "    mse_1ist.append(mse_te)"
   ]
  },
  {
   "cell_type": "code",
   "execution_count": null,
   "id": "2bdf0e07",
   "metadata": {
    "scrolled": false
   },
   "outputs": [],
   "source": [
    "plt.plot([str(lr) for lr in list_lr], np.log10(mse_1ist))\n",
    "plt.xlabel('Learning rate')\n",
    "plt.ylabel('Test log MSE') \n",
    "plt.title('sol_3a')\n",
    "plt.xticks(rotation=90)\n",
    "plt.show()"
   ]
  },
  {
   "cell_type": "markdown",
   "id": "9f85dc95",
   "metadata": {},
   "source": [
    "#### Points\n",
    "It can be clearly observed that the loss decreases with increasing learning rate upto a point, but after that point it becomes extremely unstable and test loss increases significantly, following the bias-variance trade-off rule. However,train loss also increases as the loss function is non-convex and the learning rate unstability plays a part"
   ]
  },
  {
   "cell_type": "markdown",
   "id": "6ace247d",
   "metadata": {},
   "source": [
    "#### Varying the number of neurons for low dimensional data"
   ]
  },
  {
   "cell_type": "code",
   "execution_count": null,
   "id": "8e583bc8",
   "metadata": {
    "scrolled": true
   },
   "outputs": [],
   "source": [
    "neurons = [2,4,6, 8, 10, 20, 50, 80]\n",
    "layers = 3\n",
    "lr = 0.5\n",
    "module_name = 'sol_3a'\n",
    "mse_1ist = []\n",
    "\n",
    "for neuron in tqdm(neurons) :\n",
    "    trainer, mse_te, pred,_ = test_final_mse(module_name, sol_3a, lr, layers, neuron)\n",
    "    mse_1ist.append(mse_te)"
   ]
  },
  {
   "cell_type": "code",
   "execution_count": null,
   "id": "570ccd13",
   "metadata": {},
   "outputs": [],
   "source": [
    "plt.plot([str(neuron) for neuron in neurons], np.log10(mse_1ist))\n",
    "plt.xlabel('No of Neurons in hidden layers')\n",
    "plt.ylabel('Test log MSE') \n",
    "plt.title('sol_3a')\n",
    "plt.xticks(rotation=90)\n",
    "plt.show()"
   ]
  },
  {
   "cell_type": "markdown",
   "id": "831ae3cb",
   "metadata": {},
   "source": [
    "#### Analysis \n",
    "\n",
    "Here, I vary the number of neruons in the hidden layers and it is very interesting to observe the loss landscape as the test loss decreases with the increase in number of neurons in the hidden layer till a point but then it starts to increase till the number reaches 8 neurons per layer. But, very interestingly, once it crosses that we are able to see a double decent type of event : overparametrized regime where the test loss decreases\n"
   ]
  },
  {
   "cell_type": "markdown",
   "id": "e3f60085",
   "metadata": {},
   "source": [
    "#### Varying the learning rate for high dimensional data"
   ]
  },
  {
   "cell_type": "code",
   "execution_count": null,
   "id": "045bbeb3",
   "metadata": {
    "scrolled": true
   },
   "outputs": [],
   "source": [
    "list_lr = [0.001, 0.01, 0.02, 0.1, 0.5, 1]\n",
    "layers = 3\n",
    "neurons = 5\n",
    "module_name = 'sol_3b'\n",
    "mse_1ist = []\n",
    "\n",
    "for lr in tqdm(list_lr) :\n",
    "    trainer, mse_te, pred,_ = test_final_mse(module_name, sol_3b, lr, layers, neurons)\n",
    "    mse_1ist.append(mse_te)"
   ]
  },
  {
   "cell_type": "code",
   "execution_count": null,
   "id": "b1748467",
   "metadata": {},
   "outputs": [],
   "source": [
    "plt.plot([str(lr) for lr in list_lr], np.log10(mse_1ist))\n",
    "plt.xlabel('Learning rate')\n",
    "plt.ylabel('Test log MSE') \n",
    "plt.title('sol_3b')\n",
    "plt.xticks(rotation=90)\n",
    "plt.show()"
   ]
  },
  {
   "cell_type": "markdown",
   "id": "ec381d0a",
   "metadata": {},
   "source": [
    "#### Varying the number of neurons for high dimensional data¶"
   ]
  },
  {
   "cell_type": "code",
   "execution_count": null,
   "id": "6635b51e",
   "metadata": {
    "scrolled": true
   },
   "outputs": [],
   "source": [
    "neurons = [2,4,6, 8, 10, 20,50]\n",
    "layers = 3\n",
    "lr = 0.5\n",
    "module_name = 'sol_3b'\n",
    "mse_1ist = []\n",
    "\n",
    "for neuron in tqdm(neurons) :\n",
    "    trainer, mse_te, pred,_ = test_final_mse(module_name, sol_3b, lr, layers, neuron)\n",
    "    mse_1ist.append(mse_te)"
   ]
  },
  {
   "cell_type": "code",
   "execution_count": null,
   "id": "14c176a5",
   "metadata": {},
   "outputs": [],
   "source": [
    "plt.plot([str(neuron) for neuron in neurons], np.log10(mse_1ist))\n",
    "plt.xlabel('No of Neurons in hidden layers')\n",
    "plt.ylabel('Test log MSE') \n",
    "plt.title('sol_3b')\n",
    "plt.xticks(rotation=90)\n",
    "plt.show()"
   ]
  },
  {
   "cell_type": "markdown",
   "id": "64278257",
   "metadata": {},
   "source": [
    " "
   ]
  },
  {
   "cell_type": "markdown",
   "id": "d3c46f7e",
   "metadata": {},
   "source": [
    "### 3c Analysis : Depth Analysis for NN\n",
    "        "
   ]
  },
  {
   "cell_type": "code",
   "execution_count": null,
   "id": "79c5da21",
   "metadata": {
    "scrolled": true
   },
   "outputs": [],
   "source": [
    "layers = [2,3,4, 5,7, 8, 10, 15, 20, 50]\n",
    "neurons = 5\n",
    "lr = 0.5\n",
    "module_name = 'sol_3a'\n",
    "mse_1ist = []\n",
    "total_loss_list = []\n",
    "\n",
    "for layer in tqdm(layers) :\n",
    "    trainer, mse_te, pred, train_loss  = test_final_mse(module_name, sol_3a, lr, layer, neurons)\n",
    "    mse_1ist.append(mse_te)\n",
    "    total_loss_list.append(train_loss)"
   ]
  },
  {
   "cell_type": "code",
   "execution_count": null,
   "id": "dd25aaab",
   "metadata": {},
   "outputs": [],
   "source": [
    "plt.plot([str(layer) for layer in layers], np.log10(mse_1ist))\n",
    "plt.xlabel('Depth : No of hidden layers')\n",
    "plt.ylabel('Test log MSE') \n",
    "plt.title('sol_3a')\n",
    "plt.xticks(rotation=90)\n",
    "plt.show()"
   ]
  },
  {
   "cell_type": "markdown",
   "id": "d4b675fe",
   "metadata": {},
   "source": [
    "#### Convergence Plot Analysis"
   ]
  },
  {
   "cell_type": "code",
   "execution_count": null,
   "id": "85b4a721",
   "metadata": {},
   "outputs": [],
   "source": [
    "for i in range(0, len(total_loss_list)):\n",
    "    plt.plot(total_loss_list[i][0:200])\n",
    "    plt.show()"
   ]
  },
  {
   "cell_type": "markdown",
   "id": "c8fa86c4",
   "metadata": {},
   "source": [
    "#### Analysis\n",
    "\n",
    "It can be clearly observed that the loss decreases with increasing learning rate upto a point, but after that point it becomes extremely unstable and test loss increases significantly, following the bias-variance trade-off rule. However,train loss also increases as the loss function is non-convex and the learning rate unstability plays a part\n",
    "\n",
    "Here, I vary the number of neruons in the hidden layers and it is very interesting to observe the loss landscape as the test loss decreases with the increase in number of neurons in the hidden layer till a point but then it starts to increase till the number reaches 8 neurons per layer. But, very interestingly, once it crosses that we are able to see a double decent type of event : overparametrized regime where the test loss decreases\n",
    "\n",
    "\n",
    "\n",
    "Very similar to the above explaination,  test loss decreases with the increase in number of layers till a point but then it starts to increase till the number reaches 10/11. But, very interestingly, once it crosses that we are able to see a double decent type of event i.e overparametrized regime where the test loss decreases"
   ]
  },
  {
   "cell_type": "code",
   "execution_count": null,
   "id": "dc826843",
   "metadata": {},
   "outputs": [],
   "source": []
  },
  {
   "cell_type": "markdown",
   "id": "5c7cf2f7",
   "metadata": {},
   "source": [
    "### 4. Cross Entropy Loss"
   ]
  },
  {
   "cell_type": "markdown",
   "id": "290c1d9c",
   "metadata": {},
   "source": [
    "### 4a. Generating the Linearly Separable Data"
   ]
  },
  {
   "cell_type": "code",
   "execution_count": null,
   "id": "829d9515",
   "metadata": {},
   "outputs": [],
   "source": [
    "def data_4a_new(margin):\n",
    "    \n",
    "    lambda1 = 2\n",
    "    lambda2 = 6\n",
    "    \n",
    "    x1 = np.linspace(-3, 1, 60)[:, np.newaxis]\n",
    "    x2 = np.linspace(margin+ lambda1 ,  margin + lambda2 , 60)[:, np.newaxis]\n",
    "    \n",
    "    #concatenate the data\n",
    "    x = np.concatenate((x1, x2))\n",
    "    y = np.where(x > 1, 1, 0)\n",
    "    x_train = x[::2]\n",
    "    y_train = y[::2]\n",
    "    x_test = x[1::2]\n",
    "    y_test = y[1::2]\n",
    "    return {\n",
    "        \"train\": (x_train, y_train),\n",
    "        \"test\": (x_test, y_test)\n",
    "    }"
   ]
  },
  {
   "cell_type": "code",
   "execution_count": null,
   "id": "5ab0f4ab",
   "metadata": {},
   "outputs": [],
   "source": [
    "margin = 10\n",
    "dataset = data_4a_new(margin)\n",
    "plt.scatter(dataset['train'][0], dataset['test'][1])\n",
    "plt.xlabel('X')\n",
    "plt.ylabel('Y')"
   ]
  },
  {
   "cell_type": "markdown",
   "id": "44f5e479",
   "metadata": {},
   "source": [
    "### 4a. Generating the Linearly Separable Data\n",
    "\n",
    "The data is generated by the threshold of 1, when $x>1, y = 1$ else $y=0$. There are 60 datapoints that are being generated within the given range as shown in the figure. The margin determines the amount of linear separability will be there amongst the data. Higher the value of the margin, higher the linear separability"
   ]
  },
  {
   "cell_type": "code",
   "execution_count": null,
   "id": "f2496f4f",
   "metadata": {},
   "outputs": [],
   "source": [
    "def compute_acc_sigmoid(pred, y):\n",
    "  y_pred = np.where(pred > 0.5, 1, 0)\n",
    "  return (y == y_pred).mean()"
   ]
  },
  {
   "cell_type": "code",
   "execution_count": null,
   "id": "755b502c",
   "metadata": {},
   "outputs": [],
   "source": [
    "def test_final_loss(module_name, sol, lr, layers, neurons, margin, num_iter):\n",
    "        \n",
    "    #define the dataset\n",
    "    dataset = data_4a_new(margin)\n",
    "    trainer = sol.Trainer(lr, layers,neurons)\n",
    "     \n",
    "    #initialize the network with \n",
    "    trainer.setup(dataset[\"train\"])\n",
    "    \n",
    "    #train the network\n",
    "    train_losses = trainer.train(num_iter=num_iter)\n",
    "    pred_train  = trainer.network.forward()\n",
    "    train_acc = compute_acc_sigmoid(pred_train, dataset[\"train\"][1])\n",
    "    \n",
    "    #Is final training loss less than some threshold?\n",
    "    \n",
    "    #test the data on hold-out set\n",
    "    trainer.data_layer.set_data(dataset[\"test\"][0])\n",
    "    pred = trainer.network.forward()\n",
    "    \n",
    "    #Is final training loss less than some threshold\n",
    "    test_acc = compute_acc_sigmoid(pred, dataset[\"test\"][1])\n",
    "    print(\"Test accuracy\", test_acc)\n",
    "    \n",
    "    return trainer, test_acc, pred, np.array(train_losses)[:,0]"
   ]
  },
  {
   "cell_type": "markdown",
   "id": "3157f317",
   "metadata": {},
   "source": [
    "#### Margin = 1"
   ]
  },
  {
   "cell_type": "code",
   "execution_count": null,
   "id": "79b0bdb9",
   "metadata": {},
   "outputs": [],
   "source": [
    "lr = 0.05\n",
    "module_name = 'sol_4a'\n",
    "margin = 1\n",
    "layers = 3\n",
    "neurons = 10\n",
    "num_iter = 10000\n",
    "trainer, test_acc, pred, tr_loss = test_final_loss(module_name, sol_4a, lr, layers, neurons, margin,num_iter)"
   ]
  },
  {
   "cell_type": "code",
   "execution_count": null,
   "id": "7d52239f",
   "metadata": {},
   "outputs": [],
   "source": [
    "plt.plot(tr_loss[0:30])\n",
    "plt.xlabel('No of iterations')\n",
    "plt.ylabel('Train loss')"
   ]
  },
  {
   "cell_type": "markdown",
   "id": "02b9f3de",
   "metadata": {},
   "source": [
    "#### Varying the margin of the dataset"
   ]
  },
  {
   "cell_type": "code",
   "execution_count": null,
   "id": "c0ebe17f",
   "metadata": {
    "scrolled": true
   },
   "outputs": [],
   "source": [
    "margin_list = [0.0001, 0.01, 0.02,1]\n",
    "mse_1ist = []\n",
    "total_loss_list = []\n",
    "\n",
    "margin = 1\n",
    "layers = 3\n",
    "neurons = 5\n",
    "num_iter = 1000\n",
    "\n",
    "for margin in tqdm(margin_list) :\n",
    "    trainer, test_acc, pred, train_loss = test_final_loss(module_name, sol_4a, lr, layers, neurons, margin, num_iter)\n",
    "    total_loss_list.append(train_loss)"
   ]
  },
  {
   "cell_type": "markdown",
   "id": "d18e4aa7",
   "metadata": {},
   "source": [
    "It can be clearly observed that as the margin increases, the test MSE decreases and the generalisability increases"
   ]
  },
  {
   "cell_type": "markdown",
   "id": "80296c1b",
   "metadata": {},
   "source": [
    "##### Training loss converegence at lower margin"
   ]
  },
  {
   "cell_type": "code",
   "execution_count": null,
   "id": "d84e40c3",
   "metadata": {},
   "outputs": [],
   "source": [
    "for m, loss in zip(margin_list, total_loss_list):  \n",
    "    plt.plot(loss[0:50], label='Margin = {}'.format(m))\n",
    "\n",
    "plt.xlabel('Training iterations')\n",
    "plt.ylabel('Train loss')\n",
    "plt.legend()\n",
    "plt.show()\n"
   ]
  },
  {
   "cell_type": "markdown",
   "id": "a48b4937",
   "metadata": {
    "scrolled": false
   },
   "source": [
    "#### Varying the bumber of hidden layers of the network¶"
   ]
  },
  {
   "cell_type": "code",
   "execution_count": null,
   "id": "4b1d034f",
   "metadata": {
    "scrolled": false
   },
   "outputs": [],
   "source": [
    "layers = [2,3,4, 5,7, 8, 10, 15, 20, 50]\n",
    "\n",
    "total_loss_list = []\n",
    "\n",
    "margin = 1\n",
    "neurons = 5\n",
    "num_iter = 10000\n",
    "\n",
    "for layer in tqdm(layers) :\n",
    "    trainer, test_acc, pred, train_loss = test_final_loss(module_name, sol_4a, lr, layer, neurons, margin, num_iter)\n",
    "    total_loss_list.append(train_loss)"
   ]
  },
  {
   "cell_type": "code",
   "execution_count": null,
   "id": "68c4bab2",
   "metadata": {},
   "outputs": [],
   "source": [
    "for l, loss in zip(layers, total_loss_list):  \n",
    "    plt.plot(loss[0:30], label='Layer = {}'.format(l))\n",
    "\n",
    "plt.xlabel('Training iterations')\n",
    "plt.ylabel('Train loss')\n",
    "plt.legend()\n",
    "plt.show()\n"
   ]
  },
  {
   "cell_type": "markdown",
   "id": "d32c904b",
   "metadata": {},
   "source": [
    "Analysis : It is clearly observed that as we increase the margin, the convergence rate becomes much faster and the network is able to converge to lower values at a faster rate. However, with network depth or increasing the number of layers, it can be observed that the train loss decreases.However, the test loss as it has been shown follows a curve which decreases and then increases and on over-parametrizing decreases"
   ]
  },
  {
   "cell_type": "markdown",
   "id": "35b096cf",
   "metadata": {},
   "source": [
    "### 4a. Generating the Non-linearly Separable Data"
   ]
  },
  {
   "cell_type": "markdown",
   "id": "decd5feb",
   "metadata": {},
   "source": [
    "For the non-linearly separable dataset, the data is generated in the range $(-2,2)$ and 60 datapoints are generated as before. Now, to add the non-linear aspect in the data the label is generated based on the nonlinear function $x^2 > 2$ the label is 1 else 0."
   ]
  },
  {
   "cell_type": "code",
   "execution_count": null,
   "id": "8d21d269",
   "metadata": {},
   "outputs": [],
   "source": [
    "def data_4a_new1():\n",
    "    \n",
    "    # generating data\n",
    "    x = np.linspace(-2, 2, 60)[:, np.newaxis]\n",
    "    \n",
    "    #eqyuation of non linearity\n",
    "    y = np.where(x**2 > 2, 1, 0)\n",
    "    \n",
    "    #get the train and test\n",
    "    x_train = x[::2]\n",
    "    y_train = y[::2]\n",
    "    x_test = x[1::2]\n",
    "    y_test = y[1::2]\n",
    "    \n",
    "    return {\n",
    "        \"train\": (x_train, y_train),\n",
    "        \"test\": (x_test, y_test)\n",
    "    }\n",
    "\n"
   ]
  },
  {
   "cell_type": "code",
   "execution_count": null,
   "id": "0d35bf8b",
   "metadata": {},
   "outputs": [],
   "source": [
    "def test_final_loss(module_name, sol, lr, layers, neurons, num_iter):\n",
    "        \n",
    "    #define the dataset\n",
    "    dataset = data_4a_new1()\n",
    "    trainer = sol.Trainer(lr, layers,neurons)\n",
    "     \n",
    "    #initialize the network with \n",
    "    trainer.setup(dataset[\"train\"])\n",
    "    \n",
    "    #train the network\n",
    "    train_losses = trainer.train(num_iter=num_iter)\n",
    "    pred_train  = trainer.network.forward()\n",
    "    train_acc = compute_acc_sigmoid(pred_train, dataset[\"train\"][1])\n",
    "    \n",
    "    #Is final training loss less than some threshold?\n",
    "    \n",
    "    #test the data on hold-out set\n",
    "    trainer.data_layer.set_data(dataset[\"test\"][0])\n",
    "    pred = trainer.network.forward()\n",
    "    \n",
    "    #Is final training loss less than some threshold\n",
    "    test_acc = compute_acc_sigmoid(pred, dataset[\"test\"][1])\n",
    "    print(\"Test accuracy\", test_acc)\n",
    "    \n",
    "    return trainer, test_acc, pred, np.array(train_losses)[:,0]"
   ]
  },
  {
   "cell_type": "code",
   "execution_count": null,
   "id": "1e7d10a8",
   "metadata": {},
   "outputs": [],
   "source": [
    "data = data_4a_new1()\n",
    "plt.scatter(data['train'][0], data['train'][1])\n",
    "plt.xlabel('X')\n",
    "plt.ylabel('Y')"
   ]
  },
  {
   "cell_type": "markdown",
   "id": "9ac8a086",
   "metadata": {},
   "source": [
    "#### Training loss converegence"
   ]
  },
  {
   "cell_type": "code",
   "execution_count": null,
   "id": "8491608d",
   "metadata": {},
   "outputs": [],
   "source": [
    "layers = [2,3,4, 5,7, 8, 10, 15, 20, 50]\n",
    "\n",
    "total_loss_list = []\n",
    "\n",
    "neurons = 5\n",
    "num_iter = 10000\n",
    "\n",
    "for layer in tqdm(layers) :\n",
    "    trainer, test_acc, pred, train_loss = test_final_loss(module_name, sol_4a, lr, layer, neurons, num_iter)\n",
    "    total_loss_list.append(train_loss)"
   ]
  },
  {
   "cell_type": "markdown",
   "id": "3077dc89",
   "metadata": {},
   "source": [
    "#### Test accuracy\n",
    "Also, it is visible that the test accuracy increases till a point, however after increasing the number of parameters more there is a decrease in the test accuracy i.e it starts to overfit"
   ]
  },
  {
   "cell_type": "markdown",
   "id": "79a37b15",
   "metadata": {},
   "source": [
    "#### Loss Convergence Analysis"
   ]
  },
  {
   "cell_type": "code",
   "execution_count": null,
   "id": "71578fc1",
   "metadata": {},
   "outputs": [],
   "source": [
    "for l, loss in zip(layers, total_loss_list):  \n",
    "    plt.plot(loss[0:30], label='Layer = {}'.format(l))\n",
    "\n",
    "plt.xlabel('Training iterations')\n",
    "plt.ylabel('Train loss')\n",
    "plt.legend()\n",
    "plt.show()\n"
   ]
  },
  {
   "cell_type": "markdown",
   "id": "c469ef9c",
   "metadata": {},
   "source": [
    "### 4b. Generating the Linearly Separable Data High D"
   ]
  },
  {
   "cell_type": "markdown",
   "id": "363a86eb",
   "metadata": {},
   "source": [
    "The linearly separable high-dimensional data is generated almost similar to the previous case, but here the separability is maintained in both the axis. So, the range is $-m-1, -m$ is labelled as 0 and $m, m+1$ is labelled as 1 and like before 60 samples are generated"
   ]
  },
  {
   "cell_type": "code",
   "execution_count": null,
   "id": "d28c6001",
   "metadata": {},
   "outputs": [],
   "source": [
    "def data_4b_new(margin):\n",
    "    \n",
    "    x = np.stack(np.linspace(-margin-1, -margin, 60).tolist() + np.linspace(margin, margin+1, 60).tolist())\n",
    "    x = x[:, np.newaxis]\n",
    "    y = np.where(x > 0, 1, 0)\n",
    "    x = np.repeat(x, 2, axis=1)\n",
    "    x_train = x[::2]\n",
    "    y_train = y[::2]\n",
    "    x_test = x[1::2]\n",
    "    y_test = y[1::2]\n",
    "    return {'train': (x_train, y_train), 'test': (x_test, y_test)}"
   ]
  },
  {
   "cell_type": "code",
   "execution_count": null,
   "id": "490001de",
   "metadata": {},
   "outputs": [],
   "source": [
    "margin = 1\n",
    "dataset = data_4b_new(margin)\n",
    "plt.scatter(dataset['train'][0][:,0], dataset['train'][1])\n",
    "plt.xlabel('feature 1')\n",
    "plt.ylabel('Y')"
   ]
  },
  {
   "cell_type": "code",
   "execution_count": null,
   "id": "c9e52f87",
   "metadata": {},
   "outputs": [],
   "source": [
    "margin = 1\n",
    "dataset = data_4b_new(margin)\n",
    "plt.scatter(dataset['train'][0][:,1], dataset['train'][1])\n",
    "plt.xlabel('feature 2')\n",
    "plt.ylabel('Y')"
   ]
  },
  {
   "cell_type": "code",
   "execution_count": null,
   "id": "59ede14d",
   "metadata": {},
   "outputs": [],
   "source": [
    "def test_final_loss(module_name, sol, lr, layers, neurons, num_iter, margin):\n",
    "        \n",
    "    #define the dataset\n",
    "    dataset = data_4b_new(margin)\n",
    "    trainer = sol.Trainer(lr, layers,neurons)\n",
    "     \n",
    "    #initialize the network with \n",
    "    trainer.setup(dataset[\"train\"])\n",
    "    \n",
    "    #train the network\n",
    "    train_losses = trainer.train(num_iter=num_iter)\n",
    "    pred_train  = trainer.network.forward()\n",
    "    train_acc = compute_acc_sigmoid(pred_train, dataset[\"train\"][1])\n",
    "    \n",
    "    #Is final training loss less than some threshold?\n",
    "    \n",
    "    #test the data on hold-out set\n",
    "    trainer.data_layer.set_data(dataset[\"test\"][0])\n",
    "    pred = trainer.network.forward()\n",
    "    \n",
    "    #Is final training loss less than some threshold\n",
    "    test_acc = compute_acc_sigmoid(pred, dataset[\"test\"][1])\n",
    "    print(\"Test accuracy\", test_acc)\n",
    "    \n",
    "    return trainer, test_acc, pred, np.array(train_losses)[:,0]"
   ]
  },
  {
   "cell_type": "markdown",
   "id": "74897712",
   "metadata": {},
   "source": [
    "#### Varying the margin of the dataset"
   ]
  },
  {
   "cell_type": "code",
   "execution_count": null,
   "id": "3ce8724d",
   "metadata": {},
   "outputs": [],
   "source": [
    "margin_list = [0.0001, 0.01, 0.02,0.03, 0.1,1]\n",
    "total_loss_list = []\n",
    "\n",
    "layers = 3\n",
    "neurons = 5\n",
    "num_iter = 1000\n",
    "\n",
    "for margin in tqdm(margin_list) :\n",
    "    trainer, test_acc, pred, train_loss = test_final_loss(module_name, sol_4b, lr, layers, neurons, num_iter, margin)\n",
    "    total_loss_list.append(train_loss)"
   ]
  },
  {
   "cell_type": "markdown",
   "id": "9c01f567",
   "metadata": {},
   "source": [
    "#### Loss Convergence Analysis"
   ]
  },
  {
   "cell_type": "markdown",
   "id": "91d62b9e",
   "metadata": {},
   "source": [
    "#### Note : \n",
    "\n",
    "I am showing the plot for initial epochs to understand the convergence properly, otherwise it converges when i see the full number of iterations "
   ]
  },
  {
   "cell_type": "code",
   "execution_count": null,
   "id": "0020aaef",
   "metadata": {},
   "outputs": [],
   "source": [
    "for m, loss in zip(margin_list, total_loss_list):  \n",
    "    plt.plot(loss[0:90], label='Margin = {}'.format(m))\n",
    "\n",
    "plt.xlabel('Training iterations')\n",
    "plt.ylabel('Train loss')\n",
    "plt.legend()\n",
    "plt.show()\n"
   ]
  },
  {
   "cell_type": "markdown",
   "id": "914fd44a",
   "metadata": {},
   "source": [
    "### Analysis 4b - p1\n",
    "\n",
    "Interesting, it can be seen that the test accuracy increases with the margin and as the margin increases, it increases quickly. However, after a point it doesn't matter and even though we increase the margin, the model is gicing the best test acuuracy.\n",
    "##### Intuition: It has learnt the highest margin boundary like SVM.\n",
    "\n",
    "Even for the loss convergence analysis, we see that with increasing margin, the speed of convergence increases and network quickly converges to the optimal"
   ]
  },
  {
   "cell_type": "code",
   "execution_count": null,
   "id": "33091543",
   "metadata": {},
   "outputs": [],
   "source": []
  },
  {
   "cell_type": "markdown",
   "id": "76523157",
   "metadata": {},
   "source": [
    "### Varying the number of hidden layers of the dataset"
   ]
  },
  {
   "cell_type": "code",
   "execution_count": null,
   "id": "58903c20",
   "metadata": {
    "scrolled": true
   },
   "outputs": [],
   "source": [
    "layers = [2,3,4, 5,7, 8, 10, 15]\n",
    "\n",
    "total_loss_list = []\n",
    "\n",
    "margin = 1\n",
    "neurons = 5\n",
    "lr = 0.1\n",
    "num_iter = 10000\n",
    "\n",
    "for layer in tqdm(layers) :\n",
    "    trainer, test_acc, pred, train_loss = test_final_loss(module_name, sol_4b, lr, layer, neurons, num_iter, margin)\n",
    "    total_loss_list.append(train_loss)"
   ]
  },
  {
   "cell_type": "code",
   "execution_count": null,
   "id": "18715abf",
   "metadata": {},
   "outputs": [],
   "source": [
    "for l, loss in zip(layers, total_loss_list):  \n",
    "    plt.plot(loss[0:90], label='Layer = {}'.format(l))\n",
    "\n",
    "plt.xlabel('Training iterations')\n",
    "plt.ylabel('Train loss')\n",
    "plt.legend()\n",
    "plt.show()\n"
   ]
  },
  {
   "cell_type": "code",
   "execution_count": null,
   "id": "06cd2c06",
   "metadata": {},
   "outputs": [],
   "source": []
  },
  {
   "cell_type": "markdown",
   "id": "11440b32",
   "metadata": {},
   "source": [
    "### 4b. Generating the Non-Linearly Separable Data High D¶"
   ]
  },
  {
   "cell_type": "markdown",
   "id": "a78de11a",
   "metadata": {},
   "source": [
    "In this case of generating the data, non linearly we deifine two univariate gaussian $x, y \\sim N(0,1)$ and define a latent condition $2x_1^2 + 3x^2 >0, y= 1$ else $y=0$ which defines the non linear decission boundary"
   ]
  },
  {
   "cell_type": "code",
   "execution_count": null,
   "id": "6f574880",
   "metadata": {},
   "outputs": [],
   "source": [
    "def data_4b_new1():\n",
    "    \n",
    "    lamda = 2\n",
    "    #Partitions to split the N observations.\n",
    "    x1 = np.random.normal(0, 1, 300)\n",
    "    x2 = np.random.normal(0, 1, 300)\n",
    "    \n",
    "    # save toy dataset\n",
    "    x_full = np.vstack((x1, x2)).T\n",
    "    y_full = np.where(2*x1**2 + 3*x2  > 0, 1, 0)\n",
    "    x_train = x_full[::2]\n",
    "    y_train = y_full[::2]\n",
    "    x_test = x_full[1::2]\n",
    "    y_test = y_full[1::2]\n",
    "   \n",
    "    \n",
    "    #get the final\n",
    "    return {\n",
    "        \"train\": (x_train, y_train.reshape(-1,1)),\n",
    "        \"test\": (x_test, y_test.reshape(-1,1))\n",
    "    }\n"
   ]
  },
  {
   "cell_type": "code",
   "execution_count": null,
   "id": "abef9394",
   "metadata": {},
   "outputs": [],
   "source": [
    "dataset = data_4b_new1()\n",
    "df = pd.DataFrame()\n",
    "df['feat1'] = dataset['train'][0][:,0]\n",
    "df['feat2'] = dataset['train'][0][:,1]\n",
    "df['response'] = dataset['train'][1]"
   ]
  },
  {
   "cell_type": "code",
   "execution_count": null,
   "id": "86c3da85",
   "metadata": {},
   "outputs": [],
   "source": [
    "sns.scatterplot(data=df, x=\"feat1\", y=\"feat2\", hue=\"response\")"
   ]
  },
  {
   "cell_type": "markdown",
   "id": "d8bed2f9",
   "metadata": {},
   "source": [
    "#### Varying the Layers"
   ]
  },
  {
   "cell_type": "code",
   "execution_count": null,
   "id": "d5f58101",
   "metadata": {},
   "outputs": [],
   "source": [
    "def test_final_loss(module_name, sol, lr, layers, neurons, num_iter):\n",
    "        \n",
    "    #define the dataset\n",
    "    dataset = data_4b_new1()\n",
    "    trainer = sol.Trainer(lr, layers,neurons)\n",
    "     \n",
    "    #initialize the network with \n",
    "    trainer.setup(dataset[\"train\"])\n",
    "    \n",
    "    #train the network\n",
    "    train_losses = trainer.train(num_iter=num_iter)\n",
    "    pred_train  = trainer.network.forward()\n",
    "    train_acc = compute_acc_sigmoid(pred_train, dataset[\"train\"][1])\n",
    "    \n",
    "    #Is final training loss less than some threshold?\n",
    "    \n",
    "    #test the data on hold-out set\n",
    "    trainer.data_layer.set_data(dataset[\"test\"][0])\n",
    "    pred = trainer.network.forward()\n",
    "    \n",
    "    #Is final training loss less than some threshold\n",
    "    test_acc = compute_acc_sigmoid(pred, dataset[\"test\"][1])\n",
    "    print(\"Test accuracy\", test_acc)\n",
    "    \n",
    "    return trainer, test_acc, pred, np.array(train_losses)[:,0]"
   ]
  },
  {
   "cell_type": "code",
   "execution_count": null,
   "id": "432ac752",
   "metadata": {},
   "outputs": [],
   "source": [
    "layers = [2,3,4, 5,7, 8, 10, 15, 20, 50]\n",
    "\n",
    "total_loss_list = []\n",
    "\n",
    "neurons = 5\n",
    "num_iter = 10000\n",
    "\n",
    "for layer in tqdm(layers) :\n",
    "    trainer, test_acc, pred, train_loss = test_final_loss(module_name, sol_4a, lr, layer, neurons, num_iter)\n",
    "    total_loss_list.append(train_loss)"
   ]
  },
  {
   "cell_type": "markdown",
   "id": "964f043a",
   "metadata": {},
   "source": [
    "#### Varying Learning rate"
   ]
  },
  {
   "cell_type": "code",
   "execution_count": null,
   "id": "0ab034af",
   "metadata": {},
   "outputs": [],
   "source": [
    "lr_list = [0.0001, 0.001, 0.002, 0.01, 0.1, 0.5, 1]\n",
    "total_loss_list = []\n",
    "\n",
    "neurons = 5\n",
    "layer = 5\n",
    "num_iter = 10000\n",
    "\n",
    "for lr in tqdm(lr_list) :\n",
    "    trainer, test_acc, pred, train_loss = test_final_loss(module_name, sol_4a, lr, layer, neurons, num_iter)\n",
    "    total_loss_list.append(train_loss)"
   ]
  },
  {
   "cell_type": "markdown",
   "id": "86f1af99",
   "metadata": {},
   "source": [
    "#### Analysis : \n",
    "\n",
    "+ It is very intuitive to see and understand that as we increase the number of layers, the test accuracy increases till a point but then it decreases due to overfitting. \n",
    "\n",
    "+ Also, for the non-linear separable and high dimensional cases the learning rate was a bit sensitive to very low or very high values. Hence, the learning rate should be in range of [0.01, 0.1], to have the most stable performance"
   ]
  },
  {
   "cell_type": "code",
   "execution_count": null,
   "id": "79abbca1",
   "metadata": {},
   "outputs": [],
   "source": []
  },
  {
   "cell_type": "markdown",
   "id": "04407dfc",
   "metadata": {},
   "source": [
    "#### 5. MNIST Data Analysis"
   ]
  },
  {
   "cell_type": "code",
   "execution_count": null,
   "id": "c5cf6ded",
   "metadata": {},
   "outputs": [],
   "source": []
  },
  {
   "cell_type": "code",
   "execution_count": null,
   "id": "65313640",
   "metadata": {},
   "outputs": [],
   "source": [
    "loss = np.load('mnist-loss.npy')\n",
    "plt.plot(loss)\n",
    "plt.ylabel('Training step')\n",
    "plt.xlabel('Train loss')\n",
    "plt.title('MNIST')\n",
    "plt.show()"
   ]
  },
  {
   "cell_type": "code",
   "execution_count": null,
   "id": "52ae7346",
   "metadata": {},
   "outputs": [],
   "source": []
  },
  {
   "cell_type": "code",
   "execution_count": null,
   "id": "a59a35f4",
   "metadata": {},
   "outputs": [],
   "source": []
  }
 ],
 "metadata": {
  "kernelspec": {
   "display_name": "Python 3",
   "language": "python",
   "name": "python3"
  },
  "language_info": {
   "codemirror_mode": {
    "name": "ipython",
    "version": 3
   },
   "file_extension": ".py",
   "mimetype": "text/x-python",
   "name": "python",
   "nbconvert_exporter": "python",
   "pygments_lexer": "ipython3",
   "version": "3.8.8"
  }
 },
 "nbformat": 4,
 "nbformat_minor": 5
}
