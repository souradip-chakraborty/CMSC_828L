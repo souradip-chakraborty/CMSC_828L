{
 "cells": [
  {
   "cell_type": "markdown",
   "id": "dd05c6dc",
   "metadata": {},
   "source": [
    "\n",
    "#### Submitted : Souradip Chakraborty \n",
    "#### UID : 118103136"
   ]
  },
  {
   "cell_type": "code",
   "execution_count": 1,
   "id": "56472d2c",
   "metadata": {},
   "outputs": [],
   "source": [
    "import os\n",
    "import numpy as np\n",
    "from utils import run_tests\n",
    "import data_generators\n",
    "import copy\n",
    "import pandas as pd\n",
    "from mpl_toolkits.mplot3d import Axes3D\n",
    "import matplotlib.pyplot as plt\n",
    "import seaborn as sns\n",
    "from utils import run_tests\n",
    "from tqdm import tqdm\n",
    "from sklearn.metrics import r2_score\n",
    "import sol_1a, sol_1b, sol_2a, sol_2b, sol_3a, sol_3b, sol_4a, sol_4b, sol_mnist\n",
    "import public_tests as public_tests"
   ]
  },
  {
   "cell_type": "code",
   "execution_count": 2,
   "id": "75a95443",
   "metadata": {},
   "outputs": [],
   "source": [
    "def data_1a():\n",
    "    x = (np.linspace(-2, 2, 60))[:, np.newaxis]\n",
    "    y = 7*x + 3 + np.random.randn(60, 1)*0.9\n",
    "    x_train = x[::2]\n",
    "    y_train = y[::2]\n",
    "\n",
    "    x_test = x[1::2]\n",
    "    y_test = y[1::2]\n",
    "    return {\n",
    "        \"train\": (x_train, y_train),\n",
    "        \"test\": (x_test, y_test)\n",
    "    }\n",
    "\n",
    "\n",
    "def plot_data(module_name):\n",
    "    \n",
    "    #initialize\n",
    "    num_correct, num_total = 0,0\n",
    "    \n",
    "    #get the dataset\n",
    "#     dataset = data_generators.generate_default_data(module_name)\n",
    "    dataset = data_1a()\n",
    "    \n",
    "    #train_data\n",
    "    x_train, y_train = dataset[\"train\"]\n",
    "    \n",
    "    #test_data\n",
    "    x_test, y_test = dataset[\"test\"]\n",
    "    \n",
    "    #plot\n",
    "    plt.scatter(x_train, y_train)\n",
    "    plt.ylabel(\"Y_train\")\n",
    "    plt.xlabel(\"X_train\")\n",
    "    plt.title(\"Training Dataset {}\".format(module_name))\n",
    "    plt.show()\n",
    "    sns.set()\n",
    "\n",
    "def compute_mse(pred, y):\n",
    "    return 1/2 * ((pred - y)**2).mean()\n",
    "    \n",
    "\n",
    "def test_final_mse(module_name, sol):\n",
    "        \n",
    "    #define the dataset\n",
    "    dataset = data_generators.generate_default_data(module_name)\n",
    "    trainer = sol.Trainer(lr)\n",
    "     \n",
    "    #initialize the network with \n",
    "    trainer.setup(dataset[\"train\"])\n",
    "    \n",
    "    #train the network\n",
    "    trainer.train(num_iter=trainer.get_num_iters_on_public_test())\n",
    "    pred_train  = trainer.network.forward()\n",
    "    \n",
    "    #Is final training loss less than some threshold?\n",
    "    mse_tr = compute_mse(pred_train, dataset[\"train\"][1])\n",
    "    print(\"Training mse\", mse_tr)\n",
    "    \n",
    "    #test the data on hold-out set\n",
    "    trainer.data_layer.set_data(dataset[\"test\"][0])\n",
    "    pred = trainer.network.forward()\n",
    "    \n",
    "    #Is final training loss less than some threshold?\n",
    "    mse_te = compute_mse(pred, dataset[\"test\"][1])\n",
    "    print(\"Test mse\", mse_te)\n",
    "    \n",
    "    return trainer"
   ]
  },
  {
   "cell_type": "code",
   "execution_count": 3,
   "id": "6498db92",
   "metadata": {},
   "outputs": [
    {
     "data": {
      "image/png": "[encoded data removed]",
      "text/plain": [
       "<Figure size 432x288 with 1 Axes>"
      ]
     },
     "metadata": {
      "needs_background": "light"
     },
     "output_type": "display_data"
    }
   ],
   "source": [
    "module_name = 'sol_1a'\n",
    "plot_data(module_name)"
   ]
  },
  {
   "cell_type": "markdown",
   "id": "77821bf9",
   "metadata": {},
   "source": [
    "### 1a : Plot showing the training data and the function that your network computes\n",
    "\n",
    "The above plot represents the true dataset generated using the equation $y = 7x + 3 + \\lambda \\eta$ where $\\eta \\sim N(0,1)$. The data is generated as per the equation where we first generate the feature variable $x$ in a range, which has been taken as $-2,2$ and we take 60 sample points. Then, we use the above equation to get y. However, we add stochasticity to our $y$ by adding $\\eta \\sim N(0,1)$ and multiply with a coefficient. It can be easily seen as we increase the magnitude of $\\eta$, the data becomes more noisy and it becomes harder to fit the same regression model"
   ]
  },
  {
   "cell_type": "markdown",
   "id": "15803fc5",
   "metadata": {},
   "source": [
    "#### Training model"
   ]
  },
  {
   "cell_type": "code",
   "execution_count": 4,
   "id": "35119201",
   "metadata": {},
   "outputs": [
    {
     "name": "stdout",
     "output_type": "stream",
     "text": [
      "Training mse 0.006698267339882832\n",
      "Test mse 0.00405390456981813\n"
     ]
    }
   ],
   "source": [
    "lr = 0.01\n",
    "trainer_out = test_final_mse(module_name, sol_1a)"
   ]
  },
  {
   "cell_type": "markdown",
   "id": "fba948dc",
   "metadata": {},
   "source": [
    "#### Get the model parameters and plot"
   ]
  },
  {
   "cell_type": "code",
   "execution_count": 5,
   "id": "46ffcc7a",
   "metadata": {},
   "outputs": [
    {
     "name": "stdout",
     "output_type": "stream",
     "text": [
      "Predicted parameters are :[7.022573514311726, 3.0107452155751973]\n"
     ]
    },
    {
     "data": {
      "text/plain": [
       "<matplotlib.legend.Legend at 0x7f87b00af6a0>"
      ]
     },
     "execution_count": 5,
     "metadata": {},
     "output_type": "execute_result"
    },
    {
     "data": {
      "image/png": "[encoded data removed]",
      "text/plain": [
       "<Figure size 432x288 with 1 Axes>"
      ]
     },
     "metadata": {},
     "output_type": "display_data"
    }
   ],
   "source": [
    "params = []\n",
    "for m in trainer_out.network.get_modules_with_parameters() :\n",
    "    params.append(m.W[0][0])\n",
    "print ('Predicted parameters are :' + str(params))\n",
    "\n",
    "#Get the plot for the 1-d function\n",
    "dataset = data_generators.generate_default_data(module_name)\n",
    "\n",
    "x_train = dataset['train'][0]\n",
    "y_train = dataset['train'][1]\n",
    "\n",
    "x_test = dataset['test'][0]\n",
    "y_test = dataset['test'][1]\n",
    "\n",
    "#plot for train and test\n",
    "plt.scatter(x_train,y_train, color='green', label=\"Train Dataset\")\n",
    "plt.plot(x_train, params[0]*x_train + params[1], color='darkblue', label=\"Fitted regression\")\n",
    "plt.ylabel(\"Y_train\")\n",
    "plt.xlabel(\"X_train\")\n",
    "plt.legend()\n"
   ]
  },
  {
   "cell_type": "markdown",
   "id": "91fbe898",
   "metadata": {},
   "source": [
    "It can also be clearly seen from the below plot that the performance is equally good in test data which indicates sign of generaliation and no overfitting. "
   ]
  },
  {
   "cell_type": "code",
   "execution_count": 6,
   "id": "869b441b",
   "metadata": {},
   "outputs": [
    {
     "data": {
      "text/plain": [
       "<matplotlib.legend.Legend at 0x7f87e0dffdc0>"
      ]
     },
     "execution_count": 6,
     "metadata": {},
     "output_type": "execute_result"
    },
    {
     "data": {
      "image/png": "[encoded data removed]",
      "text/plain": [
       "<Figure size 432x288 with 1 Axes>"
      ]
     },
     "metadata": {},
     "output_type": "display_data"
    }
   ],
   "source": [
    "#plot for train and test\n",
    "plt.scatter(x_test,y_test, color='green', label=\"Test Dataset\")\n",
    "plt.plot(x_test, params[0]*x_test + params[1], color='darkblue', label=\"Fitted regression\")\n",
    "plt.ylabel(\"Y_test\")\n",
    "plt.xlabel(\"X_test\")\n",
    "plt.legend()\n"
   ]
  },
  {
   "cell_type": "markdown",
   "id": "811c03ed",
   "metadata": {},
   "source": [
    "Now, if we increase the noise in the data generation and try to implement the same process, we can see the variation below, that the line doesn't go through all the points but the line of best fit is constructed."
   ]
  },
  {
   "cell_type": "markdown",
   "id": "11dfe7e8",
   "metadata": {},
   "source": [
    " "
   ]
  },
  {
   "cell_type": "markdown",
   "id": "6e683210",
   "metadata": {},
   "source": [
    "### 1b. Performasimilarexperimentusinghigher-dimensional input\n",
    "\n",
    "Here we perform the same experiment, but we generate high-dimensional data and try the same excersise. We generate a 2 dimensional feature $X$ in a span of $-2, 2$ and we generate $y$ using the equation $2x_1 - 3x_2 + 5$. Then add gaussian noise as before to add stochasiticity to our dataset. As mentioned before, we add a constant factor of $0.1$ with the $\\eta$ and as we increase it the magnitude of noise increases"
   ]
  },
  {
   "cell_type": "code",
   "execution_count": 7,
   "id": "5c6bf512",
   "metadata": {},
   "outputs": [],
   "source": [
    "#Read the data\n",
    "dataset = data_generators.data_1b()\n",
    "x_train = dataset['train'][0]\n",
    "y_train = dataset['train'][1]\n",
    "\n",
    "x_test = dataset['test'][0]\n",
    "y_test = dataset['test'][1]\n"
   ]
  },
  {
   "cell_type": "code",
   "execution_count": 8,
   "id": "e691b7f2",
   "metadata": {},
   "outputs": [
    {
     "data": {
      "text/plain": [
       "Text(0.5, 1.0, 'Scatter Plot in the Feature Space')"
      ]
     },
     "execution_count": 8,
     "metadata": {},
     "output_type": "execute_result"
    },
    {
     "data": {
      "image/png": "[encoded data removed]",
      "text/plain": [
       "<Figure size 432x288 with 1 Axes>"
      ]
     },
     "metadata": {},
     "output_type": "display_data"
    }
   ],
   "source": [
    "plt.scatter(x_train[:,0], x_train[:,1])\n",
    "plt.ylabel(\"Feature 2\")\n",
    "plt.xlabel(\"Feature 1\")\n",
    "plt.title('Scatter Plot in the Feature Space')"
   ]
  },
  {
   "cell_type": "code",
   "execution_count": 9,
   "id": "92992b1b",
   "metadata": {},
   "outputs": [
    {
     "name": "stdout",
     "output_type": "stream",
     "text": [
      "Training mse 0.0048271322721568964\n",
      "Test mse 0.004977502719641055\n"
     ]
    }
   ],
   "source": [
    "module_name = 'sol_1b'\n",
    "lr = 0.2\n",
    "trainer_out = test_final_mse(module_name, sol_1b)"
   ]
  },
  {
   "cell_type": "code",
   "execution_count": 10,
   "id": "7de055f6",
   "metadata": {},
   "outputs": [
    {
     "name": "stdout",
     "output_type": "stream",
     "text": [
      "Predicted parameters are :[array([[ 1.99967226],\n",
      "       [-2.99995548]]), array([[4.99526843]])]\n"
     ]
    }
   ],
   "source": [
    "params = []\n",
    "for m in trainer_out.network.get_modules_with_parameters() :\n",
    "    params.append(m.W)\n",
    "print ('Predicted parameters are :' + str(params))"
   ]
  },
  {
   "cell_type": "markdown",
   "id": "52c9b328",
   "metadata": {},
   "source": [
    "As it can be observed that the predicted parameters are extremely close to the true parameters which indicates good performance."
   ]
  },
  {
   "cell_type": "markdown",
   "id": "6e0ebaba",
   "metadata": {},
   "source": [
    "### 1c. How difficult was it to find an appropriate set of hyperparameters to solve this problem\n",
    "\n",
    "Hyperparameter optimization for this task was not extremely difficult as its a linear problem with a convex loss function and it easily converges. the primary hyperparameter for this is the learning rate $\\alpha$. The below plot shows the variation of the $MSE$ with the hyperparameters for problem $1a \\& 1b$"
   ]
  },
  {
   "cell_type": "code",
   "execution_count": 11,
   "id": "812aaff8",
   "metadata": {},
   "outputs": [],
   "source": [
    "def test_final_mse(module_name, sol, lr):\n",
    "        \n",
    "    #define the dataset\n",
    "    dataset = data_generators.generate_default_data(module_name)\n",
    "    trainer = sol.Trainer(lr)\n",
    "     \n",
    "    #initialize the network with \n",
    "    trainer.setup(dataset[\"train\"])\n",
    "    \n",
    "    #train the network\n",
    "    trainer.train(num_iter=trainer.get_num_iters_on_public_test())\n",
    "    pred_train  = trainer.network.forward()\n",
    "    \n",
    "    #Is final training loss less than some threshold?\n",
    "    mse_tr = compute_mse(pred_train, dataset[\"train\"][1])\n",
    "    print(\"Training mse\", mse_tr)\n",
    "    \n",
    "    #test the data on hold-out set\n",
    "    trainer.data_layer.set_data(dataset[\"test\"][0])\n",
    "    pred = trainer.network.forward()\n",
    "    \n",
    "    #Is final training loss less than some threshold?\n",
    "    mse_te = compute_mse(pred, dataset[\"test\"][1])\n",
    "    print(\"Test mse\", mse_te)\n",
    "    \n",
    "    return trainer, mse_te"
   ]
  },
  {
   "cell_type": "code",
   "execution_count": 12,
   "id": "d12985d4",
   "metadata": {
    "scrolled": true
   },
   "outputs": [
    {
     "name": "stderr",
     "output_type": "stream",
     "text": [
      "  6%|▋         | 1/16 [00:01<00:17,  1.16s/it]"
     ]
    },
    {
     "name": "stdout",
     "output_type": "stream",
     "text": [
      "Training mse 49.847741684624516\n",
      "Test mse 51.315707884693936\n"
     ]
    },
    {
     "name": "stderr",
     "output_type": "stream",
     "text": [
      " 12%|█▎        | 2/16 [00:02<00:15,  1.14s/it]"
     ]
    },
    {
     "name": "stdout",
     "output_type": "stream",
     "text": [
      "Training mse 2.9542857339737965\n",
      "Test mse 3.270052171679088\n"
     ]
    },
    {
     "name": "stderr",
     "output_type": "stream",
     "text": [
      " 19%|█▉        | 3/16 [00:03<00:14,  1.14s/it]"
     ]
    },
    {
     "name": "stdout",
     "output_type": "stream",
     "text": [
      "Training mse 0.31335195978815217\n",
      "Test mse 0.31355604223117756\n"
     ]
    },
    {
     "name": "stderr",
     "output_type": "stream",
     "text": [
      " 25%|██▌       | 4/16 [00:04<00:13,  1.15s/it]"
     ]
    },
    {
     "name": "stdout",
     "output_type": "stream",
     "text": [
      "Training mse 0.0028510838026828173\n",
      "Test mse 0.004063401808247527\n"
     ]
    },
    {
     "name": "stderr",
     "output_type": "stream",
     "text": [
      " 31%|███▏      | 5/16 [00:05<00:12,  1.16s/it]"
     ]
    },
    {
     "name": "stdout",
     "output_type": "stream",
     "text": [
      "Training mse 0.003498035032275408\n",
      "Test mse 0.003934737603622898\n"
     ]
    },
    {
     "name": "stderr",
     "output_type": "stream",
     "text": [
      " 38%|███▊      | 6/16 [00:06<00:11,  1.15s/it]"
     ]
    },
    {
     "name": "stdout",
     "output_type": "stream",
     "text": [
      "Training mse 0.005572931694457297\n",
      "Test mse 0.005584251325419443\n"
     ]
    },
    {
     "name": "stderr",
     "output_type": "stream",
     "text": [
      " 44%|████▍     | 7/16 [00:08<00:10,  1.16s/it]"
     ]
    },
    {
     "name": "stdout",
     "output_type": "stream",
     "text": [
      "Training mse 0.00684955455782631\n",
      "Test mse 0.006475462049471845\n"
     ]
    },
    {
     "name": "stderr",
     "output_type": "stream",
     "text": [
      " 50%|█████     | 8/16 [00:09<00:09,  1.17s/it]"
     ]
    },
    {
     "name": "stdout",
     "output_type": "stream",
     "text": [
      "Training mse 0.003906605860319569\n",
      "Test mse 0.0051549486857420225\n"
     ]
    },
    {
     "name": "stderr",
     "output_type": "stream",
     "text": [
      " 56%|█████▋    | 9/16 [00:10<00:08,  1.17s/it]"
     ]
    },
    {
     "name": "stdout",
     "output_type": "stream",
     "text": [
      "Training mse 0.004887950119941199\n",
      "Test mse 0.004956531157656949\n"
     ]
    },
    {
     "name": "stderr",
     "output_type": "stream",
     "text": [
      " 62%|██████▎   | 10/16 [00:11<00:06,  1.16s/it]"
     ]
    },
    {
     "name": "stdout",
     "output_type": "stream",
     "text": [
      "Training mse 0.0037933096425594366\n",
      "Test mse 0.00462492146620245\n"
     ]
    },
    {
     "name": "stderr",
     "output_type": "stream",
     "text": [
      " 69%|██████▉   | 11/16 [00:12<00:05,  1.16s/it]"
     ]
    },
    {
     "name": "stdout",
     "output_type": "stream",
     "text": [
      "Training mse 0.00458112343742106\n",
      "Test mse 0.0036792216893684246\n"
     ]
    },
    {
     "name": "stderr",
     "output_type": "stream",
     "text": [
      " 75%|███████▌  | 12/16 [00:13<00:04,  1.15s/it]"
     ]
    },
    {
     "name": "stdout",
     "output_type": "stream",
     "text": [
      "Training mse 0.004931588771927603\n",
      "Test mse 0.0051770443093320335\n"
     ]
    },
    {
     "name": "stderr",
     "output_type": "stream",
     "text": [
      " 81%|████████▏ | 13/16 [00:15<00:03,  1.16s/it]"
     ]
    },
    {
     "name": "stdout",
     "output_type": "stream",
     "text": [
      "Training mse 0.0027881491247816964\n",
      "Test mse 0.006966052634701772\n"
     ]
    },
    {
     "name": "stderr",
     "output_type": "stream",
     "text": [
      " 88%|████████▊ | 14/16 [00:16<00:02,  1.36s/it]"
     ]
    },
    {
     "name": "stdout",
     "output_type": "stream",
     "text": [
      "Training mse 0.0045707252602117995\n",
      "Test mse 0.0039516585680296435\n"
     ]
    },
    {
     "name": "stderr",
     "output_type": "stream",
     "text": [
      " 94%|█████████▍| 15/16 [00:18<00:01,  1.52s/it]"
     ]
    },
    {
     "name": "stdout",
     "output_type": "stream",
     "text": [
      "Training mse 0.0025112465321656054\n",
      "Test mse 0.005060167459034968\n"
     ]
    },
    {
     "name": "stderr",
     "output_type": "stream",
     "text": [
      "100%|██████████| 16/16 [00:19<00:00,  1.25s/it]"
     ]
    },
    {
     "name": "stdout",
     "output_type": "stream",
     "text": [
      "Training mse 0.004609205719815308\n",
      "Test mse 0.005376677931977782\n"
     ]
    },
    {
     "name": "stderr",
     "output_type": "stream",
     "text": [
      "\n"
     ]
    }
   ],
   "source": [
    "list_lr = [0.00001, 0.001, 0.002, 0.005, 0.009, 0.01, 0.02, 0.03, 0.09, 0.1, 0.2, 0.5, 0.9,1,2,4]\n",
    "module_name = 'sol_1a'\n",
    "mse_1ist = []\n",
    "\n",
    "for lr in tqdm(list_lr) :\n",
    "    trainer, mse_te = test_final_mse(module_name, sol_1a, lr)\n",
    "    mse_1ist.append(mse_te)"
   ]
  },
  {
   "cell_type": "markdown",
   "id": "2550f783",
   "metadata": {},
   "source": [
    "### MSE  Plot Varying the learning rate for sol_1a"
   ]
  },
  {
   "cell_type": "markdown",
   "id": "0a429804",
   "metadata": {},
   "source": [
    "##### Note :In future steps, will be showing the analysis in log-10 scale for better understanding the difference"
   ]
  },
  {
   "cell_type": "code",
   "execution_count": 13,
   "id": "4f2e0f28",
   "metadata": {},
   "outputs": [
    {
     "data": {
      "image/png": "[encoded data removed]",
      "text/plain": [
       "<Figure size 432x288 with 1 Axes>"
      ]
     },
     "metadata": {},
     "output_type": "display_data"
    }
   ],
   "source": [
    "plt.plot([str(lr) for lr in list_lr], np.log10(mse_1ist))\n",
    "plt.xlabel('Learning rate')\n",
    "plt.ylabel('Test log-MSE') \n",
    "plt.title('sol_1a')\n",
    "plt.xticks(rotation=90)\n",
    "plt.show()"
   ]
  },
  {
   "cell_type": "markdown",
   "id": "0e9fba95",
   "metadata": {},
   "source": [
    "### Varying the learning rate for sol_1b\n"
   ]
  },
  {
   "cell_type": "code",
   "execution_count": 14,
   "id": "1108f1ac",
   "metadata": {
    "scrolled": true
   },
   "outputs": [
    {
     "name": "stderr",
     "output_type": "stream",
     "text": [
      "  8%|▊         | 1/13 [00:01<00:22,  1.88s/it]"
     ]
    },
    {
     "name": "stdout",
     "output_type": "stream",
     "text": [
      "Training mse 6.920104085201847\n",
      "Test mse 6.96408082524617\n"
     ]
    },
    {
     "name": "stderr",
     "output_type": "stream",
     "text": [
      " 15%|█▌        | 2/13 [00:03<00:20,  1.87s/it]"
     ]
    },
    {
     "name": "stdout",
     "output_type": "stream",
     "text": [
      "Training mse 5.810088190766128\n",
      "Test mse 5.779023953951454\n"
     ]
    },
    {
     "name": "stderr",
     "output_type": "stream",
     "text": [
      " 23%|██▎       | 3/13 [00:05<00:18,  1.86s/it]"
     ]
    },
    {
     "name": "stdout",
     "output_type": "stream",
     "text": [
      "Training mse 3.0321208489492366\n",
      "Test mse 3.0144277468120815\n"
     ]
    },
    {
     "name": "stderr",
     "output_type": "stream",
     "text": [
      " 31%|███       | 4/13 [00:07<00:16,  1.88s/it]"
     ]
    },
    {
     "name": "stdout",
     "output_type": "stream",
     "text": [
      "Training mse 0.052514051735766405\n",
      "Test mse 0.05295739882887652\n"
     ]
    },
    {
     "name": "stderr",
     "output_type": "stream",
     "text": [
      " 38%|███▊      | 5/13 [00:09<00:15,  1.98s/it]"
     ]
    },
    {
     "name": "stdout",
     "output_type": "stream",
     "text": [
      "Training mse 0.02558393580607497\n",
      "Test mse 0.026329066772829455\n"
     ]
    },
    {
     "name": "stderr",
     "output_type": "stream",
     "text": [
      " 46%|████▌     | 6/13 [00:11<00:14,  2.01s/it]"
     ]
    },
    {
     "name": "stdout",
     "output_type": "stream",
     "text": [
      "Training mse 0.005090436326494648\n",
      "Test mse 0.005033888008296203\n"
     ]
    },
    {
     "name": "stderr",
     "output_type": "stream",
     "text": [
      " 54%|█████▍    | 7/13 [00:13<00:11,  1.98s/it]"
     ]
    },
    {
     "name": "stdout",
     "output_type": "stream",
     "text": [
      "Training mse 0.005254725938669286\n",
      "Test mse 0.005092932338714106\n"
     ]
    },
    {
     "name": "stderr",
     "output_type": "stream",
     "text": [
      " 62%|██████▏   | 8/13 [00:15<00:09,  1.99s/it]"
     ]
    },
    {
     "name": "stdout",
     "output_type": "stream",
     "text": [
      "Training mse 0.0052525237181946065\n",
      "Test mse 0.004798102232609628\n"
     ]
    },
    {
     "name": "stderr",
     "output_type": "stream",
     "text": [
      " 69%|██████▉   | 9/13 [00:17<00:08,  2.03s/it]"
     ]
    },
    {
     "name": "stdout",
     "output_type": "stream",
     "text": [
      "Training mse 0.004928096806507936\n",
      "Test mse 0.004849689848953361\n"
     ]
    },
    {
     "name": "stderr",
     "output_type": "stream",
     "text": [
      " 77%|███████▋  | 10/13 [00:19<00:06,  2.06s/it]"
     ]
    },
    {
     "name": "stdout",
     "output_type": "stream",
     "text": [
      "Training mse 0.00503077310082004\n",
      "Test mse 0.00540690187020851\n"
     ]
    },
    {
     "name": "stderr",
     "output_type": "stream",
     "text": [
      " 85%|████████▍ | 11/13 [00:21<00:04,  2.02s/it]"
     ]
    },
    {
     "name": "stdout",
     "output_type": "stream",
     "text": [
      "Training mse 0.005286993278513129\n",
      "Test mse 0.0050401592133536574\n"
     ]
    },
    {
     "name": "stderr",
     "output_type": "stream",
     "text": [
      " 92%|█████████▏| 12/13 [00:23<00:02,  2.00s/it]"
     ]
    },
    {
     "name": "stdout",
     "output_type": "stream",
     "text": [
      "Training mse 0.0048179329309651344\n",
      "Test mse 0.005380446907203988\n"
     ]
    },
    {
     "name": "stderr",
     "output_type": "stream",
     "text": [
      "100%|██████████| 13/13 [00:25<00:00,  1.98s/it]"
     ]
    },
    {
     "name": "stdout",
     "output_type": "stream",
     "text": [
      "Training mse 0.004939407660147204\n",
      "Test mse 0.005090537636842236\n"
     ]
    },
    {
     "name": "stderr",
     "output_type": "stream",
     "text": [
      "\n"
     ]
    }
   ],
   "source": [
    "list_lr = [0.01, 0.02, 0.03, 0.09, 0.1, 0.2, 0.3, 0.6, 0.7, 0.9,1, 2, 4]\n",
    "module_name = 'sol_1b'\n",
    "mse_1ist = []\n",
    "\n",
    "for lr in tqdm(list_lr) :\n",
    "    trainer, mse_te = test_final_mse(module_name, sol_1b, lr)\n",
    "    mse_1ist.append(mse_te)"
   ]
  },
  {
   "cell_type": "code",
   "execution_count": 15,
   "id": "5f171430",
   "metadata": {},
   "outputs": [
    {
     "data": {
      "image/png": "[encoded data removed]",
      "text/plain": [
       "<Figure size 432x288 with 1 Axes>"
      ]
     },
     "metadata": {},
     "output_type": "display_data"
    }
   ],
   "source": [
    "plt.plot([str(lr) for lr in list_lr], np.log10(mse_1ist))\n",
    "plt.xlabel('Learning rate')\n",
    "plt.ylabel('Test log-MSE') \n",
    "plt.title('sol_1b')\n",
    "plt.xticks(rotation=90)\n",
    "plt.show()"
   ]
  },
  {
   "cell_type": "markdown",
   "id": "a44cc978",
   "metadata": {},
   "source": [
    "### 1c Explaination of learning rate\n",
    "\n",
    "It is extremely clear from the analysis that for the problem 1, there is sensitivity of hyperparameters towards lower learning rate but that might be due to constraining the number of iterations. As, we can clearly see that keeping the no of iterations constant, learning rate of 1e-2 gives a higher MSE as it takes more time to converge. However, increasing the learning rate give a much better rate of convergence. One possible reason is that since the loss landscape is smooth and the function is convex, very high learning rate will give us quick convergence"
   ]
  },
  {
   "cell_type": "markdown",
   "id": "7174cb0f",
   "metadata": {},
   "source": [
    " "
   ]
  },
  {
   "cell_type": "markdown",
   "id": "1494018c",
   "metadata": {},
   "source": [
    "### 2a.  Generate training data from a simple 1D function, such as a sine wave."
   ]
  },
  {
   "cell_type": "code",
   "execution_count": 16,
   "id": "2e046dc2",
   "metadata": {},
   "outputs": [
    {
     "data": {
      "text/plain": [
       "<matplotlib.legend.Legend at 0x7f87e0e50520>"
      ]
     },
     "execution_count": 16,
     "metadata": {},
     "output_type": "execute_result"
    },
    {
     "data": {
      "image/png": "[encoded data removed]",
      "text/plain": [
       "<Figure size 432x288 with 1 Axes>"
      ]
     },
     "metadata": {},
     "output_type": "display_data"
    }
   ],
   "source": [
    "#Get the plot for the 1-d function\n",
    "module_name = 'sol_2a'\n",
    "dataset = data_generators.generate_default_data(module_name)\n",
    "\n",
    "x_train, y_train = dataset['train']\n",
    "x_test, y_test = dataset['test']\n",
    "\n",
    "\n",
    "#plot for train and test\n",
    "plt.scatter(x_train,y_train, color='green', label=\"Train Dataset\")\n",
    "plt.ylabel(\"Y_train\")\n",
    "plt.xlabel(\"X_train\")\n",
    "plt.legend()"
   ]
  },
  {
   "cell_type": "markdown",
   "id": "8329f086",
   "metadata": {},
   "source": [
    "### 2a. Data Generator\n",
    "The above plot represents the true dataset generated using the equation $y = sinx + \\lambda \\eta$ where $\\eta \\sim N(0,1)$. The data is generated as per the equation where we first generate the feature variable $x$ in a range, which has been taken as $-2,2$ and we take 30 sample points. Then, we use the above equation to get y. However, we add stochasticity to our $y$ by adding $\\eta \\sim N(0,1)$ and multiply with a coefficient. "
   ]
  },
  {
   "cell_type": "markdown",
   "id": "cf288726",
   "metadata": {},
   "source": [
    "#### 2a Model Fitting "
   ]
  },
  {
   "cell_type": "code",
   "execution_count": 17,
   "id": "844c56ef",
   "metadata": {},
   "outputs": [],
   "source": [
    "def test_final_mse(module_name, sol, lr):\n",
    "        \n",
    "    #define the dataset\n",
    "    dataset = data_generators.generate_default_data(module_name)\n",
    "    trainer = sol.Trainer(lr)\n",
    "     \n",
    "    #initialize the network with \n",
    "    trainer.setup(dataset[\"train\"])\n",
    "    \n",
    "    #train the network\n",
    "    trainer.train(num_iter=trainer.get_num_iters_on_public_test())\n",
    "    pred_train  = trainer.network.forward()\n",
    "    \n",
    "    #Is final training loss less than some threshold?\n",
    "    mse_tr = compute_mse(pred_train, dataset[\"train\"][1])\n",
    "    print(\"Training mse\", mse_tr)\n",
    "    \n",
    "    #test the data on hold-out set\n",
    "    trainer.data_layer.set_data(dataset[\"test\"][0])\n",
    "    pred = trainer.network.forward()\n",
    "    \n",
    "    #Is final training loss less than some threshold?\n",
    "    mse_te = compute_mse(pred, dataset[\"test\"][1])\n",
    "    print(\"Test mse\", mse_te)\n",
    "    \n",
    "    return trainer, mse_te, pred"
   ]
  },
  {
   "cell_type": "code",
   "execution_count": 18,
   "id": "bf938fd3",
   "metadata": {},
   "outputs": [
    {
     "name": "stdout",
     "output_type": "stream",
     "text": [
      "Training mse 0.0005400950132147733\n",
      "Test mse 0.002710698138013349\n"
     ]
    }
   ],
   "source": [
    "module_name = 'sol_2a'\n",
    "lr = 0.2\n",
    "trainer, mse_te, pred = test_final_mse(module_name, sol_2a, lr)"
   ]
  },
  {
   "cell_type": "markdown",
   "id": "46cccee8",
   "metadata": {},
   "source": [
    "#### 2a Plotting the Test Function"
   ]
  },
  {
   "cell_type": "code",
   "execution_count": 19,
   "id": "681e7ae6",
   "metadata": {},
   "outputs": [
    {
     "data": {
      "text/plain": [
       "<matplotlib.legend.Legend at 0x7f87e0ea1460>"
      ]
     },
     "execution_count": 19,
     "metadata": {},
     "output_type": "execute_result"
    },
    {
     "data": {
      "image/png": "[encoded data removed]",
      "text/plain": [
       "<Figure size 432x288 with 1 Axes>"
      ]
     },
     "metadata": {},
     "output_type": "display_data"
    }
   ],
   "source": [
    "# plt.plot(pred)\n",
    "plt.scatter(dataset[\"test\"][0], dataset[\"test\"][1], color = 'blue', label = 'Test_data')\n",
    "plt.plot(dataset[\"test\"][0], pred, color = 'red', label = 'Fitted curve' )\n",
    "plt.legend()"
   ]
  },
  {
   "cell_type": "markdown",
   "id": "d3546f56",
   "metadata": {},
   "source": [
    " "
   ]
  },
  {
   "cell_type": "markdown",
   "id": "95de249b",
   "metadata": {},
   "source": [
    "### 2b.  Similar Experiment on High Dimensional Input\n",
    "\n",
    "For this experiment, we generate the data using the $y = 1.7 x_1^2 + 0.6 x_2 + 2 + \\lambda \\eta$. Like before, we generate 60 samples within a range (-2,2) for each feature variable $x_1 \\& x_2$\n",
    "Then, we use the above equation to get y. However, we add stochasticity to our  𝑦  by adding  𝜂∼𝑁(0,1)  and multiply with a coefficient."
   ]
  },
  {
   "cell_type": "code",
   "execution_count": 20,
   "id": "03bd5e9b",
   "metadata": {},
   "outputs": [
    {
     "data": {
      "text/plain": [
       "Text(0.5, 1.0, 'Scatter Plot in the Feature Space')"
      ]
     },
     "execution_count": 20,
     "metadata": {},
     "output_type": "execute_result"
    },
    {
     "data": {
      "image/png": "[encoded data removed]",
      "text/plain": [
       "<Figure size 432x288 with 1 Axes>"
      ]
     },
     "metadata": {},
     "output_type": "display_data"
    }
   ],
   "source": [
    "#Get the plot for the 1-d function\n",
    "module_name = 'sol_2b'\n",
    "dataset = data_generators.generate_default_data(module_name)\n",
    "\n",
    "x_train, y_train = dataset['train']\n",
    "x_test, y_test = dataset['test']\n",
    "\n",
    "plt.scatter(x_train[:,0], x_train[:,1])\n",
    "plt.ylabel(\"Feature 2\")\n",
    "plt.xlabel(\"Feature 1\")\n",
    "plt.title('Scatter Plot in the Feature Space')\n",
    "\n"
   ]
  },
  {
   "cell_type": "markdown",
   "id": "6a89b62a",
   "metadata": {},
   "source": [
    "Let's also try to visualize and understand the scatter with y and each feature dimension"
   ]
  },
  {
   "cell_type": "code",
   "execution_count": 21,
   "id": "7e787721",
   "metadata": {},
   "outputs": [
    {
     "data": {
      "text/plain": [
       "Text(0.5, 1.0, 'Scatter Plot with y and x1')"
      ]
     },
     "execution_count": 21,
     "metadata": {},
     "output_type": "execute_result"
    },
    {
     "data": {
      "image/png": "[encoded data removed]",
      "text/plain": [
       "<Figure size 432x288 with 1 Axes>"
      ]
     },
     "metadata": {},
     "output_type": "display_data"
    }
   ],
   "source": [
    "plt.scatter(x_train[:,0], y_train)\n",
    "plt.ylabel(\"y_train\")\n",
    "plt.xlabel(\"Feature 1\")\n",
    "plt.title('Scatter Plot with y and x1')\n",
    "\n"
   ]
  },
  {
   "cell_type": "code",
   "execution_count": 22,
   "id": "2368c307",
   "metadata": {},
   "outputs": [
    {
     "data": {
      "text/plain": [
       "Text(0.5, 1.0, 'Scatter Plot with y and x2')"
      ]
     },
     "execution_count": 22,
     "metadata": {},
     "output_type": "execute_result"
    },
    {
     "data": {
      "image/png": "[encoded data removed]",
      "text/plain": [
       "<Figure size 432x288 with 1 Axes>"
      ]
     },
     "metadata": {},
     "output_type": "display_data"
    }
   ],
   "source": [
    "plt.scatter(x_train[:,1], y_train)\n",
    "plt.ylabel(\"y_train\")\n",
    "plt.xlabel(\"Feature 2\")\n",
    "plt.title('Scatter Plot with y and x2')\n"
   ]
  },
  {
   "cell_type": "markdown",
   "id": "77061b12",
   "metadata": {},
   "source": [
    "#### 2b.  Model Fitting\n",
    "\n",
    "Note : For this experiment, the number of neurons in the hidden units was kept as 40. "
   ]
  },
  {
   "cell_type": "code",
   "execution_count": 23,
   "id": "12d6aefc",
   "metadata": {},
   "outputs": [
    {
     "name": "stdout",
     "output_type": "stream",
     "text": [
      "Training mse 0.06947317081736472\n",
      "Test mse 0.07570008089621408\n"
     ]
    }
   ],
   "source": [
    "module_name = 'sol_2b'\n",
    "lr = 0.2\n",
    "trainer, mse_te, pred = test_final_mse(module_name, sol_2b, lr)"
   ]
  },
  {
   "cell_type": "code",
   "execution_count": null,
   "id": "54f0bbdb",
   "metadata": {},
   "outputs": [],
   "source": []
  },
  {
   "cell_type": "markdown",
   "id": "8028af24",
   "metadata": {},
   "source": [
    "### 2c || MSE Plot Varying the learning rate for sol_2a "
   ]
  },
  {
   "cell_type": "code",
   "execution_count": 24,
   "id": "6ae823b8",
   "metadata": {
    "scrolled": true
   },
   "outputs": [
    {
     "name": "stderr",
     "output_type": "stream",
     "text": [
      " 12%|█▎        | 1/8 [00:02<00:18,  2.59s/it]"
     ]
    },
    {
     "name": "stdout",
     "output_type": "stream",
     "text": [
      "Training mse 0.009715244209630628\n",
      "Test mse 0.015326284094394267\n",
      "Training mse"
     ]
    },
    {
     "name": "stderr",
     "output_type": "stream",
     "text": [
      " 25%|██▌       | 2/8 [00:05<00:15,  2.57s/it]"
     ]
    },
    {
     "name": "stdout",
     "output_type": "stream",
     "text": [
      " 0.0028508319471039554\n",
      "Test mse 0.0031944086448607383\n"
     ]
    },
    {
     "name": "stderr",
     "output_type": "stream",
     "text": [
      " 38%|███▊      | 3/8 [00:07<00:12,  2.60s/it]"
     ]
    },
    {
     "name": "stdout",
     "output_type": "stream",
     "text": [
      "Training mse 0.0006005970779130119\n",
      "Test mse 0.0006115371298726755\n"
     ]
    },
    {
     "name": "stderr",
     "output_type": "stream",
     "text": [
      " 50%|█████     | 4/8 [00:10<00:10,  2.68s/it]"
     ]
    },
    {
     "name": "stdout",
     "output_type": "stream",
     "text": [
      "Training mse 0.0020083614757394233\n",
      "Test mse 0.0026182483365218205\n"
     ]
    },
    {
     "name": "stderr",
     "output_type": "stream",
     "text": [
      " 62%|██████▎   | 5/8 [00:13<00:08,  2.69s/it]"
     ]
    },
    {
     "name": "stdout",
     "output_type": "stream",
     "text": [
      "Training mse 0.0009162541491341125\n",
      "Test mse 0.0008826316348465944\n"
     ]
    },
    {
     "name": "stderr",
     "output_type": "stream",
     "text": [
      " 75%|███████▌  | 6/8 [00:16<00:05,  2.70s/it]"
     ]
    },
    {
     "name": "stdout",
     "output_type": "stream",
     "text": [
      "Training mse 0.0004615340235129315\n",
      "Test mse 0.001150987781428446\n"
     ]
    },
    {
     "name": "stderr",
     "output_type": "stream",
     "text": [
      " 88%|████████▊ | 7/8 [00:18<00:02,  2.68s/it]"
     ]
    },
    {
     "name": "stdout",
     "output_type": "stream",
     "text": [
      "Training mse 0.0004481583621938628\n",
      "Test mse 0.0016054617566399006\n",
      "Training mse"
     ]
    },
    {
     "name": "stderr",
     "output_type": "stream",
     "text": [
      "100%|██████████| 8/8 [00:21<00:00,  2.66s/it]"
     ]
    },
    {
     "name": "stdout",
     "output_type": "stream",
     "text": [
      " 2.864007963509023e-05\n",
      "Test mse 0.0004585814477727714\n"
     ]
    },
    {
     "name": "stderr",
     "output_type": "stream",
     "text": [
      "\n"
     ]
    }
   ],
   "source": [
    "list_lr = [0.001, 0.01, 0.02, 0.03, 0.09, 0.1, 0.2, 0.7]\n",
    "module_name = 'sol_2a'\n",
    "mse_1ist = []\n",
    "\n",
    "for lr in tqdm(list_lr) :\n",
    "    trainer, mse_te, pred = test_final_mse(module_name, sol_2a, lr)\n",
    "    mse_1ist.append(mse_te)"
   ]
  },
  {
   "cell_type": "code",
   "execution_count": 25,
   "id": "2dca8ef7",
   "metadata": {},
   "outputs": [
    {
     "data": {
      "image/png": "[encoded data removed]",
      "text/plain": [
       "<Figure size 432x288 with 1 Axes>"
      ]
     },
     "metadata": {},
     "output_type": "display_data"
    }
   ],
   "source": [
    "plt.plot([str(lr) for lr in list_lr], np.log10(mse_1ist))\n",
    "plt.xlabel('Learning rate')\n",
    "plt.ylabel('Test log MSE') \n",
    "plt.title('sol_2a')\n",
    "plt.xticks(rotation=90)\n",
    "plt.show()"
   ]
  },
  {
   "cell_type": "markdown",
   "id": "5f867759",
   "metadata": {},
   "source": [
    "### MSE Plot Varying the learning rate for sol_2b"
   ]
  },
  {
   "cell_type": "code",
   "execution_count": 26,
   "id": "40d148c6",
   "metadata": {
    "scrolled": true
   },
   "outputs": [
    {
     "name": "stderr",
     "output_type": "stream",
     "text": [
      " 14%|█▍        | 1/7 [00:21<02:08, 21.43s/it]"
     ]
    },
    {
     "name": "stdout",
     "output_type": "stream",
     "text": [
      "Training mse 6.135977447515897\n",
      "Test mse 6.1742230460870475\n"
     ]
    },
    {
     "name": "stderr",
     "output_type": "stream",
     "text": [
      " 29%|██▊       | 2/7 [00:40<01:39, 19.89s/it]"
     ]
    },
    {
     "name": "stdout",
     "output_type": "stream",
     "text": [
      "Training mse 1.1800639967300417\n",
      "Test mse 1.217671454338764\n"
     ]
    },
    {
     "name": "stderr",
     "output_type": "stream",
     "text": [
      " 43%|████▎     | 3/7 [00:57<01:14, 18.57s/it]"
     ]
    },
    {
     "name": "stdout",
     "output_type": "stream",
     "text": [
      "Training mse 0.7130856072019875\n",
      "Test mse 0.7220520460432024\n"
     ]
    },
    {
     "name": "stderr",
     "output_type": "stream",
     "text": [
      " 57%|█████▋    | 4/7 [01:16<00:55, 18.66s/it]"
     ]
    },
    {
     "name": "stdout",
     "output_type": "stream",
     "text": [
      "Training mse 0.4051752565087358\n",
      "Test mse 0.4137086831635234\n"
     ]
    },
    {
     "name": "stderr",
     "output_type": "stream",
     "text": [
      " 71%|███████▏  | 5/7 [01:32<00:36, 18.04s/it]"
     ]
    },
    {
     "name": "stdout",
     "output_type": "stream",
     "text": [
      "Training mse 0.12017887318513762\n",
      "Test mse 0.11953752734744076\n"
     ]
    },
    {
     "name": "stderr",
     "output_type": "stream",
     "text": [
      " 86%|████████▌ | 6/7 [01:50<00:17, 17.76s/it]"
     ]
    },
    {
     "name": "stdout",
     "output_type": "stream",
     "text": [
      "Training mse 0.04253986596604324\n",
      "Test mse 0.04657630744021718\n"
     ]
    },
    {
     "name": "stderr",
     "output_type": "stream",
     "text": [
      "100%|██████████| 7/7 [02:09<00:00, 18.55s/it]"
     ]
    },
    {
     "name": "stdout",
     "output_type": "stream",
     "text": [
      "Training mse 0.03570670588887418\n",
      "Test mse 0.03927581736614776\n"
     ]
    },
    {
     "name": "stderr",
     "output_type": "stream",
     "text": [
      "\n"
     ]
    }
   ],
   "source": [
    "list_lr = [0.001, 0.01, 0.02, 0.05, 0.1, 0.5, 1]\n",
    "module_name = 'sol_2b'\n",
    "mse_1ist = []\n",
    "\n",
    "for lr in tqdm(list_lr) :\n",
    "    trainer, mse_te, pred = test_final_mse(module_name, sol_2b, lr)\n",
    "    mse_1ist.append(mse_te)"
   ]
  },
  {
   "cell_type": "code",
   "execution_count": 27,
   "id": "8c9e237b",
   "metadata": {},
   "outputs": [
    {
     "data": {
      "image/png": "[encoded data removed]",
      "text/plain": [
       "<Figure size 432x288 with 1 Axes>"
      ]
     },
     "metadata": {},
     "output_type": "display_data"
    }
   ],
   "source": [
    "plt.plot([str(lr) for lr in list_lr], np.log10(mse_1ist))\n",
    "plt.xlabel('Learning rate')\n",
    "plt.ylabel('Test log MSE') \n",
    "plt.title('sol_2b')\n",
    "plt.xticks(rotation=90)\n",
    "plt.show()"
   ]
  },
  {
   "cell_type": "markdown",
   "id": "9ab78e59",
   "metadata": {},
   "source": [
    "### 2c : Analysis : \n",
    "It is extremely clear from the analysis that for the problem 1, there is sensitivity of hyperparameters towards lower learning rate but that might be due to constraining the number of iterations. As, we can clearly see that keeping the no of iterations constant, learning rate of 1e-2 gives a higher MSE as it takes more time to converge. However, increasing the learning rate give a much better rate of convergence. One possible reason is that since the loss landscape is smooth and the function is convex, very high learning rate will give us quick convergence\n"
   ]
  },
  {
   "cell_type": "code",
   "execution_count": null,
   "id": "d56095fb",
   "metadata": {},
   "outputs": [],
   "source": []
  },
  {
   "cell_type": "markdown",
   "id": "1bf7aa6e",
   "metadata": {},
   "source": [
    "### 3 a. Experiment with using 3 and 5 hidden layers\n",
    "\n",
    "For this problem, we will test the network with the same training data that we used in Problem 2, using both 1D and higher dimensional data. We will primarily experiment with 3 and 5 hidden layer performances"
   ]
  },
  {
   "cell_type": "code",
   "execution_count": 28,
   "id": "9322b668",
   "metadata": {},
   "outputs": [],
   "source": [
    "def test_final_mse(module_name, sol, lr, layers, neurons):\n",
    "        \n",
    "    #define the dataset\n",
    "    dataset = data_generators.generate_default_data(module_name)\n",
    "    trainer = sol.Trainer(lr, layers,neurons)\n",
    "     \n",
    "    #initialize the network with \n",
    "    trainer.setup(dataset[\"train\"])\n",
    "    \n",
    "    #train the network\n",
    "    train_losses = trainer.train(num_iter=trainer.get_num_iters_on_public_test())\n",
    "    pred_train  = trainer.network.forward()\n",
    "    \n",
    "    #Is final training loss less than some threshold?\n",
    "    mse_tr = compute_mse(pred_train, dataset[\"train\"][1])\n",
    "    print(\"Training mse\", mse_tr)\n",
    "    \n",
    "    #test the data on hold-out set\n",
    "    trainer.data_layer.set_data(dataset[\"test\"][0])\n",
    "    pred = trainer.network.forward()\n",
    "    \n",
    "    #Is final training loss less than some threshold?\n",
    "    mse_te = compute_mse(pred, dataset[\"test\"][1])\n",
    "    print(\"Test mse\", mse_te)\n",
    "    \n",
    "    return trainer, mse_te, pred, train_losses"
   ]
  },
  {
   "cell_type": "markdown",
   "id": "a90d6bee",
   "metadata": {},
   "source": [
    "### Analysis on 1 dimensional (low dim) Dataset "
   ]
  },
  {
   "cell_type": "markdown",
   "id": "c8caa66a",
   "metadata": {},
   "source": [
    "#### Analysis with 3 layer network"
   ]
  },
  {
   "cell_type": "code",
   "execution_count": 29,
   "id": "2bc5cd9f",
   "metadata": {},
   "outputs": [
    {
     "name": "stdout",
     "output_type": "stream",
     "text": [
      "{'hidden_layers': 3, 'hidden_units': [10, 10, 1]}\n",
      "Training mse 0.000490889542800981\n",
      "Test mse 0.0011010464503417826\n"
     ]
    }
   ],
   "source": [
    "module_name = 'sol_3a'\n",
    "lr = 0.05\n",
    "layers = 3\n",
    "neurons = 10\n",
    "trainer, mse_te, pred,_ = test_final_mse(module_name, sol_3a, lr, layers, neurons)"
   ]
  },
  {
   "cell_type": "markdown",
   "id": "fd5aedef",
   "metadata": {},
   "source": [
    "#### Analysis with 5 layer network"
   ]
  },
  {
   "cell_type": "code",
   "execution_count": 30,
   "id": "e21b791b",
   "metadata": {},
   "outputs": [
    {
     "name": "stdout",
     "output_type": "stream",
     "text": [
      "{'hidden_layers': 5, 'hidden_units': [10, 10, 10, 10, 1]}\n",
      "Training mse 0.00014023587488951907\n",
      "Test mse 0.0009362261536064051\n"
     ]
    }
   ],
   "source": [
    "module_name = 'sol_3a'\n",
    "lr = 0.05\n",
    "layers = 5\n",
    "neurons = 10\n",
    "trainer, mse_te, pred, _ = test_final_mse(module_name, sol_3a, lr, layers, neurons)"
   ]
  },
  {
   "cell_type": "markdown",
   "id": "a2c37e7a",
   "metadata": {},
   "source": [
    "#### Analysis on high dimensional Dataset \n"
   ]
  },
  {
   "cell_type": "markdown",
   "id": "f2c06524",
   "metadata": {},
   "source": [
    "#### 3 layer network"
   ]
  },
  {
   "cell_type": "code",
   "execution_count": 31,
   "id": "722203f2",
   "metadata": {},
   "outputs": [
    {
     "name": "stdout",
     "output_type": "stream",
     "text": [
      "Training mse 0.05928986692163582\n",
      "Test mse 0.060798486082263466\n"
     ]
    }
   ],
   "source": [
    "module_name = 'sol_3b'\n",
    "lr = 0.05\n",
    "layers = 3\n",
    "neurons = 10\n",
    "trainer, mse_te, pred,_ = test_final_mse(module_name, sol_3b, lr, layers, neurons)"
   ]
  },
  {
   "cell_type": "markdown",
   "id": "b7672d3d",
   "metadata": {},
   "source": [
    "#### Analysis with 5 layer network"
   ]
  },
  {
   "cell_type": "code",
   "execution_count": 32,
   "id": "d00c4590",
   "metadata": {},
   "outputs": [
    {
     "name": "stdout",
     "output_type": "stream",
     "text": [
      "Training mse 0.027131477119493357\n",
      "Test mse 0.026810575529153675\n"
     ]
    }
   ],
   "source": [
    "module_name = 'sol_3b'\n",
    "lr = 0.05\n",
    "layers = 5\n",
    "neurons = 10\n",
    "trainer, mse_te, pred, _ = test_final_mse(module_name, sol_3b, lr, layers, neurons)"
   ]
  },
  {
   "cell_type": "code",
   "execution_count": null,
   "id": "b7a9da66",
   "metadata": {},
   "outputs": [],
   "source": []
  },
  {
   "cell_type": "markdown",
   "id": "87dfd81f",
   "metadata": {},
   "source": [
    "### 3 b. Evaluating for different choices of Hyperparameters"
   ]
  },
  {
   "cell_type": "markdown",
   "id": "53e7809e",
   "metadata": {},
   "source": [
    "#### Varying the learning rate for low dimensional data"
   ]
  },
  {
   "cell_type": "code",
   "execution_count": 33,
   "id": "1753dc17",
   "metadata": {
    "scrolled": true
   },
   "outputs": [
    {
     "name": "stderr",
     "output_type": "stream",
     "text": [
      "  0%|          | 0/9 [00:00<?, ?it/s]"
     ]
    },
    {
     "name": "stdout",
     "output_type": "stream",
     "text": [
      "{'hidden_layers': 3, 'hidden_units': [5, 5, 1]}\n"
     ]
    },
    {
     "name": "stderr",
     "output_type": "stream",
     "text": [
      " 11%|█         | 1/9 [00:04<00:33,  4.21s/it]"
     ]
    },
    {
     "name": "stdout",
     "output_type": "stream",
     "text": [
      "Training mse 0.21332635805008351\n",
      "Test mse 0.19562644154601241\n",
      "{'hidden_layers': 3, 'hidden_units': [5, 5, 1]}\n"
     ]
    },
    {
     "name": "stderr",
     "output_type": "stream",
     "text": [
      " 22%|██▏       | 2/9 [00:08<00:30,  4.35s/it]"
     ]
    },
    {
     "name": "stdout",
     "output_type": "stream",
     "text": [
      "Training mse 0.002700846554209902\n",
      "Test mse 0.00242290002171687\n",
      "{'hidden_layers': 3, 'hidden_units': [5, 5, 1]}\n"
     ]
    },
    {
     "name": "stderr",
     "output_type": "stream",
     "text": [
      " 33%|███▎      | 3/9 [00:12<00:25,  4.23s/it]"
     ]
    },
    {
     "name": "stdout",
     "output_type": "stream",
     "text": [
      "Training mse 0.006062611488727138\n",
      "Test mse 0.008210487964482495\n",
      "{'hidden_layers': 3, 'hidden_units': [5, 5, 1]}\n",
      "Training mse"
     ]
    },
    {
     "name": "stderr",
     "output_type": "stream",
     "text": [
      " 44%|████▍     | 4/9 [00:16<00:20,  4.03s/it]"
     ]
    },
    {
     "name": "stdout",
     "output_type": "stream",
     "text": [
      " 0.00028474753928493\n",
      "Test mse 0.000870166692597469\n",
      "{'hidden_layers': 3, 'hidden_units': [5, 5, 1]}\n"
     ]
    },
    {
     "name": "stderr",
     "output_type": "stream",
     "text": [
      " 56%|█████▌    | 5/9 [00:20<00:15,  3.98s/it]"
     ]
    },
    {
     "name": "stdout",
     "output_type": "stream",
     "text": [
      "Training mse 0.0005172289802116895\n",
      "Test mse 0.0006437759616955018\n",
      "{'hidden_layers': 3, 'hidden_units': [5, 5, 1]}\n"
     ]
    },
    {
     "name": "stderr",
     "output_type": "stream",
     "text": [
      " 67%|██████▋   | 6/9 [00:24<00:11,  3.99s/it]"
     ]
    },
    {
     "name": "stdout",
     "output_type": "stream",
     "text": [
      "Training mse 0.00010163477446907962\n",
      "Test mse 0.0009721244888423752\n",
      "{'hidden_layers': 3, 'hidden_units': [5, 5, 1]}\n"
     ]
    },
    {
     "name": "stderr",
     "output_type": "stream",
     "text": [
      " 78%|███████▊  | 7/9 [00:28<00:07,  3.97s/it]"
     ]
    },
    {
     "name": "stdout",
     "output_type": "stream",
     "text": [
      "Training mse 0.0005110919595727206\n",
      "Test mse 0.0010333611113843872\n",
      "{'hidden_layers': 3, 'hidden_units': [5, 5, 1]}\n"
     ]
    },
    {
     "name": "stderr",
     "output_type": "stream",
     "text": [
      " 89%|████████▉ | 8/9 [00:32<00:03,  3.95s/it]"
     ]
    },
    {
     "name": "stdout",
     "output_type": "stream",
     "text": [
      "Training mse 0.3001733919016685\n",
      "Test mse 0.3001737369318445\n",
      "{'hidden_layers': 3, 'hidden_units': [5, 5, 1]}\n"
     ]
    },
    {
     "name": "stderr",
     "output_type": "stream",
     "text": [
      "100%|██████████| 9/9 [00:36<00:00,  4.01s/it]"
     ]
    },
    {
     "name": "stdout",
     "output_type": "stream",
     "text": [
      "Training mse 0.30004512688824003\n",
      "Test mse 0.302020119027743\n"
     ]
    },
    {
     "name": "stderr",
     "output_type": "stream",
     "text": [
      "\n"
     ]
    }
   ],
   "source": [
    "list_lr = [0.001, 0.01, 0.02, 0.1, 0.5, 1, 5, 15, 20]\n",
    "layers = 3\n",
    "neurons = 5\n",
    "module_name = 'sol_3a'\n",
    "mse_1ist = []\n",
    "\n",
    "for lr in tqdm(list_lr) :\n",
    "    trainer, mse_te, pred, _ = test_final_mse(module_name, sol_3a, lr, layers, neurons)\n",
    "    mse_1ist.append(mse_te)"
   ]
  },
  {
   "cell_type": "code",
   "execution_count": 34,
   "id": "2bdf0e07",
   "metadata": {
    "scrolled": false
   },
   "outputs": [
    {
     "data": {
      "image/png": "[encoded data removed]",
      "text/plain": [
       "<Figure size 432x288 with 1 Axes>"
      ]
     },
     "metadata": {},
     "output_type": "display_data"
    }
   ],
   "source": [
    "plt.plot([str(lr) for lr in list_lr], np.log10(mse_1ist))\n",
    "plt.xlabel('Learning rate')\n",
    "plt.ylabel('Test log MSE') \n",
    "plt.title('sol_3a')\n",
    "plt.xticks(rotation=90)\n",
    "plt.show()"
   ]
  },
  {
   "cell_type": "markdown",
   "id": "43800c3a",
   "metadata": {},
   "source": [
    "#### Points\n",
    "It can be clearly observed that the loss decreases with increasing learning rate upto a point, but after that point it becomes extremely unstable and test loss increases significantly, following the bias-variance trade-off rule. However,train loss also increases as the loss function is non-convex and the learning rate unstability plays a part"
   ]
  },
  {
   "cell_type": "markdown",
   "id": "c9f7ac07",
   "metadata": {},
   "source": [
    "#### Varying the number of neurons for low dimensional data"
   ]
  },
  {
   "cell_type": "code",
   "execution_count": 35,
   "id": "8e583bc8",
   "metadata": {
    "scrolled": true
   },
   "outputs": [
    {
     "name": "stderr",
     "output_type": "stream",
     "text": [
      "  0%|          | 0/8 [00:00<?, ?it/s]"
     ]
    },
    {
     "name": "stdout",
     "output_type": "stream",
     "text": [
      "{'hidden_layers': 3, 'hidden_units': [2, 2, 1]}\n"
     ]
    },
    {
     "name": "stderr",
     "output_type": "stream",
     "text": [
      " 12%|█▎        | 1/8 [00:03<00:27,  3.93s/it]"
     ]
    },
    {
     "name": "stdout",
     "output_type": "stream",
     "text": [
      "Training mse 0.0006249645403199696\n",
      "Test mse 0.0006371410002766438\n",
      "{'hidden_layers': 3, 'hidden_units': [4, 4, 1]}\n"
     ]
    },
    {
     "name": "stderr",
     "output_type": "stream",
     "text": [
      " 25%|██▌       | 2/8 [00:07<00:22,  3.79s/it]"
     ]
    },
    {
     "name": "stdout",
     "output_type": "stream",
     "text": [
      "Training mse 0.0007114308214237458\n",
      "Test mse 0.0008951046402309127\n",
      "{'hidden_layers': 3, 'hidden_units': [6, 6, 1]}\n"
     ]
    },
    {
     "name": "stderr",
     "output_type": "stream",
     "text": [
      " 38%|███▊      | 3/8 [00:11<00:18,  3.78s/it]"
     ]
    },
    {
     "name": "stdout",
     "output_type": "stream",
     "text": [
      "Training mse 0.00037988545094858294\n",
      "Test mse 0.0006967972759097061\n",
      "{'hidden_layers': 3, 'hidden_units': [8, 8, 1]}\n"
     ]
    },
    {
     "name": "stderr",
     "output_type": "stream",
     "text": [
      " 50%|█████     | 4/8 [00:15<00:14,  3.72s/it]"
     ]
    },
    {
     "name": "stdout",
     "output_type": "stream",
     "text": [
      "Training mse 4.680853614053572e-05\n",
      "Test mse 0.0005925707115823909\n",
      "{'hidden_layers': 3, 'hidden_units': [10, 10, 1]}\n"
     ]
    },
    {
     "name": "stderr",
     "output_type": "stream",
     "text": [
      " 62%|██████▎   | 5/8 [00:18<00:11,  3.80s/it]"
     ]
    },
    {
     "name": "stdout",
     "output_type": "stream",
     "text": [
      "Training mse 0.002022462253242609\n",
      "Test mse 0.0025097905928764225\n",
      "{'hidden_layers': 3, 'hidden_units': [20, 20, 1]}\n"
     ]
    },
    {
     "name": "stderr",
     "output_type": "stream",
     "text": [
      " 75%|███████▌  | 6/8 [00:23<00:07,  3.89s/it]"
     ]
    },
    {
     "name": "stdout",
     "output_type": "stream",
     "text": [
      "Training mse 1.1964436529142096e-05\n",
      "Test mse 0.0011329385182853664\n",
      "{'hidden_layers': 3, 'hidden_units': [50, 50, 1]}\n"
     ]
    },
    {
     "name": "stderr",
     "output_type": "stream",
     "text": [
      " 88%|████████▊ | 7/8 [00:28<00:04,  4.39s/it]"
     ]
    },
    {
     "name": "stdout",
     "output_type": "stream",
     "text": [
      "Training mse 2.8447681511887715e-06\n",
      "Test mse 0.0006787052526735923\n",
      "{'hidden_layers': 3, 'hidden_units': [80, 80, 1]}\n"
     ]
    },
    {
     "name": "stderr",
     "output_type": "stream",
     "text": [
      "100%|██████████| 8/8 [00:35<00:00,  4.45s/it]"
     ]
    },
    {
     "name": "stdout",
     "output_type": "stream",
     "text": [
      "Training mse 8.365381924769792e-07\n",
      "Test mse 0.00037854563151684206\n"
     ]
    },
    {
     "name": "stderr",
     "output_type": "stream",
     "text": [
      "\n"
     ]
    }
   ],
   "source": [
    "neurons = [2,4,6, 8, 10, 20, 50, 80]\n",
    "layers = 3\n",
    "lr = 0.5\n",
    "module_name = 'sol_3a'\n",
    "mse_1ist = []\n",
    "\n",
    "for neuron in tqdm(neurons) :\n",
    "    trainer, mse_te, pred,_ = test_final_mse(module_name, sol_3a, lr, layers, neuron)\n",
    "    mse_1ist.append(mse_te)"
   ]
  },
  {
   "cell_type": "code",
   "execution_count": 36,
   "id": "570ccd13",
   "metadata": {},
   "outputs": [
    {
     "data": {
      "image/png": "[encoded data removed]",
      "text/plain": [
       "<Figure size 432x288 with 1 Axes>"
      ]
     },
     "metadata": {},
     "output_type": "display_data"
    }
   ],
   "source": [
    "plt.plot([str(neuron) for neuron in neurons], np.log10(mse_1ist))\n",
    "plt.xlabel('No of Neurons in hidden layers')\n",
    "plt.ylabel('Test log MSE') \n",
    "plt.title('sol_3a')\n",
    "plt.xticks(rotation=90)\n",
    "plt.show()"
   ]
  },
  {
   "cell_type": "markdown",
   "id": "b04adb5b",
   "metadata": {},
   "source": [
    "#### Analysis \n",
    "\n",
    "Here, I vary the number of neruons in the hidden layers and it is very interesting to observe the loss landscape as the test loss decreases with the increase in number of neurons in the hidden layer till a point but then it starts to increase till the number reaches 8 neurons per layer. But, very interestingly, once it crosses that we are able to see a double decent type of event : overparametrized regime where the test loss decreases\n"
   ]
  },
  {
   "cell_type": "markdown",
   "id": "fad65597",
   "metadata": {},
   "source": [
    "#### Varying the learning rate for high dimensional data"
   ]
  },
  {
   "cell_type": "code",
   "execution_count": 37,
   "id": "045bbeb3",
   "metadata": {
    "scrolled": true
   },
   "outputs": [
    {
     "name": "stderr",
     "output_type": "stream",
     "text": [
      " 17%|█▋        | 1/6 [00:13<01:07, 13.45s/it]"
     ]
    },
    {
     "name": "stdout",
     "output_type": "stream",
     "text": [
      "Training mse 8.333415628744403\n",
      "Test mse 8.527450824969064\n"
     ]
    },
    {
     "name": "stderr",
     "output_type": "stream",
     "text": [
      " 33%|███▎      | 2/6 [00:27<00:55, 13.76s/it]"
     ]
    },
    {
     "name": "stdout",
     "output_type": "stream",
     "text": [
      "Training mse 0.8947481006793894\n",
      "Test mse 0.9167827354787249\n"
     ]
    },
    {
     "name": "stderr",
     "output_type": "stream",
     "text": [
      " 50%|█████     | 3/6 [00:41<00:41, 13.72s/it]"
     ]
    },
    {
     "name": "stdout",
     "output_type": "stream",
     "text": [
      "Training mse 1.622278603318586\n",
      "Test mse 1.8133174072569747\n"
     ]
    },
    {
     "name": "stderr",
     "output_type": "stream",
     "text": [
      " 67%|██████▋   | 4/6 [00:55<00:27, 13.81s/it]"
     ]
    },
    {
     "name": "stdout",
     "output_type": "stream",
     "text": [
      "Training mse 0.0883424478893764\n",
      "Test mse 0.08519832193033265\n"
     ]
    },
    {
     "name": "stderr",
     "output_type": "stream",
     "text": [
      " 83%|████████▎ | 5/6 [01:08<00:13, 13.71s/it]"
     ]
    },
    {
     "name": "stdout",
     "output_type": "stream",
     "text": [
      "Training mse 0.031385300117881584\n",
      "Test mse 0.03405337703924949\n"
     ]
    },
    {
     "name": "stderr",
     "output_type": "stream",
     "text": [
      "100%|██████████| 6/6 [01:22<00:00, 13.70s/it]"
     ]
    },
    {
     "name": "stdout",
     "output_type": "stream",
     "text": [
      "Training mse 0.029831965536229715\n",
      "Test mse 0.02856439332858051\n"
     ]
    },
    {
     "name": "stderr",
     "output_type": "stream",
     "text": [
      "\n"
     ]
    }
   ],
   "source": [
    "list_lr = [0.001, 0.01, 0.02, 0.1, 0.5, 1]\n",
    "layers = 3\n",
    "neurons = 5\n",
    "module_name = 'sol_3b'\n",
    "mse_1ist = []\n",
    "\n",
    "for lr in tqdm(list_lr) :\n",
    "    trainer, mse_te, pred,_ = test_final_mse(module_name, sol_3b, lr, layers, neurons)\n",
    "    mse_1ist.append(mse_te)"
   ]
  },
  {
   "cell_type": "code",
   "execution_count": 38,
   "id": "b1748467",
   "metadata": {},
   "outputs": [
    {
     "data": {
      "image/png": "[encoded data removed]",
      "text/plain": [
       "<Figure size 432x288 with 1 Axes>"
      ]
     },
     "metadata": {},
     "output_type": "display_data"
    }
   ],
   "source": [
    "plt.plot([str(lr) for lr in list_lr], np.log10(mse_1ist))\n",
    "plt.xlabel('Learning rate')\n",
    "plt.ylabel('Test log MSE') \n",
    "plt.title('sol_3b')\n",
    "plt.xticks(rotation=90)\n",
    "plt.show()"
   ]
  },
  {
   "cell_type": "markdown",
   "id": "e65d8bfd",
   "metadata": {},
   "source": [
    "#### Varying the number of neurons for high dimensional data¶"
   ]
  },
  {
   "cell_type": "code",
   "execution_count": 41,
   "id": "6635b51e",
   "metadata": {
    "scrolled": true
   },
   "outputs": [
    {
     "name": "stderr",
     "output_type": "stream",
     "text": [
      " 17%|█▋        | 1/6 [00:10<00:51, 10.22s/it]"
     ]
    },
    {
     "name": "stdout",
     "output_type": "stream",
     "text": [
      "Training mse 1.4582514801729238\n",
      "Test mse 1.7155111865610637\n"
     ]
    },
    {
     "name": "stderr",
     "output_type": "stream",
     "text": [
      " 33%|███▎      | 2/6 [00:22<00:45, 11.37s/it]"
     ]
    },
    {
     "name": "stdout",
     "output_type": "stream",
     "text": [
      "Training mse 0.08657776055945512\n",
      "Test mse 0.0884425909756506\n"
     ]
    },
    {
     "name": "stderr",
     "output_type": "stream",
     "text": [
      " 50%|█████     | 3/6 [00:37<00:38, 12.89s/it]"
     ]
    },
    {
     "name": "stdout",
     "output_type": "stream",
     "text": [
      "Training mse 0.02517314276526305\n",
      "Test mse 0.02688561321969686\n"
     ]
    },
    {
     "name": "stderr",
     "output_type": "stream",
     "text": [
      " 67%|██████▋   | 4/6 [00:53<00:28, 14.45s/it]"
     ]
    },
    {
     "name": "stdout",
     "output_type": "stream",
     "text": [
      "Training mse 0.012011365029395673\n",
      "Test mse 0.012252525687678187\n"
     ]
    },
    {
     "name": "stderr",
     "output_type": "stream",
     "text": [
      " 83%|████████▎ | 5/6 [01:13<00:16, 16.27s/it]"
     ]
    },
    {
     "name": "stdout",
     "output_type": "stream",
     "text": [
      "Training mse 0.0172654825662756\n",
      "Test mse 0.019911678448318322\n"
     ]
    },
    {
     "name": "stderr",
     "output_type": "stream",
     "text": [
      "100%|██████████| 6/6 [02:12<00:00, 22.06s/it]"
     ]
    },
    {
     "name": "stdout",
     "output_type": "stream",
     "text": [
      "Training mse 0.007508734235775173\n",
      "Test mse 0.008231172884007869\n"
     ]
    },
    {
     "name": "stderr",
     "output_type": "stream",
     "text": [
      "\n"
     ]
    }
   ],
   "source": [
    "neurons = [2,4,6, 8, 10, 20]\n",
    "layers = 3\n",
    "lr = 0.5\n",
    "module_name = 'sol_3b'\n",
    "mse_1ist = []\n",
    "\n",
    "for neuron in tqdm(neurons) :\n",
    "    trainer, mse_te, pred,_ = test_final_mse(module_name, sol_3b, lr, layers, neuron)\n",
    "    mse_1ist.append(mse_te)"
   ]
  },
  {
   "cell_type": "code",
   "execution_count": 42,
   "id": "14c176a5",
   "metadata": {},
   "outputs": [
    {
     "data": {
      "image/png": "[encoded data removed]",
      "text/plain": [
       "<Figure size 432x288 with 1 Axes>"
      ]
     },
     "metadata": {},
     "output_type": "display_data"
    }
   ],
   "source": [
    "plt.plot([str(neuron) for neuron in neurons], np.log10(mse_1ist))\n",
    "plt.xlabel('No of Neurons in hidden layers')\n",
    "plt.ylabel('Test log MSE') \n",
    "plt.title('sol_3b')\n",
    "plt.xticks(rotation=90)\n",
    "plt.show()"
   ]
  },
  {
   "cell_type": "markdown",
   "id": "dc579780",
   "metadata": {},
   "source": [
    " "
   ]
  },
  {
   "cell_type": "markdown",
   "id": "52203cab",
   "metadata": {},
   "source": [
    "### 3c Analysis : Depth Analysis for NN\n",
    "        "
   ]
  },
  {
   "cell_type": "code",
   "execution_count": 43,
   "id": "8e9626ac",
   "metadata": {
    "scrolled": true
   },
   "outputs": [
    {
     "name": "stderr",
     "output_type": "stream",
     "text": [
      " 12%|█▎        | 1/8 [00:02<00:17,  2.46s/it]"
     ]
    },
    {
     "name": "stdout",
     "output_type": "stream",
     "text": [
      "{'hidden_layers': 2, 'hidden_units': [5, 1]}\n",
      "Training mse 0.0009266609006955041\n",
      "Test mse 0.0010880074553973667\n",
      "{'hidden_layers': 3, 'hidden_units': [5, 5, 1]}\n"
     ]
    },
    {
     "name": "stderr",
     "output_type": "stream",
     "text": [
      " 25%|██▌       | 2/8 [00:06<00:19,  3.30s/it]"
     ]
    },
    {
     "name": "stdout",
     "output_type": "stream",
     "text": [
      "Training mse 0.00023213970228270808\n",
      "Test mse 0.0006162086794408307\n",
      "{'hidden_layers': 4, 'hidden_units': [5, 5, 5, 1]}\n"
     ]
    },
    {
     "name": "stderr",
     "output_type": "stream",
     "text": [
      " 38%|███▊      | 3/8 [00:11<00:20,  4.02s/it]"
     ]
    },
    {
     "name": "stdout",
     "output_type": "stream",
     "text": [
      "Training mse 0.0003253557237816922\n",
      "Test mse 0.0010247924409924338\n",
      "{'hidden_layers': 5, 'hidden_units': [5, 5, 5, 5, 1]}\n"
     ]
    },
    {
     "name": "stderr",
     "output_type": "stream",
     "text": [
      " 50%|█████     | 4/8 [00:17<00:19,  5.00s/it]"
     ]
    },
    {
     "name": "stdout",
     "output_type": "stream",
     "text": [
      "Training mse 0.2988834186963049\n",
      "Test mse 0.30229003343054334\n",
      "{'hidden_layers': 7, 'hidden_units': [5, 5, 5, 5, 5, 5, 1]}\n"
     ]
    },
    {
     "name": "stderr",
     "output_type": "stream",
     "text": [
      " 62%|██████▎   | 5/8 [00:26<00:18,  6.23s/it]"
     ]
    },
    {
     "name": "stdout",
     "output_type": "stream",
     "text": [
      "Training mse 0.00035441161967410614\n",
      "Test mse 0.0005993009526396348\n",
      "{'hidden_layers': 8, 'hidden_units': [5, 5, 5, 5, 5, 5, 5, 1]}\n"
     ]
    },
    {
     "name": "stderr",
     "output_type": "stream",
     "text": [
      " 75%|███████▌  | 6/8 [00:35<00:14,  7.36s/it]"
     ]
    },
    {
     "name": "stdout",
     "output_type": "stream",
     "text": [
      "Training mse 0.0003466101285530356\n",
      "Test mse 0.0007065915883403129\n",
      "{'hidden_layers': 10, 'hidden_units': [5, 5, 5, 5, 5, 5, 5, 5, 5, 1]}\n"
     ]
    },
    {
     "name": "stderr",
     "output_type": "stream",
     "text": [
      " 88%|████████▊ | 7/8 [00:48<00:09,  9.05s/it]"
     ]
    },
    {
     "name": "stdout",
     "output_type": "stream",
     "text": [
      "Training mse 0.000788749458847682\n",
      "Test mse 0.0009024546932001537\n",
      "{'hidden_layers': 15, 'hidden_units': [5, 5, 5, 5, 5, 5, 5, 5, 5, 5, 5, 5, 5, 5, 1]}\n"
     ]
    },
    {
     "name": "stderr",
     "output_type": "stream",
     "text": [
      "100%|██████████| 8/8 [01:06<00:00,  8.28s/it]"
     ]
    },
    {
     "name": "stdout",
     "output_type": "stream",
     "text": [
      "Training mse 0.0004125301505645554\n",
      "Test mse 0.0006467359184179314\n"
     ]
    },
    {
     "name": "stderr",
     "output_type": "stream",
     "text": [
      "\n"
     ]
    }
   ],
   "source": [
    "layers = [2,3,4, 5,7, 8, 10, 15]\n",
    "neurons = 5\n",
    "lr = 0.5\n",
    "module_name = 'sol_3a'\n",
    "mse_1ist = []\n",
    "total_loss_list = []\n",
    "\n",
    "for layer in tqdm(layers) :\n",
    "    trainer, mse_te, pred, train_loss  = test_final_mse(module_name, sol_3a, lr, layer, neurons)\n",
    "    mse_1ist.append(mse_te)\n",
    "    total_loss_list.append(train_loss)"
   ]
  },
  {
   "cell_type": "code",
   "execution_count": 44,
   "id": "597e7655",
   "metadata": {},
   "outputs": [
    {
     "data": {
      "image/png": "[encoded data removed]",
      "text/plain": [
       "<Figure size 432x288 with 1 Axes>"
      ]
     },
     "metadata": {},
     "output_type": "display_data"
    }
   ],
   "source": [
    "plt.plot([str(layer) for layer in layers], np.log10(mse_1ist))\n",
    "plt.xlabel('Depth : No of hidden layers')\n",
    "plt.ylabel('Test log MSE') \n",
    "plt.title('sol_3a')\n",
    "plt.xticks(rotation=90)\n",
    "plt.show()"
   ]
  },
  {
   "cell_type": "markdown",
   "id": "a718aa68",
   "metadata": {},
   "source": [
    "#### Convergence Plot Analysis"
   ]
  },
  {
   "cell_type": "code",
   "execution_count": 45,
   "id": "59a7ec44",
   "metadata": {},
   "outputs": [
    {
     "data": {
      "image/png": "[encoded data removed]",
      "text/plain": [
       "<Figure size 432x288 with 1 Axes>"
      ]
     },
     "metadata": {},
     "output_type": "display_data"
    },
    {
     "data": {
      "image/png": "[encoded data removed]",
      "text/plain": [
       "<Figure size 432x288 with 1 Axes>"
      ]
     },
     "metadata": {},
     "output_type": "display_data"
    },
    {
     "data": {
      "image/png": "[encoded data removed]",
      "text/plain": [
       "<Figure size 432x288 with 1 Axes>"
      ]
     },
     "metadata": {},
     "output_type": "display_data"
    },
    {
     "data": {
      "image/png": "[encoded data removed]",
      "text/plain": [
       "<Figure size 432x288 with 1 Axes>"
      ]
     },
     "metadata": {},
     "output_type": "display_data"
    },
    {
     "data": {
      "image/png": "[encoded data removed]",
      "text/plain": [
       "<Figure size 432x288 with 1 Axes>"
      ]
     },
     "metadata": {},
     "output_type": "display_data"
    },
    {
     "data": {
      "image/png": "[encoded data removed]",
      "text/plain": [
       "<Figure size 432x288 with 1 Axes>"
      ]
     },
     "metadata": {},
     "output_type": "display_data"
    },
    {
     "data": {
      "image/png": "[encoded data removed]",
      "text/plain": [
       "<Figure size 432x288 with 1 Axes>"
      ]
     },
     "metadata": {},
     "output_type": "display_data"
    },
    {
     "data": {
      "image/png": "[encoded data removed]",
      "text/plain": [
       "<Figure size 432x288 with 1 Axes>"
      ]
     },
     "metadata": {},
     "output_type": "display_data"
    }
   ],
   "source": [
    "for i in range(0, len(total_loss_list)):\n",
    "    plt.plot(total_loss_list[i][0:200])\n",
    "    plt.show()"
   ]
  },
  {
   "cell_type": "markdown",
   "id": "fe40eafa",
   "metadata": {},
   "source": [
    "#### Analysis\n",
    "\n",
    "It can be clearly observed that the loss decreases with increasing learning rate upto a point, but after that point it becomes extremely unstable and test loss increases significantly, following the bias-variance trade-off rule. However,train loss also increases as the loss function is non-convex and the learning rate unstability plays a part\n",
    "\n",
    "Here, I vary the number of neruons in the hidden layers and it is very interesting to observe the loss landscape as the test loss decreases with the increase in number of neurons in the hidden layer till a point but then it starts to increase till the number reaches 8 neurons per layer. But, very interestingly, once it crosses that we are able to see a double decent type of event : overparametrized regime where the test loss decreases\n",
    "\n",
    "\n",
    "\n",
    "Very similar to the above explaination,  test loss decreases with the increase in number of layers till a point but then it starts to increase till the number reaches 10/11. But, very interestingly, once it crosses that we are able to see a double decent type of event i.e overparametrized regime where the test loss decreases"
   ]
  },
  {
   "cell_type": "code",
   "execution_count": null,
   "id": "60613815",
   "metadata": {},
   "outputs": [],
   "source": []
  },
  {
   "cell_type": "markdown",
   "id": "1824c088",
   "metadata": {},
   "source": [
    "### 4. Cross Entropy Loss"
   ]
  },
  {
   "cell_type": "markdown",
   "id": "5af32049",
   "metadata": {},
   "source": [
    "### 4a. Generating the Linearly Separable Data"
   ]
  },
  {
   "cell_type": "code",
   "execution_count": 46,
   "id": "d6538ba0",
   "metadata": {},
   "outputs": [],
   "source": [
    "def data_4a_new(margin):\n",
    "    \n",
    "    lambda1 = 2\n",
    "    lambda2 = 6\n",
    "    \n",
    "    x1 = np.linspace(-3, 1, 60)[:, np.newaxis]\n",
    "    x2 = np.linspace(margin+ lambda1 ,  margin + lambda2 , 60)[:, np.newaxis]\n",
    "    \n",
    "    #concatenate the data\n",
    "    x = np.concatenate((x1, x2))\n",
    "    y = np.where(x > 1, 1, 0)\n",
    "    x_train = x[::2]\n",
    "    y_train = y[::2]\n",
    "    x_test = x[1::2]\n",
    "    y_test = y[1::2]\n",
    "    return {\n",
    "        \"train\": (x_train, y_train),\n",
    "        \"test\": (x_test, y_test)\n",
    "    }"
   ]
  },
  {
   "cell_type": "code",
   "execution_count": 47,
   "id": "5ab0f4ab",
   "metadata": {},
   "outputs": [
    {
     "data": {
      "text/plain": [
       "Text(0, 0.5, 'Y')"
      ]
     },
     "execution_count": 47,
     "metadata": {},
     "output_type": "execute_result"
    },
    {
     "data": {
      "image/png": "[encoded data removed]",
      "text/plain": [
       "<Figure size 432x288 with 1 Axes>"
      ]
     },
     "metadata": {},
     "output_type": "display_data"
    }
   ],
   "source": [
    "margin = 10\n",
    "dataset = data_4a_new(margin)\n",
    "plt.scatter(dataset['train'][0], dataset['test'][1])\n",
    "plt.xlabel('X')\n",
    "plt.ylabel('Y')"
   ]
  },
  {
   "cell_type": "markdown",
   "id": "dd26efa3",
   "metadata": {},
   "source": [
    "### 4a. Generating the Linearly Separable Data\n",
    "\n",
    "The data is generated by the threshold of 1, when $x>1, y = 1$ else $y=0$. There are 60 datapoints that are being generated within the given range as shown in the figure. The margin determines the amount of linear separability will be there amongst the data. Higher the value of the margin, higher the linear separability"
   ]
  },
  {
   "cell_type": "code",
   "execution_count": 48,
   "id": "ae56b7e5",
   "metadata": {},
   "outputs": [],
   "source": [
    "def compute_acc_sigmoid(pred, y):\n",
    "  y_pred = np.where(pred > 0.5, 1, 0)\n",
    "  return (y == y_pred).mean()"
   ]
  },
  {
   "cell_type": "code",
   "execution_count": 49,
   "id": "7a017b83",
   "metadata": {},
   "outputs": [],
   "source": [
    "def test_final_loss(module_name, sol, lr, layers, neurons, margin, num_iter):\n",
    "        \n",
    "    #define the dataset\n",
    "    dataset = data_4a_new(margin)\n",
    "    trainer = sol.Trainer(lr, layers,neurons)\n",
    "     \n",
    "    #initialize the network with \n",
    "    trainer.setup(dataset[\"train\"])\n",
    "    \n",
    "    #train the network\n",
    "    train_losses = trainer.train(num_iter=num_iter)\n",
    "    pred_train  = trainer.network.forward()\n",
    "    train_acc = compute_acc_sigmoid(pred_train, dataset[\"train\"][1])\n",
    "    \n",
    "    #Is final training loss less than some threshold?\n",
    "    \n",
    "    #test the data on hold-out set\n",
    "    trainer.data_layer.set_data(dataset[\"test\"][0])\n",
    "    pred = trainer.network.forward()\n",
    "    \n",
    "    #Is final training loss less than some threshold\n",
    "    test_acc = compute_acc_sigmoid(pred, dataset[\"test\"][1])\n",
    "    print(\"Test accuracy\", test_acc)\n",
    "    \n",
    "    return trainer, test_acc, pred, np.array(train_losses)[:,0]"
   ]
  },
  {
   "cell_type": "markdown",
   "id": "d6d10f1a",
   "metadata": {},
   "source": [
    "#### Margin = 1"
   ]
  },
  {
   "cell_type": "code",
   "execution_count": 50,
   "id": "9bbb9e5e",
   "metadata": {},
   "outputs": [
    {
     "name": "stdout",
     "output_type": "stream",
     "text": [
      "Test accuracy 1.0\n"
     ]
    }
   ],
   "source": [
    "lr = 0.05\n",
    "module_name = 'sol_4a'\n",
    "margin = 1\n",
    "layers = 3\n",
    "neurons = 10\n",
    "num_iter = 10000\n",
    "trainer, test_acc, pred, tr_loss = test_final_loss(module_name, sol_4a, lr, layers, neurons, margin,num_iter)"
   ]
  },
  {
   "cell_type": "code",
   "execution_count": 51,
   "id": "193071bc",
   "metadata": {},
   "outputs": [
    {
     "data": {
      "text/plain": [
       "Text(0, 0.5, 'Train loss')"
      ]
     },
     "execution_count": 51,
     "metadata": {},
     "output_type": "execute_result"
    },
    {
     "data": {
      "image/png": "[encoded data removed]",
      "text/plain": [
       "<Figure size 432x288 with 1 Axes>"
      ]
     },
     "metadata": {},
     "output_type": "display_data"
    }
   ],
   "source": [
    "plt.plot(tr_loss[0:30])\n",
    "plt.xlabel('No of iterations')\n",
    "plt.ylabel('Train loss')"
   ]
  },
  {
   "cell_type": "markdown",
   "id": "e5109ad2",
   "metadata": {},
   "source": [
    "#### Varying the margin of the dataset"
   ]
  },
  {
   "cell_type": "code",
   "execution_count": 52,
   "id": "9e46b515",
   "metadata": {
    "scrolled": true
   },
   "outputs": [
    {
     "name": "stderr",
     "output_type": "stream",
     "text": [
      " 50%|█████     | 2/4 [00:00<00:00,  5.46it/s]"
     ]
    },
    {
     "name": "stdout",
     "output_type": "stream",
     "text": [
      "Test accuracy 1.0\n",
      "Test accuracy 1.0\n"
     ]
    },
    {
     "name": "stderr",
     "output_type": "stream",
     "text": [
      "100%|██████████| 4/4 [00:00<00:00,  5.38it/s]"
     ]
    },
    {
     "name": "stdout",
     "output_type": "stream",
     "text": [
      "Test accuracy 1.0\n",
      "Test accuracy 1.0\n"
     ]
    },
    {
     "name": "stderr",
     "output_type": "stream",
     "text": [
      "\n"
     ]
    }
   ],
   "source": [
    "margin_list = [0.0001, 0.01, 0.02,1]\n",
    "mse_1ist = []\n",
    "total_loss_list = []\n",
    "\n",
    "margin = 1\n",
    "layers = 3\n",
    "neurons = 5\n",
    "num_iter = 1000\n",
    "\n",
    "for margin in tqdm(margin_list) :\n",
    "    trainer, test_acc, pred, train_loss = test_final_loss(module_name, sol_4a, lr, layers, neurons, margin, num_iter)\n",
    "    total_loss_list.append(train_loss)"
   ]
  },
  {
   "cell_type": "markdown",
   "id": "3e4a7a50",
   "metadata": {},
   "source": [
    "It can be clearly observed that as the margin increases, the test MSE decreases and the generalisability increases"
   ]
  },
  {
   "cell_type": "markdown",
   "id": "14a452c7",
   "metadata": {},
   "source": [
    "##### Training loss converegence at lower margin"
   ]
  },
  {
   "cell_type": "code",
   "execution_count": 53,
   "id": "75cc9dd7",
   "metadata": {},
   "outputs": [
    {
     "data": {
      "image/png": "[encoded data removed]",
      "text/plain": [
       "<Figure size 432x288 with 1 Axes>"
      ]
     },
     "metadata": {},
     "output_type": "display_data"
    }
   ],
   "source": [
    "for m, loss in zip(margin_list, total_loss_list):  \n",
    "    plt.plot(loss[0:50], label='Margin = {}'.format(m))\n",
    "\n",
    "plt.xlabel('Training iterations')\n",
    "plt.ylabel('Train loss')\n",
    "plt.legend()\n",
    "plt.show()\n"
   ]
  },
  {
   "cell_type": "markdown",
   "id": "09b4c69c",
   "metadata": {
    "scrolled": false
   },
   "source": [
    "#### Varying the bumber of hidden layers of the network¶"
   ]
  },
  {
   "cell_type": "code",
   "execution_count": 54,
   "id": "996b0d4a",
   "metadata": {
    "scrolled": false
   },
   "outputs": [
    {
     "name": "stderr",
     "output_type": "stream",
     "text": [
      " 10%|█         | 1/10 [00:01<00:11,  1.33s/it]"
     ]
    },
    {
     "name": "stdout",
     "output_type": "stream",
     "text": [
      "Test accuracy 1.0\n"
     ]
    },
    {
     "name": "stderr",
     "output_type": "stream",
     "text": [
      " 20%|██        | 2/10 [00:03<00:12,  1.60s/it]"
     ]
    },
    {
     "name": "stdout",
     "output_type": "stream",
     "text": [
      "Test accuracy 1.0\n"
     ]
    },
    {
     "name": "stderr",
     "output_type": "stream",
     "text": [
      " 30%|███       | 3/10 [00:05<00:13,  1.92s/it]"
     ]
    },
    {
     "name": "stdout",
     "output_type": "stream",
     "text": [
      "Test accuracy 1.0\n"
     ]
    },
    {
     "name": "stderr",
     "output_type": "stream",
     "text": [
      " 40%|████      | 4/10 [00:08<00:13,  2.30s/it]"
     ]
    },
    {
     "name": "stdout",
     "output_type": "stream",
     "text": [
      "Test accuracy 1.0\n"
     ]
    },
    {
     "name": "stderr",
     "output_type": "stream",
     "text": [
      " 50%|█████     | 5/10 [00:11<00:13,  2.76s/it]"
     ]
    },
    {
     "name": "stdout",
     "output_type": "stream",
     "text": [
      "Test accuracy 1.0\n"
     ]
    },
    {
     "name": "stderr",
     "output_type": "stream",
     "text": [
      " 60%|██████    | 6/10 [00:16<00:13,  3.27s/it]"
     ]
    },
    {
     "name": "stdout",
     "output_type": "stream",
     "text": [
      "Test accuracy 1.0\n"
     ]
    },
    {
     "name": "stderr",
     "output_type": "stream",
     "text": [
      " 70%|███████   | 7/10 [00:21<00:11,  3.94s/it]"
     ]
    },
    {
     "name": "stdout",
     "output_type": "stream",
     "text": [
      "Test accuracy 1.0\n"
     ]
    },
    {
     "name": "stderr",
     "output_type": "stream",
     "text": [
      " 80%|████████  | 8/10 [00:30<00:10,  5.40s/it]"
     ]
    },
    {
     "name": "stdout",
     "output_type": "stream",
     "text": [
      "Test accuracy 1.0\n"
     ]
    },
    {
     "name": "stderr",
     "output_type": "stream",
     "text": [
      " 90%|█████████ | 9/10 [00:41<00:07,  7.25s/it]"
     ]
    },
    {
     "name": "stdout",
     "output_type": "stream",
     "text": [
      "Test accuracy 1.0\n"
     ]
    },
    {
     "name": "stderr",
     "output_type": "stream",
     "text": [
      "100%|██████████| 10/10 [01:07<00:00,  6.78s/it]"
     ]
    },
    {
     "name": "stdout",
     "output_type": "stream",
     "text": [
      "Test accuracy 0.5\n"
     ]
    },
    {
     "name": "stderr",
     "output_type": "stream",
     "text": [
      "\n"
     ]
    }
   ],
   "source": [
    "layers = [2,3,4, 5,7, 8, 10, 15, 20, 50]\n",
    "\n",
    "total_loss_list = []\n",
    "\n",
    "margin = 1\n",
    "neurons = 5\n",
    "num_iter = 10000\n",
    "\n",
    "for layer in tqdm(layers) :\n",
    "    trainer, test_acc, pred, train_loss = test_final_loss(module_name, sol_4a, lr, layer, neurons, margin, num_iter)\n",
    "    total_loss_list.append(train_loss)"
   ]
  },
  {
   "cell_type": "code",
   "execution_count": 55,
   "id": "9e37ab5c",
   "metadata": {},
   "outputs": [
    {
     "data": {
      "image/png": "[encoded data removed]",
      "text/plain": [
       "<Figure size 432x288 with 1 Axes>"
      ]
     },
     "metadata": {},
     "output_type": "display_data"
    }
   ],
   "source": [
    "for l, loss in zip(layers, total_loss_list):  \n",
    "    plt.plot(loss[0:30], label='Layer = {}'.format(l))\n",
    "\n",
    "plt.xlabel('Training iterations')\n",
    "plt.ylabel('Train loss')\n",
    "plt.legend()\n",
    "plt.show()\n"
   ]
  },
  {
   "cell_type": "markdown",
   "id": "a8bcc4f9",
   "metadata": {},
   "source": [
    "Analysis : It is clearly observed that as we increase the margin, the convergence rate becomes much faster and the network is able to converge to lower values at a faster rate. However, with network depth or increasing the number of layers, it can be observed that the train loss decreases.However, the test loss as it has been shown follows a curve which decreases and then increases and on over-parametrizing decreases"
   ]
  },
  {
   "cell_type": "markdown",
   "id": "aa04a2fd",
   "metadata": {},
   "source": [
    "### 4a. Generating the Non-linearly Separable Data"
   ]
  },
  {
   "cell_type": "markdown",
   "id": "2ccf516d",
   "metadata": {},
   "source": [
    "For the non-linearly separable dataset, the data is generated in the range $(-2,2)$ and 60 datapoints are generated as before. Now, to add the non-linear aspect in the data the label is generated based on the nonlinear function $x^2 > 2$ the label is 1 else 0."
   ]
  },
  {
   "cell_type": "code",
   "execution_count": 56,
   "id": "c7c75cc0",
   "metadata": {},
   "outputs": [],
   "source": [
    "def data_4a_new1():\n",
    "    \n",
    "    # generating data\n",
    "    x = np.linspace(-2, 2, 60)[:, np.newaxis]\n",
    "    \n",
    "    #eqyuation of non linearity\n",
    "    y = np.where(x**2 > 2, 1, 0)\n",
    "    \n",
    "    #get the train and test\n",
    "    x_train = x[::2]\n",
    "    y_train = y[::2]\n",
    "    x_test = x[1::2]\n",
    "    y_test = y[1::2]\n",
    "    \n",
    "    return {\n",
    "        \"train\": (x_train, y_train),\n",
    "        \"test\": (x_test, y_test)\n",
    "    }\n",
    "\n"
   ]
  },
  {
   "cell_type": "code",
   "execution_count": 60,
   "id": "a4d0a285",
   "metadata": {},
   "outputs": [],
   "source": [
    "def test_final_loss(module_name, sol, lr, layers, neurons, num_iter):\n",
    "        \n",
    "    #define the dataset\n",
    "    dataset = data_4a_new1()\n",
    "    trainer = sol.Trainer(lr, layers,neurons)\n",
    "     \n",
    "    #initialize the network with \n",
    "    trainer.setup(dataset[\"train\"])\n",
    "    \n",
    "    #train the network\n",
    "    train_losses = trainer.train(num_iter=num_iter)\n",
    "    pred_train  = trainer.network.forward()\n",
    "    train_acc = compute_acc_sigmoid(pred_train, dataset[\"train\"][1])\n",
    "    \n",
    "    #Is final training loss less than some threshold?\n",
    "    \n",
    "    #test the data on hold-out set\n",
    "    trainer.data_layer.set_data(dataset[\"test\"][0])\n",
    "    pred = trainer.network.forward()\n",
    "    \n",
    "    #Is final training loss less than some threshold\n",
    "    test_acc = compute_acc_sigmoid(pred, dataset[\"test\"][1])\n",
    "    print(\"Test accuracy\", test_acc)\n",
    "    \n",
    "    return trainer, test_acc, pred, np.array(train_losses)[:,0]"
   ]
  },
  {
   "cell_type": "code",
   "execution_count": 57,
   "id": "4e1e5ce8",
   "metadata": {},
   "outputs": [
    {
     "data": {
      "text/plain": [
       "Text(0, 0.5, 'Y')"
      ]
     },
     "execution_count": 57,
     "metadata": {},
     "output_type": "execute_result"
    },
    {
     "data": {
      "image/png": "[encoded data removed]",
      "text/plain": [
       "<Figure size 432x288 with 1 Axes>"
      ]
     },
     "metadata": {},
     "output_type": "display_data"
    }
   ],
   "source": [
    "data = data_4a_new1()\n",
    "plt.scatter(data['train'][0], data['train'][1])\n",
    "plt.xlabel('X')\n",
    "plt.ylabel('Y')"
   ]
  },
  {
   "cell_type": "markdown",
   "id": "f38f0d63",
   "metadata": {},
   "source": [
    "#### Training loss converegence"
   ]
  },
  {
   "cell_type": "code",
   "execution_count": 61,
   "id": "cd89056d",
   "metadata": {},
   "outputs": [
    {
     "name": "stderr",
     "output_type": "stream",
     "text": [
      " 11%|█         | 1/9 [00:01<00:09,  1.22s/it]"
     ]
    },
    {
     "name": "stdout",
     "output_type": "stream",
     "text": [
      "Test accuracy 0.9666666666666667\n"
     ]
    },
    {
     "name": "stderr",
     "output_type": "stream",
     "text": [
      " 22%|██▏       | 2/9 [00:02<00:10,  1.53s/it]"
     ]
    },
    {
     "name": "stdout",
     "output_type": "stream",
     "text": [
      "Test accuracy 0.9933333333333333\n"
     ]
    },
    {
     "name": "stderr",
     "output_type": "stream",
     "text": [
      " 33%|███▎      | 3/9 [00:05<00:11,  1.84s/it]"
     ]
    },
    {
     "name": "stdout",
     "output_type": "stream",
     "text": [
      "Test accuracy 0.96\n"
     ]
    },
    {
     "name": "stderr",
     "output_type": "stream",
     "text": [
      " 44%|████▍     | 4/9 [00:07<00:11,  2.23s/it]"
     ]
    },
    {
     "name": "stdout",
     "output_type": "stream",
     "text": [
      "Test accuracy 0.9666666666666667\n"
     ]
    },
    {
     "name": "stderr",
     "output_type": "stream",
     "text": [
      " 56%|█████▌    | 5/9 [00:11<00:10,  2.63s/it]"
     ]
    },
    {
     "name": "stdout",
     "output_type": "stream",
     "text": [
      "Test accuracy 0.9666666666666667\n"
     ]
    },
    {
     "name": "stderr",
     "output_type": "stream",
     "text": [
      " 67%|██████▋   | 6/9 [00:15<00:09,  3.07s/it]"
     ]
    },
    {
     "name": "stdout",
     "output_type": "stream",
     "text": [
      "Test accuracy 0.9666666666666667\n"
     ]
    },
    {
     "name": "stderr",
     "output_type": "stream",
     "text": [
      " 78%|███████▊  | 7/9 [00:19<00:07,  3.56s/it]"
     ]
    },
    {
     "name": "stdout",
     "output_type": "stream",
     "text": [
      "Test accuracy 0.9666666666666667\n"
     ]
    },
    {
     "name": "stderr",
     "output_type": "stream",
     "text": [
      " 89%|████████▉ | 8/9 [00:26<00:04,  4.54s/it]"
     ]
    },
    {
     "name": "stdout",
     "output_type": "stream",
     "text": [
      "Test accuracy 0.7\n"
     ]
    },
    {
     "name": "stderr",
     "output_type": "stream",
     "text": [
      "100%|██████████| 9/9 [00:35<00:00,  3.95s/it]"
     ]
    },
    {
     "name": "stdout",
     "output_type": "stream",
     "text": [
      "Test accuracy 0.7\n"
     ]
    },
    {
     "name": "stderr",
     "output_type": "stream",
     "text": [
      "\n"
     ]
    }
   ],
   "source": [
    "layers = [2,3,4, 5,7, 8, 10, 15, 20]\n",
    "\n",
    "total_loss_list = []\n",
    "\n",
    "neurons = 5\n",
    "num_iter = 10000\n",
    "\n",
    "for layer in tqdm(layers) :\n",
    "    trainer, test_acc, pred, train_loss = test_final_loss(module_name, sol_4a, lr, layer, neurons, num_iter)\n",
    "    total_loss_list.append(train_loss)"
   ]
  },
  {
   "cell_type": "markdown",
   "id": "4ce0c225",
   "metadata": {},
   "source": [
    "#### Test accuracy\n",
    "Also, it is visible that the test accuracy increases till a point, however after increasing the number of parameters more there is a decrease in the test accuracy i.e it starts to overfit"
   ]
  },
  {
   "cell_type": "markdown",
   "id": "04f312c0",
   "metadata": {},
   "source": [
    "#### Loss Convergence Analysis"
   ]
  },
  {
   "cell_type": "code",
   "execution_count": 62,
   "id": "b6b5d063",
   "metadata": {},
   "outputs": [
    {
     "data": {
      "image/png": "[encoded data removed]",
      "text/plain": [
       "<Figure size 432x288 with 1 Axes>"
      ]
     },
     "metadata": {},
     "output_type": "display_data"
    }
   ],
   "source": [
    "for l, loss in zip(layers, total_loss_list):  \n",
    "    plt.plot(loss[0:30], label='Layer = {}'.format(l))\n",
    "\n",
    "plt.xlabel('Training iterations')\n",
    "plt.ylabel('Train loss')\n",
    "plt.legend()\n",
    "plt.show()\n"
   ]
  },
  {
   "cell_type": "markdown",
   "id": "3ee23081",
   "metadata": {},
   "source": [
    "### 4b. Generating the Linearly Separable Data High D"
   ]
  },
  {
   "cell_type": "markdown",
   "id": "5bc51ab1",
   "metadata": {},
   "source": [
    "The linearly separable high-dimensional data is generated almost similar to the previous case, but here the separability is maintained in both the axis. So, the range is $-m-1, -m$ is labelled as 0 and $m, m+1$ is labelled as 1 and like before 60 samples are generated"
   ]
  },
  {
   "cell_type": "code",
   "execution_count": 63,
   "id": "ba06ea1e",
   "metadata": {},
   "outputs": [],
   "source": [
    "def data_4b_new(margin):\n",
    "    \n",
    "    x = np.stack(np.linspace(-margin-1, -margin, 60).tolist() + np.linspace(margin, margin+1, 60).tolist())\n",
    "    x = x[:, np.newaxis]\n",
    "    y = np.where(x > 0, 1, 0)\n",
    "    x = np.repeat(x, 2, axis=1)\n",
    "    x_train = x[::2]\n",
    "    y_train = y[::2]\n",
    "    x_test = x[1::2]\n",
    "    y_test = y[1::2]\n",
    "    return {'train': (x_train, y_train), 'test': (x_test, y_test)}"
   ]
  },
  {
   "cell_type": "code",
   "execution_count": 64,
   "id": "eacdd319",
   "metadata": {},
   "outputs": [
    {
     "data": {
      "text/plain": [
       "Text(0, 0.5, 'Y')"
      ]
     },
     "execution_count": 64,
     "metadata": {},
     "output_type": "execute_result"
    },
    {
     "data": {
      "image/png": "[encoded data removed]",
      "text/plain": [
       "<Figure size 432x288 with 1 Axes>"
      ]
     },
     "metadata": {},
     "output_type": "display_data"
    }
   ],
   "source": [
    "margin = 1\n",
    "dataset = data_4b_new(margin)\n",
    "plt.scatter(dataset['train'][0][:,0], dataset['train'][1])\n",
    "plt.xlabel('feature 1')\n",
    "plt.ylabel('Y')"
   ]
  },
  {
   "cell_type": "code",
   "execution_count": 65,
   "id": "7566210c",
   "metadata": {},
   "outputs": [
    {
     "data": {
      "text/plain": [
       "Text(0, 0.5, 'Y')"
      ]
     },
     "execution_count": 65,
     "metadata": {},
     "output_type": "execute_result"
    },
    {
     "data": {
      "image/png": "[encoded data removed]",
      "text/plain": [
       "<Figure size 432x288 with 1 Axes>"
      ]
     },
     "metadata": {},
     "output_type": "display_data"
    }
   ],
   "source": [
    "margin = 1\n",
    "dataset = data_4b_new(margin)\n",
    "plt.scatter(dataset['train'][0][:,1], dataset['train'][1])\n",
    "plt.xlabel('feature 2')\n",
    "plt.ylabel('Y')"
   ]
  },
  {
   "cell_type": "code",
   "execution_count": 66,
   "id": "39f2aa48",
   "metadata": {},
   "outputs": [],
   "source": [
    "def test_final_loss(module_name, sol, lr, layers, neurons, num_iter, margin):\n",
    "        \n",
    "    #define the dataset\n",
    "    dataset = data_4b_new(margin)\n",
    "    trainer = sol.Trainer(lr, layers,neurons)\n",
    "     \n",
    "    #initialize the network with \n",
    "    trainer.setup(dataset[\"train\"])\n",
    "    \n",
    "    #train the network\n",
    "    train_losses = trainer.train(num_iter=num_iter)\n",
    "    pred_train  = trainer.network.forward()\n",
    "    train_acc = compute_acc_sigmoid(pred_train, dataset[\"train\"][1])\n",
    "    \n",
    "    #Is final training loss less than some threshold?\n",
    "    \n",
    "    #test the data on hold-out set\n",
    "    trainer.data_layer.set_data(dataset[\"test\"][0])\n",
    "    pred = trainer.network.forward()\n",
    "    \n",
    "    #Is final training loss less than some threshold\n",
    "    test_acc = compute_acc_sigmoid(pred, dataset[\"test\"][1])\n",
    "    print(\"Test accuracy\", test_acc)\n",
    "    \n",
    "    return trainer, test_acc, pred, np.array(train_losses)[:,0]"
   ]
  },
  {
   "cell_type": "markdown",
   "id": "a5a23905",
   "metadata": {},
   "source": [
    "#### Varying the margin of the dataset"
   ]
  },
  {
   "cell_type": "code",
   "execution_count": 67,
   "id": "6eda3d9d",
   "metadata": {},
   "outputs": [
    {
     "name": "stderr",
     "output_type": "stream",
     "text": [
      " 33%|███▎      | 2/6 [00:00<00:00,  5.92it/s]"
     ]
    },
    {
     "name": "stdout",
     "output_type": "stream",
     "text": [
      "Test accuracy 0.9833333333333333\n",
      "Test accuracy 1.0\n"
     ]
    },
    {
     "name": "stderr",
     "output_type": "stream",
     "text": [
      " 67%|██████▋   | 4/6 [00:00<00:00,  6.13it/s]"
     ]
    },
    {
     "name": "stdout",
     "output_type": "stream",
     "text": [
      "Test accuracy 1.0\n",
      "Test accuracy 1.0\n"
     ]
    },
    {
     "name": "stderr",
     "output_type": "stream",
     "text": [
      "100%|██████████| 6/6 [00:00<00:00,  6.11it/s]"
     ]
    },
    {
     "name": "stdout",
     "output_type": "stream",
     "text": [
      "Test accuracy 1.0\n",
      "Test accuracy 1.0\n"
     ]
    },
    {
     "name": "stderr",
     "output_type": "stream",
     "text": [
      "\n"
     ]
    }
   ],
   "source": [
    "margin_list = [0.0001, 0.01, 0.02,0.03, 0.1,1]\n",
    "total_loss_list = []\n",
    "\n",
    "layers = 3\n",
    "neurons = 5\n",
    "num_iter = 1000\n",
    "\n",
    "for margin in tqdm(margin_list) :\n",
    "    trainer, test_acc, pred, train_loss = test_final_loss(module_name, sol_4b, lr, layers, neurons, num_iter, margin)\n",
    "    total_loss_list.append(train_loss)"
   ]
  },
  {
   "cell_type": "markdown",
   "id": "7e3608de",
   "metadata": {},
   "source": [
    "#### Loss Convergence Analysis"
   ]
  },
  {
   "cell_type": "markdown",
   "id": "af0f18c1",
   "metadata": {},
   "source": [
    "#### Note : \n",
    "\n",
    "I am showing the plot for initial epochs to understand the convergence properly, otherwise it converges when i see the full number of iterations "
   ]
  },
  {
   "cell_type": "code",
   "execution_count": 68,
   "id": "63c2dfad",
   "metadata": {},
   "outputs": [
    {
     "data": {
      "image/png": "[encoded data removed]",
      "text/plain": [
       "<Figure size 432x288 with 1 Axes>"
      ]
     },
     "metadata": {},
     "output_type": "display_data"
    }
   ],
   "source": [
    "for m, loss in zip(margin_list, total_loss_list):  \n",
    "    plt.plot(loss[0:90], label='Margin = {}'.format(m))\n",
    "\n",
    "plt.xlabel('Training iterations')\n",
    "plt.ylabel('Train loss')\n",
    "plt.legend()\n",
    "plt.show()\n"
   ]
  },
  {
   "cell_type": "markdown",
   "id": "46d3e4a0",
   "metadata": {},
   "source": [
    "### Analysis 4b - p1\n",
    "\n",
    "Interesting, it can be seen that the test accuracy increases with the margin and as the margin increases, it increases quickly. However, after a point it doesn't matter and even though we increase the margin, the model is gicing the best test acuuracy.\n",
    "##### Intuition: It has learnt the highest margin boundary like SVM.\n",
    "\n",
    "Even for the loss convergence analysis, we see that with increasing margin, the speed of convergence increases and network quickly converges to the optimal"
   ]
  },
  {
   "cell_type": "code",
   "execution_count": null,
   "id": "29ad33be",
   "metadata": {},
   "outputs": [],
   "source": []
  },
  {
   "cell_type": "markdown",
   "id": "43957a5c",
   "metadata": {},
   "source": [
    "### Varying the number of hidden layers of the dataset"
   ]
  },
  {
   "cell_type": "code",
   "execution_count": 69,
   "id": "32601651",
   "metadata": {
    "scrolled": true
   },
   "outputs": [
    {
     "name": "stderr",
     "output_type": "stream",
     "text": [
      " 12%|█▎        | 1/8 [00:01<00:07,  1.12s/it]"
     ]
    },
    {
     "name": "stdout",
     "output_type": "stream",
     "text": [
      "Test accuracy 1.0\n"
     ]
    },
    {
     "name": "stderr",
     "output_type": "stream",
     "text": [
      " 25%|██▌       | 2/8 [00:02<00:08,  1.37s/it]"
     ]
    },
    {
     "name": "stdout",
     "output_type": "stream",
     "text": [
      "Test accuracy 1.0\n"
     ]
    },
    {
     "name": "stderr",
     "output_type": "stream",
     "text": [
      " 38%|███▊      | 3/8 [00:04<00:08,  1.68s/it]"
     ]
    },
    {
     "name": "stdout",
     "output_type": "stream",
     "text": [
      "Test accuracy 1.0\n"
     ]
    },
    {
     "name": "stderr",
     "output_type": "stream",
     "text": [
      " 50%|█████     | 4/8 [00:08<00:09,  2.36s/it]"
     ]
    },
    {
     "name": "stdout",
     "output_type": "stream",
     "text": [
      "Test accuracy 1.0\n"
     ]
    },
    {
     "name": "stderr",
     "output_type": "stream",
     "text": [
      " 62%|██████▎   | 5/8 [00:11<00:08,  2.85s/it]"
     ]
    },
    {
     "name": "stdout",
     "output_type": "stream",
     "text": [
      "Test accuracy 1.0\n"
     ]
    },
    {
     "name": "stderr",
     "output_type": "stream",
     "text": [
      " 75%|███████▌  | 6/8 [00:15<00:06,  3.21s/it]"
     ]
    },
    {
     "name": "stdout",
     "output_type": "stream",
     "text": [
      "Test accuracy 0.5\n"
     ]
    },
    {
     "name": "stderr",
     "output_type": "stream",
     "text": [
      " 88%|████████▊ | 7/8 [00:20<00:03,  3.81s/it]"
     ]
    },
    {
     "name": "stdout",
     "output_type": "stream",
     "text": [
      "Test accuracy 1.0\n"
     ]
    },
    {
     "name": "stderr",
     "output_type": "stream",
     "text": [
      "100%|██████████| 8/8 [00:28<00:00,  3.54s/it]"
     ]
    },
    {
     "name": "stdout",
     "output_type": "stream",
     "text": [
      "Test accuracy 0.5\n"
     ]
    },
    {
     "name": "stderr",
     "output_type": "stream",
     "text": [
      "\n"
     ]
    }
   ],
   "source": [
    "layers = [2,3,4, 5,7, 8, 10, 15]\n",
    "\n",
    "total_loss_list = []\n",
    "\n",
    "margin = 1\n",
    "neurons = 5\n",
    "lr = 0.1\n",
    "num_iter = 10000\n",
    "\n",
    "for layer in tqdm(layers) :\n",
    "    trainer, test_acc, pred, train_loss = test_final_loss(module_name, sol_4b, lr, layer, neurons, num_iter, margin)\n",
    "    total_loss_list.append(train_loss)"
   ]
  },
  {
   "cell_type": "code",
   "execution_count": 70,
   "id": "251cf23c",
   "metadata": {},
   "outputs": [
    {
     "data": {
      "image/png": "[encoded data removed]",
      "text/plain": [
       "<Figure size 432x288 with 1 Axes>"
      ]
     },
     "metadata": {},
     "output_type": "display_data"
    }
   ],
   "source": [
    "for l, loss in zip(layers, total_loss_list):  \n",
    "    plt.plot(loss[0:90], label='Layer = {}'.format(l))\n",
    "\n",
    "plt.xlabel('Training iterations')\n",
    "plt.ylabel('Train loss')\n",
    "plt.legend()\n",
    "plt.show()\n"
   ]
  },
  {
   "cell_type": "code",
   "execution_count": null,
   "id": "f5c8689b",
   "metadata": {},
   "outputs": [],
   "source": []
  },
  {
   "cell_type": "markdown",
   "id": "540eb8b5",
   "metadata": {},
   "source": [
    "### 4b. Generating the Non-Linearly Separable Data High D¶"
   ]
  },
  {
   "cell_type": "markdown",
   "id": "b5cffe40",
   "metadata": {},
   "source": [
    "In this case of generating the data, non linearly we deifine two univariate gaussian $x, y \\sim N(0,1)$ and define a latent condition $2x_1^2 + 3x^2 >0, y= 1$ else $y=0$ which defines the non linear decission boundary"
   ]
  },
  {
   "cell_type": "code",
   "execution_count": 71,
   "id": "b1252290",
   "metadata": {},
   "outputs": [],
   "source": [
    "def data_4b_new1():\n",
    "    \n",
    "    lamda = 2\n",
    "    #Partitions to split the N observations.\n",
    "    x1 = np.random.normal(0, 1, 300)\n",
    "    x2 = np.random.normal(0, 1, 300)\n",
    "    \n",
    "    # save toy dataset\n",
    "    x_full = np.vstack((x1, x2)).T\n",
    "    y_full = np.where(2*x1**2 + 3*x2  > 0, 1, 0)\n",
    "    x_train = x_full[::2]\n",
    "    y_train = y_full[::2]\n",
    "    x_test = x_full[1::2]\n",
    "    y_test = y_full[1::2]\n",
    "   \n",
    "    \n",
    "    #get the final\n",
    "    return {\n",
    "        \"train\": (x_train, y_train.reshape(-1,1)),\n",
    "        \"test\": (x_test, y_test.reshape(-1,1))\n",
    "    }\n"
   ]
  },
  {
   "cell_type": "code",
   "execution_count": 72,
   "id": "24f74206",
   "metadata": {},
   "outputs": [],
   "source": [
    "dataset = data_4b_new1()\n",
    "df = pd.DataFrame()\n",
    "df['feat1'] = dataset['train'][0][:,0]\n",
    "df['feat2'] = dataset['train'][0][:,1]\n",
    "df['response'] = dataset['train'][1]"
   ]
  },
  {
   "cell_type": "code",
   "execution_count": 73,
   "id": "6695981e",
   "metadata": {},
   "outputs": [
    {
     "data": {
      "text/plain": [
       "<AxesSubplot:xlabel='feat1', ylabel='feat2'>"
      ]
     },
     "execution_count": 73,
     "metadata": {},
     "output_type": "execute_result"
    },
    {
     "data": {
      "image/png": "[encoded data removed]",
      "text/plain": [
       "<Figure size 432x288 with 1 Axes>"
      ]
     },
     "metadata": {},
     "output_type": "display_data"
    }
   ],
   "source": [
    "sns.scatterplot(data=df, x=\"feat1\", y=\"feat2\", hue=\"response\")"
   ]
  },
  {
   "cell_type": "markdown",
   "id": "0eec9d51",
   "metadata": {},
   "source": [
    "#### Varying the Layers"
   ]
  },
  {
   "cell_type": "code",
   "execution_count": 74,
   "id": "406ad8ac",
   "metadata": {},
   "outputs": [],
   "source": [
    "def test_final_loss(module_name, sol, lr, layers, neurons, num_iter):\n",
    "        \n",
    "    #define the dataset\n",
    "    dataset = data_4b_new1()\n",
    "    trainer = sol.Trainer(lr, layers,neurons)\n",
    "     \n",
    "    #initialize the network with \n",
    "    trainer.setup(dataset[\"train\"])\n",
    "    \n",
    "    #train the network\n",
    "    train_losses = trainer.train(num_iter=num_iter)\n",
    "    pred_train  = trainer.network.forward()\n",
    "    train_acc = compute_acc_sigmoid(pred_train, dataset[\"train\"][1])\n",
    "    \n",
    "    #Is final training loss less than some threshold?\n",
    "    \n",
    "    #test the data on hold-out set\n",
    "    trainer.data_layer.set_data(dataset[\"test\"][0])\n",
    "    pred = trainer.network.forward()\n",
    "    \n",
    "    #Is final training loss less than some threshold\n",
    "    test_acc = compute_acc_sigmoid(pred, dataset[\"test\"][1])\n",
    "    print(\"Test accuracy\", test_acc)\n",
    "    \n",
    "    return trainer, test_acc, pred, np.array(train_losses)[:,0]"
   ]
  },
  {
   "cell_type": "code",
   "execution_count": 75,
   "id": "871b8244",
   "metadata": {},
   "outputs": [
    {
     "name": "stderr",
     "output_type": "stream",
     "text": [
      " 10%|█         | 1/10 [00:01<00:16,  1.78s/it]"
     ]
    },
    {
     "name": "stdout",
     "output_type": "stream",
     "text": [
      "Test accuracy 0.9813333333333333\n"
     ]
    },
    {
     "name": "stderr",
     "output_type": "stream",
     "text": [
      " 20%|██        | 2/10 [00:04<00:16,  2.11s/it]"
     ]
    },
    {
     "name": "stdout",
     "output_type": "stream",
     "text": [
      "Test accuracy 0.9866666666666667\n"
     ]
    },
    {
     "name": "stderr",
     "output_type": "stream",
     "text": [
      " 30%|███       | 3/10 [00:07<00:17,  2.51s/it]"
     ]
    },
    {
     "name": "stdout",
     "output_type": "stream",
     "text": [
      "Test accuracy 0.9933333333333333\n"
     ]
    },
    {
     "name": "stderr",
     "output_type": "stream",
     "text": [
      " 40%|████      | 4/10 [00:10<00:17,  2.99s/it]"
     ]
    },
    {
     "name": "stdout",
     "output_type": "stream",
     "text": [
      "Test accuracy 0.9866666666666667\n"
     ]
    },
    {
     "name": "stderr",
     "output_type": "stream",
     "text": [
      " 50%|█████     | 5/10 [00:16<00:19,  3.95s/it]"
     ]
    },
    {
     "name": "stdout",
     "output_type": "stream",
     "text": [
      "Test accuracy 0.9653333333333334\n"
     ]
    },
    {
     "name": "stderr",
     "output_type": "stream",
     "text": [
      " 60%|██████    | 6/10 [00:22<00:18,  4.50s/it]"
     ]
    },
    {
     "name": "stdout",
     "output_type": "stream",
     "text": [
      "Test accuracy 0.6533333333333333\n"
     ]
    },
    {
     "name": "stderr",
     "output_type": "stream",
     "text": [
      " 70%|███████   | 7/10 [00:28<00:15,  5.21s/it]"
     ]
    },
    {
     "name": "stdout",
     "output_type": "stream",
     "text": [
      "Test accuracy 0.66\n"
     ]
    },
    {
     "name": "stderr",
     "output_type": "stream",
     "text": [
      " 80%|████████  | 8/10 [00:38<00:13,  6.68s/it]"
     ]
    },
    {
     "name": "stdout",
     "output_type": "stream",
     "text": [
      "Test accuracy 0.7\n"
     ]
    },
    {
     "name": "stderr",
     "output_type": "stream",
     "text": [
      " 90%|█████████ | 9/10 [00:51<00:08,  8.48s/it]"
     ]
    },
    {
     "name": "stdout",
     "output_type": "stream",
     "text": [
      "Test accuracy 0.6866666666666666\n"
     ]
    },
    {
     "name": "stderr",
     "output_type": "stream",
     "text": [
      "100%|██████████| 10/10 [01:22<00:00,  8.29s/it]"
     ]
    },
    {
     "name": "stdout",
     "output_type": "stream",
     "text": [
      "Test accuracy 0.7266666666666667\n"
     ]
    },
    {
     "name": "stderr",
     "output_type": "stream",
     "text": [
      "\n"
     ]
    }
   ],
   "source": [
    "layers = [2,3,4, 5,7, 8, 10, 15, 20, 50]\n",
    "\n",
    "total_loss_list = []\n",
    "\n",
    "neurons = 5\n",
    "num_iter = 10000\n",
    "\n",
    "for layer in tqdm(layers) :\n",
    "    trainer, test_acc, pred, train_loss = test_final_loss(module_name, sol_4a, lr, layer, neurons, num_iter)\n",
    "    total_loss_list.append(train_loss)"
   ]
  },
  {
   "cell_type": "markdown",
   "id": "4f048c57",
   "metadata": {},
   "source": [
    "#### Varying Learning rate"
   ]
  },
  {
   "cell_type": "code",
   "execution_count": 76,
   "id": "c64a4541",
   "metadata": {},
   "outputs": [
    {
     "name": "stderr",
     "output_type": "stream",
     "text": [
      " 14%|█▍        | 1/7 [00:03<00:21,  3.64s/it]"
     ]
    },
    {
     "name": "stdout",
     "output_type": "stream",
     "text": [
      "Test accuracy 0.68\n"
     ]
    },
    {
     "name": "stderr",
     "output_type": "stream",
     "text": [
      " 29%|██▊       | 2/7 [00:07<00:18,  3.61s/it]"
     ]
    },
    {
     "name": "stdout",
     "output_type": "stream",
     "text": [
      "Test accuracy 0.9373333333333334\n"
     ]
    },
    {
     "name": "stderr",
     "output_type": "stream",
     "text": [
      " 43%|████▎     | 3/7 [00:11<00:14,  3.69s/it]"
     ]
    },
    {
     "name": "stdout",
     "output_type": "stream",
     "text": [
      "Test accuracy 0.9733333333333334\n"
     ]
    },
    {
     "name": "stderr",
     "output_type": "stream",
     "text": [
      " 57%|█████▋    | 4/7 [00:14<00:11,  3.67s/it]"
     ]
    },
    {
     "name": "stdout",
     "output_type": "stream",
     "text": [
      "Test accuracy 0.96\n"
     ]
    },
    {
     "name": "stderr",
     "output_type": "stream",
     "text": [
      " 71%|███████▏  | 5/7 [00:18<00:07,  3.61s/it]"
     ]
    },
    {
     "name": "stdout",
     "output_type": "stream",
     "text": [
      "Test accuracy 0.9666666666666667\n"
     ]
    },
    {
     "name": "stderr",
     "output_type": "stream",
     "text": [
      " 86%|████████▌ | 6/7 [00:21<00:03,  3.58s/it]"
     ]
    },
    {
     "name": "stdout",
     "output_type": "stream",
     "text": [
      "Test accuracy 0.9666666666666667\n"
     ]
    },
    {
     "name": "stderr",
     "output_type": "stream",
     "text": [
      "100%|██████████| 7/7 [00:25<00:00,  3.60s/it]"
     ]
    },
    {
     "name": "stdout",
     "output_type": "stream",
     "text": [
      "Test accuracy 0.8066666666666666\n"
     ]
    },
    {
     "name": "stderr",
     "output_type": "stream",
     "text": [
      "\n"
     ]
    }
   ],
   "source": [
    "lr_list = [0.0001, 0.001, 0.002, 0.01, 0.1, 0.5, 1]\n",
    "total_loss_list = []\n",
    "\n",
    "neurons = 5\n",
    "layer = 5\n",
    "num_iter = 10000\n",
    "\n",
    "for lr in tqdm(lr_list) :\n",
    "    trainer, test_acc, pred, train_loss = test_final_loss(module_name, sol_4a, lr, layer, neurons, num_iter)\n",
    "    total_loss_list.append(train_loss)"
   ]
  },
  {
   "cell_type": "markdown",
   "id": "507f1696",
   "metadata": {},
   "source": [
    "#### Analysis : \n",
    "\n",
    "+ It is very intuitive to see and understand that as we increase the number of layers, the test accuracy increases till a point but then it decreases due to overfitting. \n",
    "\n",
    "+ Also, for the non-linear separable and high dimensional cases the learning rate was a bit sensitive to very low or very high values. Hence, the learning rate should be in range of [0.01, 0.1], to have the most stable performance"
   ]
  },
  {
   "cell_type": "code",
   "execution_count": null,
   "id": "eaa394a3",
   "metadata": {},
   "outputs": [],
   "source": []
  },
  {
   "cell_type": "markdown",
   "id": "9514d416",
   "metadata": {},
   "source": [
    "#### 5. MNIST Data Analysis"
   ]
  },
  {
   "cell_type": "code",
   "execution_count": 78,
   "id": "5d410f0d",
   "metadata": {},
   "outputs": [],
   "source": [
    "mnist = np.load(\"/Users/schakra3/PS1_828L/mnist.pkl\", allow_pickle=True)\n",
    "x_train = mnist[\"training_images\"]\n",
    "y_train = mnist[\"training_labels\"]\n",
    "x_test = mnist[\"test_images\"]\n",
    "y_test = mnist[\"test_labels\"]\n",
    "trainer = sol_mnist.Trainer()\n",
    "\n"
   ]
  },
  {
   "cell_type": "code",
   "execution_count": 81,
   "id": "4bb11914",
   "metadata": {},
   "outputs": [],
   "source": [
    "def compute_acc_softmax(pred, y):\n",
    "  y_pred = np.argmax(pred, axis=-1)\n",
    "  return (y == y_pred).mean()"
   ]
  },
  {
   "cell_type": "code",
   "execution_count": 83,
   "id": "c5f89522",
   "metadata": {},
   "outputs": [
    {
     "name": "stdout",
     "output_type": "stream",
     "text": [
      "0.9373\n"
     ]
    }
   ],
   "source": [
    "trainer.setup((x_train, y_train))\n",
    "trainer.network.load_state_dict(np.load(\"mnist_weight.npz\", allow_pickle=True)[\"weight\"])\n",
    "\n",
    "trainer.data_layer.set_data(x_test)\n",
    "#Is final training loss less than some threshold?\n",
    "pred = trainer.network.forward()\n",
    "acc = compute_acc_softmax(pred, y_test)\n",
    "print (acc)"
   ]
  },
  {
   "cell_type": "markdown",
   "id": "7418a9ec",
   "metadata": {},
   "source": [
    "I use node_list = [20,20,20,20,10], n_layers = 5 , batch_size = 128 and randomly sample batches and train for 20,000 iterations. The test accuracy received is 94% as shown\n"
   ]
  },
  {
   "cell_type": "code",
   "execution_count": null,
   "id": "582b9d8c",
   "metadata": {},
   "outputs": [],
   "source": []
  }
 ],
 "metadata": {
  "kernelspec": {
   "display_name": "Python 3",
   "language": "python",
   "name": "python3"
  },
  "language_info": {
   "codemirror_mode": {
    "name": "ipython",
    "version": 3
   },
   "file_extension": ".py",
   "mimetype": "text/x-python",
   "name": "python",
   "nbconvert_exporter": "python",
   "pygments_lexer": "ipython3",
   "version": "3.8.8"
  }
 },
 "nbformat": 4,
 "nbformat_minor": 5
}
